{
 "cells": [
  {
   "cell_type": "code",
   "execution_count": 81,
   "metadata": {},
   "outputs": [
    {
     "name": "stdout",
     "output_type": "stream",
     "text": [
      "The autoreload extension is already loaded. To reload it, use:\n",
      "  %reload_ext autoreload\n"
     ]
    }
   ],
   "source": [
    "import pandas as pd\n",
    "import numpy as np\n",
    "from pyemd import emd_samples\n",
    "from IPython.display import display\n",
    "\n",
    "# To import packages from the parent directory\n",
    "import sys\n",
    "sys.path.insert(0,'..')\n",
    "\n",
    "# Autoreload allows us to update our code mid-notebook\n",
    "%load_ext autoreload\n",
    "%autoreload 2\n",
    "\n",
    "# Our code\n",
    "import processing\n",
    "import visualization"
   ]
  },
  {
   "cell_type": "code",
   "execution_count": 26,
   "metadata": {},
   "outputs": [
    {
     "name": "stdout",
     "output_type": "stream",
     "text": [
      "Length of df: 496\n"
     ]
    }
   ],
   "source": [
    "df = pd.read_pickle('../data/sample_morphologies.pickle')\n",
    "print(f'Length of df: {len(df)}')"
   ]
  },
  {
   "cell_type": "code",
   "execution_count": 27,
   "metadata": {},
   "outputs": [],
   "source": [
    "final_states = []\n",
    "for grouping, group in df.groupby(['BR', 'CHI', 'version']):\n",
    "    final_state = group[group.timestep == max(group.timestep)].iloc[0]\n",
    "    final_states.append(final_state)\n",
    "    \n",
    "df_finals = pd.DataFrame(final_states)"
   ]
  },
  {
   "cell_type": "code",
   "execution_count": 59,
   "metadata": {},
   "outputs": [
    {
     "data": {
      "text/plain": [
       "BR                                                       0.56\n",
       "CHI                                                       3.4\n",
       "count                                                     166\n",
       "image       [0.05490177869796753, 0.471236914396286, 0.918...\n",
       "timestep                                                  150\n",
       "version                                                     0\n",
       "Name: 224, dtype: object"
      ]
     },
     "execution_count": 59,
     "metadata": {},
     "output_type": "execute_result"
    }
   ],
   "source": [
    "df_finals.iloc[40]"
   ]
  },
  {
   "cell_type": "code",
   "execution_count": 66,
   "metadata": {},
   "outputs": [
    {
     "data": {
      "text/plain": [
       "BR                                                        0.5\n",
       "CHI                                                       3.4\n",
       "count                                                     287\n",
       "image       [0.9672163724899292, 0.9605730772018433, 0.961...\n",
       "timestep                                                  275\n",
       "version                                                     0\n",
       "Name: 394, dtype: object"
      ]
     },
     "execution_count": 66,
     "metadata": {},
     "output_type": "execute_result"
    }
   ],
   "source": [
    "df_finals.iloc[8]"
   ]
  },
  {
   "cell_type": "code",
   "execution_count": 64,
   "metadata": {},
   "outputs": [
    {
     "data": {
      "text/plain": [
       "BR                                                       0.59\n",
       "CHI                                                       2.8\n",
       "count                                                     263\n",
       "image       [0.08619406819343567, 0.08618982136249542, 0.0...\n",
       "timestep                                                  250\n",
       "version                                                     0\n",
       "Name: 259, dtype: object"
      ]
     },
     "execution_count": 64,
     "metadata": {},
     "output_type": "execute_result"
    }
   ],
   "source": [
    "df_finals.iloc[52]"
   ]
  },
  {
   "cell_type": "code",
   "execution_count": 71,
   "metadata": {},
   "outputs": [
    {
     "data": {
      "application/vnd.jupyter.widget-view+json": {
       "model_id": "1effab9cae66495c9752d9073598a1f7",
       "version_major": 2,
       "version_minor": 0
      },
      "text/plain": [
       "FigureWidget({\n",
       "    'data': [{'hoverinfo': 'none',\n",
       "              'showscale': False,\n",
       "              'type': 'hea…"
      ]
     },
     "metadata": {},
     "output_type": "display_data"
    },
    {
     "data": {
      "application/vnd.jupyter.widget-view+json": {
       "model_id": "2abee0550c0440a396e4abaca80bec37",
       "version_major": 2,
       "version_minor": 0
      },
      "text/plain": [
       "FigureWidget({\n",
       "    'data': [{'hoverinfo': 'none',\n",
       "              'showscale': False,\n",
       "              'type': 'hea…"
      ]
     },
     "metadata": {},
     "output_type": "display_data"
    },
    {
     "data": {
      "application/vnd.jupyter.widget-view+json": {
       "model_id": "482a0cf8093047e4922be79c6d2942b7",
       "version_major": 2,
       "version_minor": 0
      },
      "text/plain": [
       "FigureWidget({\n",
       "    'data': [{'hoverinfo': 'none',\n",
       "              'showscale': False,\n",
       "              'type': 'hea…"
      ]
     },
     "metadata": {},
     "output_type": "display_data"
    }
   ],
   "source": [
    "sample_x = df_finals.iloc[40].image.reshape((100, 400))\n",
    "sample_y = df_finals.iloc[8].image.reshape((100, 400))\n",
    "sample_z = df_finals.iloc[52].image.reshape((100, 400))\n",
    "\n",
    "display(visualization.get_image_figure(sample_x))\n",
    "display(visualization.get_image_figure(sample_y))\n",
    "display(visualization.get_image_figure(sample_z))"
   ]
  },
  {
   "cell_type": "code",
   "execution_count": 72,
   "metadata": {},
   "outputs": [
    {
     "name": "stdout",
     "output_type": "stream",
     "text": [
      "emd_xy: 0.0966751026163832\n",
      "emd_yz: 0.02066419410407383\n",
      "emd_zx: 0.08997156016455239\n"
     ]
    }
   ],
   "source": [
    "components_x = processing.extract_components(sample_x, background=1)\n",
    "components_y = processing.extract_components(sample_y, background=1)\n",
    "components_z = processing.extract_components(sample_z, background=1)\n",
    "\n",
    "sigs_x = processing.apply_to_components(components_x, processing.perimeter_area_ratio_sig)\n",
    "sigs_y = processing.apply_to_components(components_y, processing.perimeter_area_ratio_sig)\n",
    "sigs_z = processing.apply_to_components(components_z, processing.perimeter_area_ratio_sig)\n",
    "\n",
    "emd_xy = emd_samples(sigs_x, sigs_y)\n",
    "emd_yz = emd_samples(sigs_y, sigs_z)\n",
    "emd_zx = emd_samples(sigs_z, sigs_x)\n",
    "\n",
    "print(f'emd_xy: {emd_xy}')\n",
    "print(f'emd_yz: {emd_yz}')\n",
    "print(f'emd_zx: {emd_zx}')"
   ]
  },
  {
   "cell_type": "markdown",
   "metadata": {},
   "source": [
    "# Similarity Query\n",
    "\n",
    "Sort the dataset be most/least similar."
   ]
  },
  {
   "cell_type": "markdown",
   "metadata": {},
   "source": [
    "First, calculate signatures for each sample:"
   ]
  },
  {
   "cell_type": "code",
   "execution_count": 73,
   "metadata": {},
   "outputs": [],
   "source": [
    "df_sigs = df_finals.copy()\n",
    "df_sigs['perimeter_area_ratio_sig'] = np.empty(len(df_sigs), dtype=np.object)\n",
    "df_sigs['rect_area_ratio_sig'] = np.empty(len(df_sigs), dtype=np.object)\n",
    "\n",
    "for idx, row in df_sigs.iterrows():\n",
    "    sample = row.image.reshape((100, 400))\n",
    "    components = processing.extract_components(sample, background=1)    \n",
    "    df_sigs.at[\n",
    "        idx,\n",
    "        'perimeter_area_ratio_sig'\n",
    "    ] = processing.apply_to_components(components, processing.perimeter_area_ratio_sig)\n",
    "    df_sigs.at[\n",
    "        idx,\n",
    "        'rect_area_ratio_sig'\n",
    "    ] = processing.apply_to_components(components, processing.rect_area_ratio_sig)"
   ]
  },
  {
   "cell_type": "code",
   "execution_count": 74,
   "metadata": {},
   "outputs": [
    {
     "data": {
      "text/plain": [
       "array([0.5 , 0.53, 0.56, 0.59])"
      ]
     },
     "execution_count": 74,
     "metadata": {},
     "output_type": "execute_result"
    }
   ],
   "source": [
    "df_sigs.BR.unique()"
   ]
  },
  {
   "cell_type": "code",
   "execution_count": 75,
   "metadata": {},
   "outputs": [
    {
     "data": {
      "text/plain": [
       "array([2.2, 2.8, 3.4, 4. ])"
      ]
     },
     "execution_count": 75,
     "metadata": {},
     "output_type": "execute_result"
    }
   ],
   "source": [
    "df_sigs.CHI.unique()"
   ]
  },
  {
   "cell_type": "markdown",
   "metadata": {},
   "source": [
    "We will be querying based on this input sample:"
   ]
  },
  {
   "cell_type": "code",
   "execution_count": 76,
   "metadata": {},
   "outputs": [
    {
     "name": "stdout",
     "output_type": "stream",
     "text": [
      "BR                                                       0.59\n",
      "CHI                                                       2.8\n",
      "count                                                     263\n",
      "image       [0.08619406819343567, 0.08618982136249542, 0.0...\n",
      "timestep                                                  250\n",
      "version                                                     0\n",
      "Name: 259, dtype: object\n"
     ]
    },
    {
     "data": {
      "application/vnd.jupyter.widget-view+json": {
       "model_id": "6675b6cefdd449e091f54330a63ab463",
       "version_major": 2,
       "version_minor": 0
      },
      "text/plain": [
       "FigureWidget({\n",
       "    'data': [{'hoverinfo': 'none',\n",
       "              'showscale': False,\n",
       "              'type': 'hea…"
      ]
     },
     "metadata": {},
     "output_type": "display_data"
    }
   ],
   "source": [
    "sample_z = df_finals.iloc[52]\n",
    "print(sample_z)\n",
    "display(visualization.get_image_figure(sample_z.image.reshape((100, 400))))"
   ]
  },
  {
   "cell_type": "markdown",
   "metadata": {},
   "source": [
    "Calculate EMD between query sample signatures and database signatures."
   ]
  },
  {
   "cell_type": "code",
   "execution_count": 77,
   "metadata": {},
   "outputs": [],
   "source": [
    "df_sigs['emd_perimeter_area_ratio_sig'] = np.empty(len(df_sigs), dtype=np.object)\n",
    "df_sigs['emd_rect_area_ratio_sig'] = np.empty(len(df_sigs), dtype=np.object)\n",
    "perimeter_area_ratio_sig_z = processing.apply_to_components(components_z, processing.perimeter_area_ratio_sig)\n",
    "rect_area_ratio_sig_z = processing.apply_to_components(components_z, processing.rect_area_ratio_sig)\n",
    "\n",
    "for idx, row in df_sigs.iterrows():\n",
    "    df_sigs.at[idx, 'emd_perimeter_area_ratio_sig'] = emd_samples(\n",
    "        row.perimeter_area_ratio_sig,\n",
    "        perimeter_area_ratio_sig_z\n",
    "    )\n",
    "    df_sigs.at[idx, 'emd_rect_area_ratio_sig'] = emd_samples(\n",
    "        row.rect_area_ratio_sig,\n",
    "        rect_area_ratio_sig_z\n",
    "    )"
   ]
  },
  {
   "cell_type": "markdown",
   "metadata": {},
   "source": [
    "Display the most similar/dissimilar images for each signature."
   ]
  },
  {
   "cell_type": "code",
   "execution_count": 85,
   "metadata": {},
   "outputs": [
    {
     "name": "stdout",
     "output_type": "stream",
     "text": [
      "emd_perimeter_area_ratio_sig:\n",
      "BR                                                                           0.59\n",
      "CHI                                                                           2.8\n",
      "count                                                                         263\n",
      "image                           [0.08619406819343567, 0.08618982136249542, 0.0...\n",
      "timestep                                                                      250\n",
      "version                                                                         0\n",
      "perimeter_area_ratio_sig        [0.5453429643792055, 0.42374368670764573, 0.93...\n",
      "rect_area_ratio_sig             [0.5357142857142857, 0.5612244897959183, 0.625...\n",
      "emd_perimeter_area_ratio_sig                                                    0\n",
      "emd_rect_area_ratio_sig                                                         0\n",
      "Name: 259, dtype: object\n"
     ]
    },
    {
     "data": {
      "application/vnd.jupyter.widget-view+json": {
       "model_id": "8e02cd37323340579753292da0369080",
       "version_major": 2,
       "version_minor": 0
      },
      "text/plain": [
       "FigureWidget({\n",
       "    'data': [{'hoverinfo': 'none',\n",
       "              'showscale': False,\n",
       "              'type': 'hea…"
      ]
     },
     "metadata": {},
     "output_type": "display_data"
    },
    {
     "name": "stdout",
     "output_type": "stream",
     "text": [
      "emd_rect_area_ratio_sig:\n",
      "BR                                                                           0.59\n",
      "CHI                                                                           2.8\n",
      "count                                                                         263\n",
      "image                           [0.08619406819343567, 0.08618982136249542, 0.0...\n",
      "timestep                                                                      250\n",
      "version                                                                         0\n",
      "perimeter_area_ratio_sig        [0.5453429643792055, 0.42374368670764573, 0.93...\n",
      "rect_area_ratio_sig             [0.5357142857142857, 0.5612244897959183, 0.625...\n",
      "emd_perimeter_area_ratio_sig                                                    0\n",
      "emd_rect_area_ratio_sig                                                         0\n",
      "Name: 259, dtype: object\n"
     ]
    },
    {
     "data": {
      "application/vnd.jupyter.widget-view+json": {
       "model_id": "fe6c513d3712474eabafd73c41fd27f3",
       "version_major": 2,
       "version_minor": 0
      },
      "text/plain": [
       "FigureWidget({\n",
       "    'data': [{'hoverinfo': 'none',\n",
       "              'showscale': False,\n",
       "              'type': 'hea…"
      ]
     },
     "metadata": {},
     "output_type": "display_data"
    },
    {
     "name": "stdout",
     "output_type": "stream",
     "text": [
      "\n",
      "====================================================\n",
      "\n",
      "emd_perimeter_area_ratio_sig:\n",
      "BR                                                                            0.5\n",
      "CHI                                                                           3.4\n",
      "count                                                                         287\n",
      "image                           [0.9672163724899292, 0.9605730772018433, 0.961...\n",
      "timestep                                                                      275\n",
      "version                                                                         0\n",
      "perimeter_area_ratio_sig        [0.2814185431418234, 0.22127872410073543, 0.22...\n",
      "rect_area_ratio_sig             [0.47039473684210525, 0.014538461538461538, 0....\n",
      "emd_perimeter_area_ratio_sig                                            0.0206642\n",
      "emd_rect_area_ratio_sig                                                  0.173196\n",
      "Name: 394, dtype: object\n"
     ]
    },
    {
     "data": {
      "application/vnd.jupyter.widget-view+json": {
       "model_id": "3391f043e092457596d873326bd8d3df",
       "version_major": 2,
       "version_minor": 0
      },
      "text/plain": [
       "FigureWidget({\n",
       "    'data': [{'hoverinfo': 'none',\n",
       "              'showscale': False,\n",
       "              'type': 'hea…"
      ]
     },
     "metadata": {},
     "output_type": "display_data"
    },
    {
     "name": "stdout",
     "output_type": "stream",
     "text": [
      "emd_rect_area_ratio_sig:\n",
      "BR                                                                           0.59\n",
      "CHI                                                                           2.2\n",
      "count                                                                          48\n",
      "image                           [0.6712865829467773, 0.6950507760047913, 0.710...\n",
      "timestep                                                                       25\n",
      "version                                                                         2\n",
      "perimeter_area_ratio_sig        [0.5694251482381063, 0.6674563090207275, 0.457...\n",
      "rect_area_ratio_sig             [0.509090909090909, 0.46875, 0.584415584415584...\n",
      "emd_perimeter_area_ratio_sig                                            0.0662628\n",
      "emd_rect_area_ratio_sig                                                  0.016759\n",
      "Name: 154, dtype: object\n"
     ]
    },
    {
     "data": {
      "application/vnd.jupyter.widget-view+json": {
       "model_id": "38e44e002093469898cafefc5d50da95",
       "version_major": 2,
       "version_minor": 0
      },
      "text/plain": [
       "FigureWidget({\n",
       "    'data': [{'hoverinfo': 'none',\n",
       "              'showscale': False,\n",
       "              'type': 'hea…"
      ]
     },
     "metadata": {},
     "output_type": "display_data"
    },
    {
     "name": "stdout",
     "output_type": "stream",
     "text": [
      "\n",
      "====================================================\n",
      "\n",
      "emd_perimeter_area_ratio_sig:\n",
      "BR                                                                           0.59\n",
      "CHI                                                                           2.8\n",
      "count                                                                         227\n",
      "image                           [0.901650607585907, 0.9031100869178772, 0.9032...\n",
      "timestep                                                                      225\n",
      "version                                                                         3\n",
      "perimeter_area_ratio_sig        [0.6166546413478968, 0.7142857142857143, 0.720...\n",
      "rect_area_ratio_sig             [0.4666666666666667, 1.0, 0.5, 0.5769230769230...\n",
      "emd_perimeter_area_ratio_sig                                            0.0208819\n",
      "emd_rect_area_ratio_sig                                                 0.0217443\n",
      "Name: 269, dtype: object\n"
     ]
    },
    {
     "data": {
      "application/vnd.jupyter.widget-view+json": {
       "model_id": "1ea0935d2c6449348608025039bed4f3",
       "version_major": 2,
       "version_minor": 0
      },
      "text/plain": [
       "FigureWidget({\n",
       "    'data': [{'hoverinfo': 'none',\n",
       "              'showscale': False,\n",
       "              'type': 'hea…"
      ]
     },
     "metadata": {},
     "output_type": "display_data"
    },
    {
     "name": "stdout",
     "output_type": "stream",
     "text": [
      "emd_rect_area_ratio_sig:\n",
      "BR                                                                           0.59\n",
      "CHI                                                                           2.2\n",
      "count                                                                          48\n",
      "image                           [0.3056536018848419, 0.3736875057220459, 0.473...\n",
      "timestep                                                                       25\n",
      "version                                                                         1\n",
      "perimeter_area_ratio_sig        [0.8558375965793723, 1.0295866830266498, 0.381...\n",
      "rect_area_ratio_sig             [0.5333333333333333, 0.75, 0.63, 0.6125, 0.509...\n",
      "emd_perimeter_area_ratio_sig                                            0.0589015\n",
      "emd_rect_area_ratio_sig                                                 0.0182434\n",
      "Name: 156, dtype: object\n"
     ]
    },
    {
     "data": {
      "application/vnd.jupyter.widget-view+json": {
       "model_id": "430d2ac626a7481da49a7890d8cd3e78",
       "version_major": 2,
       "version_minor": 0
      },
      "text/plain": [
       "FigureWidget({\n",
       "    'data': [{'hoverinfo': 'none',\n",
       "              'showscale': False,\n",
       "              'type': 'hea…"
      ]
     },
     "metadata": {},
     "output_type": "display_data"
    },
    {
     "name": "stdout",
     "output_type": "stream",
     "text": [
      "\n",
      "====================================================\n",
      "\n",
      "emd_perimeter_area_ratio_sig:\n",
      "BR                                                                           0.53\n",
      "CHI                                                                           3.4\n",
      "count                                                                         261\n",
      "image                           [0.9460951089859009, 0.8421623110771179, 0.595...\n",
      "timestep                                                                      250\n",
      "version                                                                         1\n",
      "perimeter_area_ratio_sig        [0.3092743392552578, 0.6, 0.3418470416533082, ...\n",
      "rect_area_ratio_sig             [0.14411764705882352, 1.0, 0.41025641025641024...\n",
      "emd_perimeter_area_ratio_sig                                            0.0211311\n",
      "emd_rect_area_ratio_sig                                                  0.209324\n",
      "Name: 97, dtype: object\n"
     ]
    },
    {
     "data": {
      "application/vnd.jupyter.widget-view+json": {
       "model_id": "5c9d4f6059cf4c3aa71f9aea2ee1f01d",
       "version_major": 2,
       "version_minor": 0
      },
      "text/plain": [
       "FigureWidget({\n",
       "    'data': [{'hoverinfo': 'none',\n",
       "              'showscale': False,\n",
       "              'type': 'hea…"
      ]
     },
     "metadata": {},
     "output_type": "display_data"
    },
    {
     "name": "stdout",
     "output_type": "stream",
     "text": [
      "emd_rect_area_ratio_sig:\n",
      "BR                                                                           0.59\n",
      "CHI                                                                           2.8\n",
      "count                                                                         193\n",
      "image                           [0.08601965010166168, 0.08642247319221497, 0.1...\n",
      "timestep                                                                      175\n",
      "version                                                                         2\n",
      "perimeter_area_ratio_sig        [0.7016400264276649, 0.953359222422738, 0.3226...\n",
      "rect_area_ratio_sig             [0.625, 0.7, 0.6060606060606061, 0.47727272727...\n",
      "emd_perimeter_area_ratio_sig                                            0.0256854\n",
      "emd_rect_area_ratio_sig                                                 0.0209017\n",
      "Name: 241, dtype: object\n"
     ]
    },
    {
     "data": {
      "application/vnd.jupyter.widget-view+json": {
       "model_id": "a17ddba3cf67494c919ab806bf79ee20",
       "version_major": 2,
       "version_minor": 0
      },
      "text/plain": [
       "FigureWidget({\n",
       "    'data': [{'hoverinfo': 'none',\n",
       "              'showscale': False,\n",
       "              'type': 'hea…"
      ]
     },
     "metadata": {},
     "output_type": "display_data"
    },
    {
     "name": "stdout",
     "output_type": "stream",
     "text": [
      "\n",
      "====================================================\n",
      "\n"
     ]
    }
   ],
   "source": [
    "for idx in range(4):\n",
    "    print('emd_perimeter_area_ratio_sig:')\n",
    "    nearest = df_sigs.sort_values('emd_perimeter_area_ratio_sig').iloc[idx]\n",
    "    print(nearest)\n",
    "    display(visualization.get_image_figure(nearest.image.reshape((100, 400))))\n",
    "    \n",
    "    print('emd_rect_area_ratio_sig:')\n",
    "    nearest = df_sigs.sort_values('emd_rect_area_ratio_sig').iloc[idx]\n",
    "    print(nearest)\n",
    "    display(visualization.get_image_figure(nearest.image.reshape((100, 400))))\n",
    "    \n",
    "    print('\\n====================================================\\n')"
   ]
  },
  {
   "cell_type": "code",
   "execution_count": 34,
   "metadata": {},
   "outputs": [
    {
     "name": "stdout",
     "output_type": "stream",
     "text": [
      "emd_perimeter_area_ratio_sig:\n",
      "BR                                                                           0.56\n",
      "CHI                                                                             4\n",
      "count                                                                         140\n",
      "image                           [0.002926476998254657, 0.023009920492768288, 0...\n",
      "timestep                                                                      125\n",
      "version                                                                         0\n",
      "perimeter_area_ratio_sig        [0.837802393359958, 0.7387123108385651, 0.9279...\n",
      "rect_area_ratio_sig             [0.5714285714285714, 0.20105820105820105, 0.57...\n",
      "emd_perimeter_area_ratio_sig                                             0.193775\n",
      "emd_rect_area_ratio_sig                                                  0.166524\n",
      "Name: 61, dtype: object\n"
     ]
    },
    {
     "data": {
      "application/vnd.jupyter.widget-view+json": {
       "model_id": "f024ac7608f047f297ab8b462b128d97",
       "version_major": 2,
       "version_minor": 0
      },
      "text/plain": [
       "FigureWidget({\n",
       "    'data': [{'hoverinfo': 'none',\n",
       "              'showscale': False,\n",
       "              'type': 'hea…"
      ]
     },
     "metadata": {},
     "output_type": "display_data"
    },
    {
     "name": "stdout",
     "output_type": "stream",
     "text": [
      "emd_rect_area_ratio_sig:\n",
      "BR                                                                            0.5\n",
      "CHI                                                                           2.8\n",
      "count                                                                         208\n",
      "image                           [0.9122486114501953, 0.9127185940742493, 0.913...\n",
      "timestep                                                                      200\n",
      "version                                                                         2\n",
      "perimeter_area_ratio_sig        [0.2167224658893368, 0.17272317161763714, 0.29...\n",
      "rect_area_ratio_sig             [0.0575, 0.14857142857142858, 0.54945054945054...\n",
      "emd_perimeter_area_ratio_sig                                             0.109689\n",
      "emd_rect_area_ratio_sig                                                   0.31428\n",
      "Name: 424, dtype: object\n"
     ]
    },
    {
     "data": {
      "application/vnd.jupyter.widget-view+json": {
       "model_id": "47abf386d488486eb88f627f1a54e389",
       "version_major": 2,
       "version_minor": 0
      },
      "text/plain": [
       "FigureWidget({\n",
       "    'data': [{'hoverinfo': 'none',\n",
       "              'showscale': False,\n",
       "              'type': 'hea…"
      ]
     },
     "metadata": {},
     "output_type": "display_data"
    },
    {
     "name": "stdout",
     "output_type": "stream",
     "text": [
      "\n",
      "====================================================\n",
      "\n",
      "emd_perimeter_area_ratio_sig:\n",
      "BR                                                                           0.59\n",
      "CHI                                                                             4\n",
      "count                                                                         155\n",
      "image                           [0.01830443926155567, 0.018545100465416908, 0....\n",
      "timestep                                                                      150\n",
      "version                                                                         0\n",
      "perimeter_area_ratio_sig        [0.8744743347942345, 0.4658280525178399, 0.0, ...\n",
      "rect_area_ratio_sig             [0.45, 0.40404040404040403, 1.0, 0.06818181818...\n",
      "emd_perimeter_area_ratio_sig                                             0.177945\n",
      "emd_rect_area_ratio_sig                                                 0.0873534\n",
      "Name: 186, dtype: object\n"
     ]
    },
    {
     "data": {
      "application/vnd.jupyter.widget-view+json": {
       "model_id": "573ebb07a55744b4a0b42e24080f524c",
       "version_major": 2,
       "version_minor": 0
      },
      "text/plain": [
       "FigureWidget({\n",
       "    'data': [{'hoverinfo': 'none',\n",
       "              'showscale': False,\n",
       "              'type': 'hea…"
      ]
     },
     "metadata": {},
     "output_type": "display_data"
    },
    {
     "name": "stdout",
     "output_type": "stream",
     "text": [
      "emd_rect_area_ratio_sig:\n",
      "BR                                                                            0.5\n",
      "CHI                                                                           2.8\n",
      "count                                                                         201\n",
      "image                           [0.09411002695560455, 0.09400024265050888, 0.0...\n",
      "timestep                                                                      200\n",
      "version                                                                         0\n",
      "perimeter_area_ratio_sig        [0.2463264943545411, 0.18994276970616839, 0.18...\n",
      "rect_area_ratio_sig             [0.30340557275541796, 0.10312899106002554, 0.0...\n",
      "emd_perimeter_area_ratio_sig                                            0.0704301\n",
      "emd_rect_area_ratio_sig                                                  0.267292\n",
      "Name: 442, dtype: object\n"
     ]
    },
    {
     "data": {
      "application/vnd.jupyter.widget-view+json": {
       "model_id": "7d611c1e7ed84453bee7acf976858341",
       "version_major": 2,
       "version_minor": 0
      },
      "text/plain": [
       "FigureWidget({\n",
       "    'data': [{'hoverinfo': 'none',\n",
       "              'showscale': False,\n",
       "              'type': 'hea…"
      ]
     },
     "metadata": {},
     "output_type": "display_data"
    },
    {
     "name": "stdout",
     "output_type": "stream",
     "text": [
      "\n",
      "====================================================\n",
      "\n",
      "emd_perimeter_area_ratio_sig:\n",
      "BR                                                                           0.56\n",
      "CHI                                                                             4\n",
      "count                                                                         161\n",
      "image                           [0.6431540846824646, 0.9664037823677063, 0.974...\n",
      "timestep                                                                      150\n",
      "version                                                                         2\n",
      "perimeter_area_ratio_sig        [0.5971681093532926, 0.5075825214724777, 0.544...\n",
      "rect_area_ratio_sig             [0.13157894736842105, 0.2976190476190476, 0.05...\n",
      "emd_perimeter_area_ratio_sig                                             0.151301\n",
      "emd_rect_area_ratio_sig                                                  0.195532\n",
      "Name: 45, dtype: object\n"
     ]
    },
    {
     "data": {
      "application/vnd.jupyter.widget-view+json": {
       "model_id": "f2d7ad6435734daea89aeaa51b56f299",
       "version_major": 2,
       "version_minor": 0
      },
      "text/plain": [
       "FigureWidget({\n",
       "    'data': [{'hoverinfo': 'none',\n",
       "              'showscale': False,\n",
       "              'type': 'hea…"
      ]
     },
     "metadata": {},
     "output_type": "display_data"
    },
    {
     "name": "stdout",
     "output_type": "stream",
     "text": [
      "emd_rect_area_ratio_sig:\n",
      "BR                                                                            0.5\n",
      "CHI                                                                           2.2\n",
      "count                                                                          46\n",
      "image                           [0.7341058850288391, 0.7345213294029236, 0.734...\n",
      "timestep                                                                       25\n",
      "version                                                                         3\n",
      "perimeter_area_ratio_sig        [0.27180240488971685, 0.2605627200126459, 0.26...\n",
      "rect_area_ratio_sig             [0.01818181818181818, 0.07538802660753881, 0.0...\n",
      "emd_perimeter_area_ratio_sig                                            0.0565701\n",
      "emd_rect_area_ratio_sig                                                  0.262138\n",
      "Name: 77, dtype: object\n"
     ]
    },
    {
     "data": {
      "application/vnd.jupyter.widget-view+json": {
       "model_id": "53c6bc58225945f0b3942fc8b9f68aa8",
       "version_major": 2,
       "version_minor": 0
      },
      "text/plain": [
       "FigureWidget({\n",
       "    'data': [{'hoverinfo': 'none',\n",
       "              'showscale': False,\n",
       "              'type': 'hea…"
      ]
     },
     "metadata": {},
     "output_type": "display_data"
    },
    {
     "name": "stdout",
     "output_type": "stream",
     "text": [
      "\n",
      "====================================================\n",
      "\n",
      "emd_perimeter_area_ratio_sig:\n",
      "BR                                                                           0.59\n",
      "CHI                                                                             4\n",
      "count                                                                         236\n",
      "image                           [0.9844369292259216, 0.8907439112663269, 0.146...\n",
      "timestep                                                                      225\n",
      "version                                                                         2\n",
      "perimeter_area_ratio_sig        [0.4928511301977579, 0.4615069229109035, 0.706...\n",
      "rect_area_ratio_sig             [0.6666666666666666, 0.11312217194570136, 0.5,...\n",
      "emd_perimeter_area_ratio_sig                                             0.147745\n",
      "emd_rect_area_ratio_sig                                                 0.0686393\n",
      "Name: 170, dtype: object\n"
     ]
    },
    {
     "data": {
      "application/vnd.jupyter.widget-view+json": {
       "model_id": "6478ea1fabe0444da80aac294304b375",
       "version_major": 2,
       "version_minor": 0
      },
      "text/plain": [
       "FigureWidget({\n",
       "    'data': [{'hoverinfo': 'none',\n",
       "              'showscale': False,\n",
       "              'type': 'hea…"
      ]
     },
     "metadata": {},
     "output_type": "display_data"
    },
    {
     "name": "stdout",
     "output_type": "stream",
     "text": [
      "emd_rect_area_ratio_sig:\n",
      "BR                                                                            0.5\n",
      "CHI                                                                           2.2\n",
      "count                                                                          46\n",
      "image                           [0.29060789942741394, 0.29163551330566406, 0.3...\n",
      "timestep                                                                       25\n",
      "version                                                                         1\n",
      "perimeter_area_ratio_sig        [0.273310862473115, 0.26589602031159504, 0.256...\n",
      "rect_area_ratio_sig             [0.09312638580931264, 0.023803620133895365, 0....\n",
      "emd_perimeter_area_ratio_sig                                            0.0530439\n",
      "emd_rect_area_ratio_sig                                                  0.251178\n",
      "Name: 73, dtype: object\n"
     ]
    },
    {
     "data": {
      "application/vnd.jupyter.widget-view+json": {
       "model_id": "39c6db0dce794809891fa50c5e48ea24",
       "version_major": 2,
       "version_minor": 0
      },
      "text/plain": [
       "FigureWidget({\n",
       "    'data': [{'hoverinfo': 'none',\n",
       "              'showscale': False,\n",
       "              'type': 'hea…"
      ]
     },
     "metadata": {},
     "output_type": "display_data"
    },
    {
     "name": "stdout",
     "output_type": "stream",
     "text": [
      "\n",
      "====================================================\n",
      "\n"
     ]
    }
   ],
   "source": [
    "for idx in range(4):\n",
    "    print('emd_perimeter_area_ratio_sig:')\n",
    "    furthest = df_sigs.sort_values('emd_perimeter_area_ratio_sig').iloc[-1-idx]\n",
    "    print(furthest)\n",
    "    display(visualization.get_image_figure(furthest.image.reshape((100, 400))))\n",
    "    \n",
    "    print('emd_rect_area_ratio_sig:')\n",
    "    furthest = df_sigs.sort_values('emd_rect_area_ratio_sig').iloc[-1-idx]\n",
    "    print(furthest)\n",
    "    display(visualization.get_image_figure(furthest.image.reshape((100, 400))))\n",
    "    \n",
    "    print('\\n====================================================\\n')"
   ]
  },
  {
   "cell_type": "markdown",
   "metadata": {},
   "source": [
    "## Distance Matrix"
   ]
  },
  {
   "cell_type": "code",
   "execution_count": 35,
   "metadata": {},
   "outputs": [],
   "source": [
    "chi_values = df_sigs.CHI.unique()\n",
    "br_values = df_sigs.BR.unique()\n",
    "version_values = df_sigs.version.unique()"
   ]
  },
  {
   "cell_type": "code",
   "execution_count": 36,
   "metadata": {},
   "outputs": [],
   "source": [
    "def get_dist_matrix(sigs_x, sigs_y=None):\n",
    "    if sigs_y is None:\n",
    "        sigs_y = sigs_x\n",
    "    dist_matrix = []\n",
    "    for y in sigs_y:\n",
    "        row = []\n",
    "        for x in sigs_x:\n",
    "            row.append(emd_samples(x, y))\n",
    "        dist_matrix.append(row)\n",
    "    return dist_matrix"
   ]
  },
  {
   "cell_type": "code",
   "execution_count": 58,
   "metadata": {},
   "outputs": [
    {
     "name": "stdout",
     "output_type": "stream",
     "text": [
      "BR                                                                           0.53\n",
      "CHI                                                                             4\n",
      "count                                                                         178\n",
      "image                           [0.9801279902458191, 0.9795420169830322, 0.979...\n",
      "timestep                                                                      175\n",
      "version                                                                         0\n",
      "perimeter_area_ratio_sig        [0.4507165642490036, 1.0345177968644246, 0.489...\n",
      "rect_area_ratio_sig             [0.007142857142857143, 0.7142857142857143, 0.0...\n",
      "emd_perimeter_area_ratio_sig                                             0.130463\n",
      "emd_rect_area_ratio_sig                                                  0.233971\n",
      "Name: 30, dtype: object\n"
     ]
    },
    {
     "data": {
      "application/vnd.jupyter.widget-view+json": {
       "model_id": "56dfe30ca5ed4912821bfa2d7f1e72a8",
       "version_major": 2,
       "version_minor": 0
      },
      "text/plain": [
       "FigureWidget({\n",
       "    'data': [{'hoverinfo': 'none',\n",
       "              'showscale': False,\n",
       "              'type': 'hea…"
      ]
     },
     "metadata": {},
     "output_type": "display_data"
    }
   ],
   "source": [
    "params = [\n",
    "    { 'BR': 0.59, 'CHI': 2.8, 'version': 0 },\n",
    "    { 'BR': 0.53, 'CHI': 2.8, 'version': 0 },\n",
    "    { 'BR': 0.53, 'CHI': 4, 'version': 0 },\n",
    "]\n",
    "idx = 2\n",
    "\n",
    "sample_z = df_sigs[\n",
    "    (df_sigs['BR'] == params[idx]['BR']) &\n",
    "    (df_sigs['CHI'] == params[idx]['CHI']) &\n",
    "    (df_sigs['version'] == params[idx]['version'])\n",
    "].iloc[0]\n",
    "print(sample_z)\n",
    "\n",
    "sample_image_z = sample_z.image.reshape((100, 400))\n",
    "display(visualization.get_image_figure(sample_image_z))\n",
    "components_z = processing.extract_components(sample_image_z, background=1)\n",
    "sigs_z = processing.apply_to_components(components_z, processing.perimeter_area_ratio_sig)"
   ]
  },
  {
   "cell_type": "code",
   "execution_count": 48,
   "metadata": {},
   "outputs": [],
   "source": [
    "dist_matrix = []\n",
    "sig_name = 'rect_area_ratio_sig'\n",
    "#sig_name = 'perimeter_area_ratio_sig'\n",
    "for chi in chi_values:\n",
    "    row = []\n",
    "    for br in br_values:\n",
    "        version_dists = []\n",
    "        for version in version_values:\n",
    "            sample = df_sigs[\n",
    "                (df_sigs.CHI == chi) &\n",
    "                (df_sigs.BR == br) &\n",
    "                (df_sigs.version == version)\n",
    "            ].iloc[0]\n",
    "            version_dists.append(emd_samples(sample[sig_name], sigs_z))\n",
    "        row.append(np.mean(version_dists))\n",
    "    dist_matrix.append(row)"
   ]
  },
  {
   "cell_type": "code",
   "execution_count": 49,
   "metadata": {},
   "outputs": [
    {
     "data": {
      "application/vnd.jupyter.widget-view+json": {
       "model_id": "a3447e3994b34c74ad469c52f58bed4f",
       "version_major": 2,
       "version_minor": 0
      },
      "text/plain": [
       "FigureWidget({\n",
       "    'data': [{'type': 'heatmap',\n",
       "              'uid': '5670a84f-edec-4125-bdef-b414acf1a5f9',\n",
       " …"
      ]
     },
     "metadata": {},
     "output_type": "display_data"
    }
   ],
   "source": [
    "viz = visualization.get_distance_matrix_figure(\n",
    "    dist_matrix,\n",
    "    labels_x = br_values,\n",
    "    labels_y = chi_values,\n",
    "    scaleanchor=None\n",
    ")\n",
    "#viz.data[0].update(zmin=0., zmax=0.4) # this adjusts the color scale\n",
    "display(viz)"
   ]
  },
  {
   "cell_type": "code",
   "execution_count": null,
   "metadata": {},
   "outputs": [],
   "source": []
  }
 ],
 "metadata": {
  "kernelspec": {
   "display_name": "morphology-similarity",
   "language": "python",
   "name": "morphology-similarity"
  },
  "language_info": {
   "codemirror_mode": {
    "name": "ipython",
    "version": 3
   },
   "file_extension": ".py",
   "mimetype": "text/x-python",
   "name": "python",
   "nbconvert_exporter": "python",
   "pygments_lexer": "ipython3",
   "version": "3.6.9"
  }
 },
 "nbformat": 4,
 "nbformat_minor": 4
}
