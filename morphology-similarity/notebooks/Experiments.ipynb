{
 "cells": [
  {
   "cell_type": "code",
   "execution_count": 1,
   "metadata": {},
   "outputs": [],
   "source": [
    "import pandas as pd\n",
    "import numpy as np\n",
    "from pyemd import emd_samples\n",
    "import plotly.graph_objects as go\n",
    "from IPython.display import display\n",
    "\n",
    "# To import packages from the parent directory\n",
    "import sys\n",
    "sys.path.insert(0,'..')\n",
    "\n",
    "# Autoreload allows us to update our code mid-notebook\n",
    "%load_ext autoreload\n",
    "%autoreload 2\n",
    "\n",
    "# Our code\n",
    "import processing\n",
    "import visualization"
   ]
  },
  {
   "cell_type": "code",
   "execution_count": 2,
   "metadata": {},
   "outputs": [
    {
     "name": "stdout",
     "output_type": "stream",
     "text": [
      "Length of df: 11681\n"
     ]
    }
   ],
   "source": [
    "file_path = '../data/sample_morphologies.pickle'\n",
    "#file_path = '../data/20200423-1804_states.pickle'\n",
    "df = pd.read_pickle(file_path)\n",
    "print(f'Length of df: {len(df)}')"
   ]
  },
  {
   "cell_type": "markdown",
   "metadata": {},
   "source": [
    "Collect final states"
   ]
  },
  {
   "cell_type": "code",
   "execution_count": null,
   "metadata": {},
   "outputs": [],
   "source": [
    "final_states = []\n",
    "for grouping, group in df.groupby(['BR', 'CHI', 'version']):\n",
    "    final_state = group[group.timestep == max(group.timestep)].iloc[0]\n",
    "    final_states.append(final_state)\n",
    "    \n",
    "df_finals = pd.DataFrame(final_states)"
   ]
  },
  {
   "cell_type": "markdown",
   "metadata": {},
   "source": [
    "Select 3 samples for analysis."
   ]
  },
  {
   "cell_type": "code",
   "execution_count": null,
   "metadata": {},
   "outputs": [],
   "source": [
    "sample_x = df_finals.iloc[40]\n",
    "sample_y = df_finals.iloc[8]\n",
    "sample_z = df_finals.iloc[52]\n",
    "\n",
    "sample_image_x = sample_x.image.reshape((100, 400))\n",
    "sample_image_y = sample_y.image.reshape((100, 400))\n",
    "sample_image_z = sample_z.image.reshape((100, 400))\n",
    "\n",
    "fig_x = visualization.get_image_figure(sample_image_x)\n",
    "fig_y = visualization.get_image_figure(sample_image_y)\n",
    "fig_z = visualization.get_image_figure(sample_image_z)\n",
    "\n",
    "print('sample_x')\n",
    "print(sample_x)\n",
    "display(fig_x)\n",
    "print()\n",
    "\n",
    "print('sample_y')\n",
    "print(sample_y)\n",
    "display(fig_y)\n",
    "print()\n",
    "\n",
    "print('sample_y')\n",
    "print(sample_y)\n",
    "display(fig_y)"
   ]
  },
  {
   "cell_type": "markdown",
   "metadata": {},
   "source": [
    "Measure and store the signatures and measurements for the samples in the dataset."
   ]
  },
  {
   "cell_type": "code",
   "execution_count": null,
   "metadata": {},
   "outputs": [],
   "source": [
    "df_sigs = df_finals.copy()\n",
    "df_sigs['perimeter_area_ratio_sig'] = np.empty(len(df_sigs), dtype=np.object)\n",
    "df_sigs['rect_area_ratio_sig'] = np.empty(len(df_sigs), dtype=np.object)\n",
    "df_sigs['average_pixel_intensity_sig'] = np.empty(len(df_sigs), dtype=np.object)\n",
    "\n",
    "df_sigs['average_pixel_intensity'] = np.empty(len(df_sigs), dtype=np.object)\n",
    "df_sigs['fft'] = np.empty(len(df_sigs), dtype=np.object)\n",
    "\n",
    "for idx, row in df_sigs.iterrows():\n",
    "    comp_sample = row.image.reshape((100, 400))\n",
    "    comp_components = processing.extract_components(comp_sample, background=1)    \n",
    "    df_sigs.at[\n",
    "        idx,\n",
    "        'perimeter_area_ratio_sig'\n",
    "    ] = processing.apply_to_components(comp_components, processing.perimeter_area_ratio_sig)\n",
    "    \n",
    "    df_sigs.at[\n",
    "        idx,\n",
    "        'rect_area_ratio_sig'\n",
    "    ] = processing.apply_to_components(comp_components, processing.rect_area_ratio_sig)\n",
    "    \n",
    "    df_sigs.at[\n",
    "        idx,\n",
    "        'average_pixel_intensity_sig'\n",
    "    ] = processing.apply_to_components(comp_components, processing.average_pixel_intensity_sig)\n",
    "    \n",
    "    df_sigs.at[\n",
    "        idx,\n",
    "        'average_pixel_intensity'\n",
    "    ] = np.mean(comp_sample)\n",
    "    \n",
    "    df_sigs.at[\n",
    "        idx,\n",
    "        'fft'\n",
    "    ] = np.fft.fft2(comp_sample)"
   ]
  },
  {
   "cell_type": "markdown",
   "metadata": {},
   "source": [
    "# Similarity Query\n",
    "\n",
    "Sort the dataset be most/least similar."
   ]
  },
  {
   "cell_type": "markdown",
   "metadata": {},
   "source": [
    "Set the query morphology."
   ]
  },
  {
   "cell_type": "code",
   "execution_count": null,
   "metadata": {},
   "outputs": [],
   "source": [
    "sample_idx = 8\n",
    "sample = df_sigs.iloc[sample_idx]\n",
    "sample_image = sample.image.reshape((100, 400))\n",
    "\n",
    "print(sample)\n",
    "display(visualization.get_image_figure(sample_image))"
   ]
  },
  {
   "cell_type": "markdown",
   "metadata": {},
   "source": [
    "Calculate distances between query sample signatures and database signatures."
   ]
  },
  {
   "cell_type": "code",
   "execution_count": null,
   "metadata": {},
   "outputs": [],
   "source": [
    "dist_data = []\n",
    "\n",
    "perimeter_area_ratio_sig = processing.apply_to_components(components, processing.perimeter_area_ratio_sig)\n",
    "rect_area_ratio_sig = processing.apply_to_components(components, processing.rect_area_ratio_sig)\n",
    "\n",
    "for idx, row in df_sigs.iterrows():\n",
    "    dist_data.append({\n",
    "        'BR': row.BR,\n",
    "        'CHI': row.CHI,\n",
    "        'version': row.version,\n",
    "        'image': row.image,\n",
    "        'emd_perimeter_area_ratio': emd_samples(row.perimeter_area_ratio_sig, sample.perimeter_area_ratio_sig),\n",
    "        'emd_rect_area_ratio': emd_samples(row.rect_area_ratio_sig, sample.rect_area_ratio_sig),\n",
    "        'emd_average_pixel_intensity': emd_samples(row.average_pixel_intensity_sig, sample.average_pixel_intensity_sig),\n",
    "        'l2_average_pixel_intensity': np.linalg.norm(row.average_pixel_intensity - sample.average_pixel_intensity),\n",
    "        'l2_fft': np.linalg.norm(row.fft - sample.fft)\n",
    "    })\n",
    "\n",
    "df_dist = pd.DataFrame(dist_data)"
   ]
  },
  {
   "cell_type": "code",
   "execution_count": null,
   "metadata": {},
   "outputs": [],
   "source": [
    "dist_list = [\n",
    "    'emd_perimeter_area_ratio',\n",
    "    'emd_rect_area_ratio',\n",
    "    'emd_average_pixel_intensity',\n",
    "    'l2_average_pixel_intensity',\n",
    "    'l2_fft'\n",
    "]"
   ]
  },
  {
   "cell_type": "markdown",
   "metadata": {},
   "source": [
    "Display the most similar/dissimilar images for each signature."
   ]
  },
  {
   "cell_type": "code",
   "execution_count": null,
   "metadata": {
    "scrolled": true
   },
   "outputs": [],
   "source": [
    "for idx in range(4):\n",
    "    print('-' * 30)\n",
    "    print(f'Nearest: {idx}')\n",
    "    print('-' * 30)\n",
    "    print()\n",
    "    for dist_name in dist_list:\n",
    "        print(dist_name)        \n",
    "        nearest = df_dist.sort_values(dist_name).iloc[idx]\n",
    "        print(nearest)\n",
    "        display(visualization.get_image_figure(nearest.image.reshape((100, 400))))\n",
    "        print('\\n\\n====================================================\\n\\n')"
   ]
  },
  {
   "cell_type": "code",
   "execution_count": null,
   "metadata": {
    "scrolled": true
   },
   "outputs": [],
   "source": [
    "for idx in range(3):\n",
    "    print('-' * 30)\n",
    "    print(f'Furthest: {idx}')\n",
    "    print('-' * 30)\n",
    "    print()\n",
    "    for dist_name in dist_list:\n",
    "        print(dist_name)        \n",
    "        furthest = df_dist.sort_values(dist_name).iloc[-1-idx]\n",
    "        print(furthest)\n",
    "        display(visualization.get_image_figure(furthest.image.reshape((100, 400))))\n",
    "        print('\\n\\n====================================================\\n\\n')"
   ]
  },
  {
   "cell_type": "markdown",
   "metadata": {},
   "source": [
    "## Distance Matrix"
   ]
  },
  {
   "cell_type": "code",
   "execution_count": null,
   "metadata": {},
   "outputs": [],
   "source": [
    "chi_values = df_sigs.CHI.unique()\n",
    "br_values = df_sigs.BR.unique()\n",
    "version_values = df_sigs.version.unique()\n",
    "\n",
    "def get_dist_matrix(sigs_x, sigs_y=None):\n",
    "    if sigs_y is None:\n",
    "        sigs_y = sigs_x\n",
    "    dist_matrix = []\n",
    "    for y in sigs_y:\n",
    "        row = []\n",
    "        for x in sigs_x:\n",
    "            row.append(emd_samples(x, y))\n",
    "        dist_matrix.append(row)\n",
    "    return dist_matrix"
   ]
  },
  {
   "cell_type": "code",
   "execution_count": null,
   "metadata": {},
   "outputs": [],
   "source": [
    "dist_name_pretty = {\n",
    "    'emd_perimeter_area_ratio': 'Average EMD (Perimeter to Area Ratio)',\n",
    "    'emd_rect_area_ratio': 'Average EMD (Rectangle Area Ratio)',\n",
    "    'emd_average_pixel_intensity': 'Average EMD (Average Pixel Intensity)',\n",
    "    'l2_average_pixel_intensity': 'Average L2 (Average Pixel Intensity)',\n",
    "    'l2_fft': 'Average L2 (FFT)'\n",
    "}\n",
    "\n",
    "print(sample)\n",
    "display(visualization.get_image_figure(sample_image))\n",
    "print()\n",
    "\n",
    "for dist_name in dist_list:\n",
    "    print(dist_name)\n",
    "    dist_matrix = []\n",
    "    for chi in chi_values:\n",
    "        row = []\n",
    "        for br in br_values:\n",
    "            version_dists = []\n",
    "            for version in version_values:\n",
    "                comp_sample = df_dist[\n",
    "                    (df_dist.CHI == chi) &\n",
    "                    (df_dist.BR == br) &\n",
    "                    (df_dist.version == version)\n",
    "                ].iloc[0]\n",
    "                if (comp_sample[['CHI', 'BR', 'version']] == sample[['CHI', 'BR', 'version']]).all():\n",
    "                    continue\n",
    "                version_dists.append(comp_sample[dist_name])\n",
    "            row.append(np.mean(version_dists))\n",
    "        dist_matrix.append(row)\n",
    "    \n",
    "    title = f'''$\\\\text{{{dist_name_pretty[dist_name]}}}\\\\\\\\\n",
    "    \\\\text{{Sample: }}(\\phi={sample.BR}, \\chi={sample.CHI}, \\\\text{{version}}={sample.version})$'''\n",
    "\n",
    "    viz = visualization.get_distance_matrix_figure(\n",
    "        dist_matrix,\n",
    "        labels_x = br_values,\n",
    "        labels_y = chi_values,\n",
    "        scaleanchor=None,\n",
    "        showticklabels=True,\n",
    "        title=title,\n",
    "        xtitle='$\\phi$',\n",
    "        ytitle='$\\chi$'\n",
    "    )\n",
    "    display(viz)"
   ]
  },
  {
   "cell_type": "markdown",
   "metadata": {},
   "source": [
    "# MDS"
   ]
  },
  {
   "cell_type": "code",
   "execution_count": null,
   "metadata": {},
   "outputs": [],
   "source": [
    "from sklearn.manifold import MDS\n",
    "from sklearn.preprocessing import normalize\n",
    "import matplotlib.pyplot as plt"
   ]
  },
  {
   "cell_type": "code",
   "execution_count": null,
   "metadata": {},
   "outputs": [],
   "source": [
    "dist_matrix = []\n",
    "\n",
    "sort_by = ['CHI', 'BR']\n",
    "for _, x_row in df_sigs.sort_values(sort_by).iterrows():\n",
    "    matrix_row = []\n",
    "    for _, y_row in df_sigs.sort_values(sort_by).iterrows():\n",
    "        matrix_row.append(emd_samples(x_row.perimeter_area_ratio_sig, y_row.perimeter_area_ratio_sig))\n",
    "    dist_matrix.append(matrix_row)\n",
    "\n",
    "dist_matrix = np.array(dist_matrix)"
   ]
  },
  {
   "cell_type": "code",
   "execution_count": null,
   "metadata": {},
   "outputs": [],
   "source": [
    "plt.imshow(dist_matrix)"
   ]
  },
  {
   "cell_type": "code",
   "execution_count": null,
   "metadata": {},
   "outputs": [],
   "source": [
    "dist_mds = MDS(dissimilarity='precomputed')\n",
    "dist_embedding = dist_mds.fit_transform(dist_matrix)\n",
    "\n",
    "dist_embedding[:, 0] -= min(dist_embedding[:, 0])\n",
    "dist_embedding[:, 1] -= min(dist_embedding[:, 1])\n",
    "\n",
    "dist_embedding[:, 0] /= max(dist_embedding[:, 0])\n",
    "dist_embedding[:, 1] /= max(dist_embedding[:, 1])\n",
    "\n",
    "plt.scatter(dist_embedding[:, 0], dist_embedding[:, 1], c=np.linspace(0, 1, num=dist_embedding.shape[0]))\n",
    "plt.show()"
   ]
  },
  {
   "cell_type": "code",
   "execution_count": null,
   "metadata": {},
   "outputs": [],
   "source": [
    "print(br_values)\n",
    "print(chi_values)"
   ]
  },
  {
   "cell_type": "code",
   "execution_count": null,
   "metadata": {},
   "outputs": [],
   "source": [
    "keys = [\n",
    "    { 'br': 0.5, 'chi': 2.8, 'version': 0 },\n",
    "    { 'br': 0.5, 'chi': 2.8, 'version': 1 },\n",
    "    { 'br': 0.56, 'chi': 3.4, 'version': 0 },\n",
    "    { 'br': 0.56, 'chi': 3.4, 'version': 1 }\n",
    "]\n",
    "\n",
    "sigs = []\n",
    "colors = []\n",
    "color_options = ['r', 'b', 'k', 'c']\n",
    "for kdx, key in enumerate(keys):\n",
    "    color_option = color_options[kdx]\n",
    "    traj = df[(df.BR == key['br']) & (df.CHI == key['chi']) & (df.version == key['version']) & (df.timestep != 0)]\n",
    "    for idx, row in traj.iterrows():\n",
    "        image = row.image.reshape((100, 400))\n",
    "        comps = processing.extract_components(image, background=1)\n",
    "        sig = processing.apply_to_components(comps, processing.perimeter_area_ratio_sig)\n",
    "        if len(sig) == 0:\n",
    "            continue\n",
    "        sigs.append(sig)\n",
    "        colors.append(color_option)"
   ]
  },
  {
   "cell_type": "code",
   "execution_count": null,
   "metadata": {},
   "outputs": [],
   "source": [
    "dist_matrix = []\n",
    "\n",
    "for sig_x in sigs:\n",
    "    matrix_row = []\n",
    "    for sig_y in sigs:\n",
    "        matrix_row.append(emd_samples(sig_x, sig_y))\n",
    "    dist_matrix.append(matrix_row)\n",
    "\n",
    "dist_matrix = np.array(dist_matrix)"
   ]
  },
  {
   "cell_type": "code",
   "execution_count": null,
   "metadata": {},
   "outputs": [],
   "source": [
    "dist_mds = MDS(dissimilarity='precomputed')\n",
    "dist_embedding = dist_mds.fit_transform(dist_matrix)\n",
    "\n",
    "# dist_embedding[:, 0] -= min(dist_embedding[:, 0])\n",
    "# dist_embedding[:, 1] -= min(dist_embedding[:, 1])\n",
    "\n",
    "# dist_embedding[:, 0] /= max(dist_embedding[:, 0])\n",
    "# dist_embedding[:, 1] /= max(dist_embedding[:, 1])\n",
    "\n",
    "plt.scatter(dist_embedding[:, 0], dist_embedding[:, 1], c=colors)\n",
    "plt.show()"
   ]
  },
  {
   "cell_type": "code",
   "execution_count": null,
   "metadata": {},
   "outputs": [],
   "source": [
    "plt.imshow(dist_matrix)"
   ]
  },
  {
   "cell_type": "code",
   "execution_count": null,
   "metadata": {},
   "outputs": [],
   "source": []
  }
 ],
 "metadata": {
  "kernelspec": {
   "display_name": "morphology-similarity",
   "language": "python",
   "name": "morphology-similarity"
  },
  "language_info": {
   "codemirror_mode": {
    "name": "ipython",
    "version": 3
   },
   "file_extension": ".py",
   "mimetype": "text/x-python",
   "name": "python",
   "nbconvert_exporter": "python",
   "pygments_lexer": "ipython3",
   "version": "3.6.9"
  }
 },
 "nbformat": 4,
 "nbformat_minor": 4
}
