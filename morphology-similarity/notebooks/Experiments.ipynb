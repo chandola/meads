{
 "cells": [
  {
   "cell_type": "code",
   "execution_count": 39,
   "metadata": {},
   "outputs": [
    {
     "name": "stdout",
     "output_type": "stream",
     "text": [
      "The autoreload extension is already loaded. To reload it, use:\n",
      "  %reload_ext autoreload\n"
     ]
    }
   ],
   "source": [
    "import pandas as pd\n",
    "import numpy as np\n",
    "from pyemd import emd_samples\n",
    "import plotly.graph_objects as go\n",
    "from IPython.display import display\n",
    "\n",
    "# To import packages from the parent directory\n",
    "import sys\n",
    "sys.path.insert(0,'..')\n",
    "\n",
    "# Autoreload allows us to update our code mid-notebook\n",
    "%load_ext autoreload\n",
    "%autoreload 2\n",
    "\n",
    "# Our code\n",
    "import processing\n",
    "import visualization"
   ]
  },
  {
   "cell_type": "code",
   "execution_count": 2,
   "metadata": {},
   "outputs": [
    {
     "name": "stdout",
     "output_type": "stream",
     "text": [
      "Length of df: 496\n"
     ]
    }
   ],
   "source": [
    "df = pd.read_pickle('../data/sample_morphologies.pickle')\n",
    "print(f'Length of df: {len(df)}')"
   ]
  },
  {
   "cell_type": "markdown",
   "metadata": {},
   "source": [
    "Collect final states"
   ]
  },
  {
   "cell_type": "code",
   "execution_count": 4,
   "metadata": {},
   "outputs": [],
   "source": [
    "final_states = []\n",
    "for grouping, group in df.groupby(['BR', 'CHI', 'version']):\n",
    "    final_state = group[group.timestep == max(group.timestep)].iloc[0]\n",
    "    final_states.append(final_state)\n",
    "    \n",
    "df_finals = pd.DataFrame(final_states)"
   ]
  },
  {
   "cell_type": "markdown",
   "metadata": {},
   "source": [
    "Select 3 samples for analysis."
   ]
  },
  {
   "cell_type": "code",
   "execution_count": 5,
   "metadata": {},
   "outputs": [
    {
     "name": "stdout",
     "output_type": "stream",
     "text": [
      "sample_x\n",
      "BR                                                       0.56\n",
      "CHI                                                       3.4\n",
      "count                                                     166\n",
      "image       [0.05490177869796753, 0.471236914396286, 0.918...\n",
      "timestep                                                  150\n",
      "version                                                     0\n",
      "Name: 224, dtype: object\n"
     ]
    },
    {
     "data": {
      "application/vnd.jupyter.widget-view+json": {
       "model_id": "bd9e6226446946dc9d5691399b1f2191",
       "version_major": 2,
       "version_minor": 0
      },
      "text/plain": [
       "FigureWidget({\n",
       "    'data': [{'hoverinfo': 'none',\n",
       "              'showscale': False,\n",
       "              'type': 'hea…"
      ]
     },
     "metadata": {},
     "output_type": "display_data"
    },
    {
     "name": "stdout",
     "output_type": "stream",
     "text": [
      "\n",
      "sample_y\n",
      "BR                                                        0.5\n",
      "CHI                                                       3.4\n",
      "count                                                     287\n",
      "image       [0.9672163724899292, 0.9605730772018433, 0.961...\n",
      "timestep                                                  275\n",
      "version                                                     0\n",
      "Name: 394, dtype: object\n"
     ]
    },
    {
     "data": {
      "application/vnd.jupyter.widget-view+json": {
       "model_id": "f91f0ef1754142d9bc86e70b5e184136",
       "version_major": 2,
       "version_minor": 0
      },
      "text/plain": [
       "FigureWidget({\n",
       "    'data': [{'hoverinfo': 'none',\n",
       "              'showscale': False,\n",
       "              'type': 'hea…"
      ]
     },
     "metadata": {},
     "output_type": "display_data"
    },
    {
     "name": "stdout",
     "output_type": "stream",
     "text": [
      "\n",
      "sample_y\n",
      "BR                                                        0.5\n",
      "CHI                                                       3.4\n",
      "count                                                     287\n",
      "image       [0.9672163724899292, 0.9605730772018433, 0.961...\n",
      "timestep                                                  275\n",
      "version                                                     0\n",
      "Name: 394, dtype: object\n"
     ]
    },
    {
     "data": {
      "application/vnd.jupyter.widget-view+json": {
       "model_id": "f91f0ef1754142d9bc86e70b5e184136",
       "version_major": 2,
       "version_minor": 0
      },
      "text/plain": [
       "FigureWidget({\n",
       "    'data': [{'hoverinfo': 'none',\n",
       "              'showscale': False,\n",
       "              'type': 'hea…"
      ]
     },
     "metadata": {},
     "output_type": "display_data"
    }
   ],
   "source": [
    "sample_x = df_finals.iloc[40]\n",
    "sample_y = df_finals.iloc[8]\n",
    "sample_z = df_finals.iloc[52]\n",
    "\n",
    "sample_image_x = sample_x.image.reshape((100, 400))\n",
    "sample_image_y = sample_y.image.reshape((100, 400))\n",
    "sample_image_z = sample_z.image.reshape((100, 400))\n",
    "\n",
    "fig_x = visualization.get_image_figure(sample_image_x)\n",
    "fig_y = visualization.get_image_figure(sample_image_y)\n",
    "fig_z = visualization.get_image_figure(sample_image_z)\n",
    "\n",
    "print('sample_x')\n",
    "print(sample_x)\n",
    "display(fig_x)\n",
    "print()\n",
    "\n",
    "print('sample_y')\n",
    "print(sample_y)\n",
    "display(fig_y)\n",
    "print()\n",
    "\n",
    "print('sample_y')\n",
    "print(sample_y)\n",
    "display(fig_y)"
   ]
  },
  {
   "cell_type": "markdown",
   "metadata": {},
   "source": [
    "Measure and store the signatures and measurements for the samples in the dataset."
   ]
  },
  {
   "cell_type": "code",
   "execution_count": 16,
   "metadata": {},
   "outputs": [],
   "source": [
    "df_sigs = df_finals.copy()\n",
    "df_sigs['perimeter_area_ratio_sig'] = np.empty(len(df_sigs), dtype=np.object)\n",
    "df_sigs['rect_area_ratio_sig'] = np.empty(len(df_sigs), dtype=np.object)\n",
    "df_sigs['average_pixel_intensity_sig'] = np.empty(len(df_sigs), dtype=np.object)\n",
    "\n",
    "df_sigs['average_pixel_intensity'] = np.empty(len(df_sigs), dtype=np.object)\n",
    "df_sigs['fft'] = np.empty(len(df_sigs), dtype=np.object)\n",
    "\n",
    "for idx, row in df_sigs.iterrows():\n",
    "    comp_sample = row.image.reshape((100, 400))\n",
    "    comp_components = processing.extract_components(comp_sample, background=1)    \n",
    "    df_sigs.at[\n",
    "        idx,\n",
    "        'perimeter_area_ratio_sig'\n",
    "    ] = processing.apply_to_components(comp_components, processing.perimeter_area_ratio_sig)\n",
    "    \n",
    "    df_sigs.at[\n",
    "        idx,\n",
    "        'rect_area_ratio_sig'\n",
    "    ] = processing.apply_to_components(comp_components, processing.rect_area_ratio_sig)\n",
    "    \n",
    "    df_sigs.at[\n",
    "        idx,\n",
    "        'average_pixel_intensity_sig'\n",
    "    ] = processing.apply_to_components(comp_components, processing.average_pixel_intensity_sig)\n",
    "    \n",
    "    df_sigs.at[\n",
    "        idx,\n",
    "        'average_pixel_intensity'\n",
    "    ] = np.mean(comp_sample)\n",
    "    \n",
    "    df_sigs.at[\n",
    "        idx,\n",
    "        'fft'\n",
    "    ] = np.fft.fft2(comp_sample)"
   ]
  },
  {
   "cell_type": "markdown",
   "metadata": {},
   "source": [
    "# Similarity Query\n",
    "\n",
    "Sort the dataset be most/least similar."
   ]
  },
  {
   "cell_type": "markdown",
   "metadata": {},
   "source": [
    "Set the query morphology."
   ]
  },
  {
   "cell_type": "code",
   "execution_count": 78,
   "metadata": {},
   "outputs": [
    {
     "name": "stdout",
     "output_type": "stream",
     "text": [
      "BR                                                                           0.5\n",
      "CHI                                                                          3.4\n",
      "count                                                                        287\n",
      "image                          [0.9672163724899292, 0.9605730772018433, 0.961...\n",
      "timestep                                                                     275\n",
      "version                                                                        0\n",
      "perimeter_area_ratio_sig       [0.2814185431418234, 0.22127872410073543, 0.22...\n",
      "rect_area_ratio_sig            [0.47039473684210525, 0.014538461538461538, 0....\n",
      "average_pixel_intensity_sig    [0.7171052631578947, 0.3249230769230769, 0.576...\n",
      "average_pixel_intensity                                                 0.499775\n",
      "fft                            [[(19990.983684109524+0j), (9.378978828087622+...\n",
      "Name: 394, dtype: object\n"
     ]
    },
    {
     "data": {
      "application/vnd.jupyter.widget-view+json": {
       "model_id": "76bcc4ffe6ae41078f7ebdcca5b1b878",
       "version_major": 2,
       "version_minor": 0
      },
      "text/plain": [
       "FigureWidget({\n",
       "    'data': [{'hoverinfo': 'none',\n",
       "              'showscale': False,\n",
       "              'type': 'hea…"
      ]
     },
     "metadata": {},
     "output_type": "display_data"
    }
   ],
   "source": [
    "sample_idx = 8\n",
    "sample = df_sigs.iloc[sample_idx]\n",
    "sample_image = sample.image.reshape((100, 400))\n",
    "\n",
    "print(sample)\n",
    "display(visualization.get_image_figure(sample_image))"
   ]
  },
  {
   "cell_type": "markdown",
   "metadata": {},
   "source": [
    "Calculate distances between query sample signatures and database signatures."
   ]
  },
  {
   "cell_type": "code",
   "execution_count": 79,
   "metadata": {},
   "outputs": [],
   "source": [
    "dist_data = []\n",
    "\n",
    "perimeter_area_ratio_sig = processing.apply_to_components(components, processing.perimeter_area_ratio_sig)\n",
    "rect_area_ratio_sig = processing.apply_to_components(components, processing.rect_area_ratio_sig)\n",
    "\n",
    "for idx, row in df_sigs.iterrows():\n",
    "    dist_data.append({\n",
    "        'BR': row.BR,\n",
    "        'CHI': row.CHI,\n",
    "        'version': row.version,\n",
    "        'image': row.image,\n",
    "        'emd_perimeter_area_ratio': emd_samples(row.perimeter_area_ratio_sig, sample.perimeter_area_ratio_sig),\n",
    "        'emd_rect_area_ratio': emd_samples(row.rect_area_ratio_sig, sample.rect_area_ratio_sig),\n",
    "        'emd_average_pixel_intensity': emd_samples(row.average_pixel_intensity_sig, sample.average_pixel_intensity_sig),\n",
    "        'l2_average_pixel_intensity': np.linalg.norm(row.average_pixel_intensity - sample.average_pixel_intensity),\n",
    "        'l2_fft': np.linalg.norm(row.fft - sample.fft)\n",
    "    })\n",
    "\n",
    "df_dist = pd.DataFrame(dist_data)"
   ]
  },
  {
   "cell_type": "code",
   "execution_count": 80,
   "metadata": {},
   "outputs": [],
   "source": [
    "dist_list = [\n",
    "    'emd_perimeter_area_ratio',\n",
    "    'emd_rect_area_ratio',\n",
    "    'emd_average_pixel_intensity',\n",
    "    'l2_average_pixel_intensity',\n",
    "    'l2_fft'\n",
    "]"
   ]
  },
  {
   "cell_type": "markdown",
   "metadata": {},
   "source": [
    "Display the most similar/dissimilar images for each signature."
   ]
  },
  {
   "cell_type": "code",
   "execution_count": 81,
   "metadata": {
    "scrolled": true
   },
   "outputs": [
    {
     "name": "stdout",
     "output_type": "stream",
     "text": [
      "------------------------------\n",
      "Nearest: 0\n",
      "------------------------------\n",
      "\n",
      "emd_perimeter_area_ratio\n",
      "BR                                                                           0.5\n",
      "CHI                                                                          3.4\n",
      "version                                                                        0\n",
      "image                          [0.9672163724899292, 0.9605730772018433, 0.961...\n",
      "emd_perimeter_area_ratio                                                       0\n",
      "emd_rect_area_ratio                                                            0\n",
      "emd_average_pixel_intensity                                                    0\n",
      "l2_average_pixel_intensity                                                     0\n",
      "l2_fft                                                                         0\n",
      "Name: 8, dtype: object\n"
     ]
    },
    {
     "data": {
      "application/vnd.jupyter.widget-view+json": {
       "model_id": "25560162850847bba07cc13955597437",
       "version_major": 2,
       "version_minor": 0
      },
      "text/plain": [
       "FigureWidget({\n",
       "    'data': [{'hoverinfo': 'none',\n",
       "              'showscale': False,\n",
       "              'type': 'hea…"
      ]
     },
     "metadata": {},
     "output_type": "display_data"
    },
    {
     "name": "stdout",
     "output_type": "stream",
     "text": [
      "\n",
      "\n",
      "====================================================\n",
      "\n",
      "\n",
      "emd_rect_area_ratio\n",
      "BR                                                                           0.5\n",
      "CHI                                                                          3.4\n",
      "version                                                                        0\n",
      "image                          [0.9672163724899292, 0.9605730772018433, 0.961...\n",
      "emd_perimeter_area_ratio                                                       0\n",
      "emd_rect_area_ratio                                                            0\n",
      "emd_average_pixel_intensity                                                    0\n",
      "l2_average_pixel_intensity                                                     0\n",
      "l2_fft                                                                         0\n",
      "Name: 8, dtype: object\n"
     ]
    },
    {
     "data": {
      "application/vnd.jupyter.widget-view+json": {
       "model_id": "ced81df86dd74cdab2225a7a350ab615",
       "version_major": 2,
       "version_minor": 0
      },
      "text/plain": [
       "FigureWidget({\n",
       "    'data': [{'hoverinfo': 'none',\n",
       "              'showscale': False,\n",
       "              'type': 'hea…"
      ]
     },
     "metadata": {},
     "output_type": "display_data"
    },
    {
     "name": "stdout",
     "output_type": "stream",
     "text": [
      "\n",
      "\n",
      "====================================================\n",
      "\n",
      "\n",
      "emd_average_pixel_intensity\n",
      "BR                                                                           0.5\n",
      "CHI                                                                          3.4\n",
      "version                                                                        0\n",
      "image                          [0.9672163724899292, 0.9605730772018433, 0.961...\n",
      "emd_perimeter_area_ratio                                                       0\n",
      "emd_rect_area_ratio                                                            0\n",
      "emd_average_pixel_intensity                                                    0\n",
      "l2_average_pixel_intensity                                                     0\n",
      "l2_fft                                                                         0\n",
      "Name: 8, dtype: object\n"
     ]
    },
    {
     "data": {
      "application/vnd.jupyter.widget-view+json": {
       "model_id": "9d001bd53c114213b6612d0d54d67e8a",
       "version_major": 2,
       "version_minor": 0
      },
      "text/plain": [
       "FigureWidget({\n",
       "    'data': [{'hoverinfo': 'none',\n",
       "              'showscale': False,\n",
       "              'type': 'hea…"
      ]
     },
     "metadata": {},
     "output_type": "display_data"
    },
    {
     "name": "stdout",
     "output_type": "stream",
     "text": [
      "\n",
      "\n",
      "====================================================\n",
      "\n",
      "\n",
      "l2_average_pixel_intensity\n",
      "BR                                                                           0.5\n",
      "CHI                                                                          3.4\n",
      "version                                                                        0\n",
      "image                          [0.9672163724899292, 0.9605730772018433, 0.961...\n",
      "emd_perimeter_area_ratio                                                       0\n",
      "emd_rect_area_ratio                                                            0\n",
      "emd_average_pixel_intensity                                                    0\n",
      "l2_average_pixel_intensity                                                     0\n",
      "l2_fft                                                                         0\n",
      "Name: 8, dtype: object\n"
     ]
    },
    {
     "data": {
      "application/vnd.jupyter.widget-view+json": {
       "model_id": "1b6231dcd48441828044c77a5e320052",
       "version_major": 2,
       "version_minor": 0
      },
      "text/plain": [
       "FigureWidget({\n",
       "    'data': [{'hoverinfo': 'none',\n",
       "              'showscale': False,\n",
       "              'type': 'hea…"
      ]
     },
     "metadata": {},
     "output_type": "display_data"
    },
    {
     "name": "stdout",
     "output_type": "stream",
     "text": [
      "\n",
      "\n",
      "====================================================\n",
      "\n",
      "\n",
      "l2_fft\n",
      "BR                                                                           0.5\n",
      "CHI                                                                          3.4\n",
      "version                                                                        0\n",
      "image                          [0.9672163724899292, 0.9605730772018433, 0.961...\n",
      "emd_perimeter_area_ratio                                                       0\n",
      "emd_rect_area_ratio                                                            0\n",
      "emd_average_pixel_intensity                                                    0\n",
      "l2_average_pixel_intensity                                                     0\n",
      "l2_fft                                                                         0\n",
      "Name: 8, dtype: object\n"
     ]
    },
    {
     "data": {
      "application/vnd.jupyter.widget-view+json": {
       "model_id": "401f492fe61240f9b08b53ec32a3d5b8",
       "version_major": 2,
       "version_minor": 0
      },
      "text/plain": [
       "FigureWidget({\n",
       "    'data': [{'hoverinfo': 'none',\n",
       "              'showscale': False,\n",
       "              'type': 'hea…"
      ]
     },
     "metadata": {},
     "output_type": "display_data"
    },
    {
     "name": "stdout",
     "output_type": "stream",
     "text": [
      "\n",
      "\n",
      "====================================================\n",
      "\n",
      "\n",
      "------------------------------\n",
      "Nearest: 1\n",
      "------------------------------\n",
      "\n",
      "emd_perimeter_area_ratio\n",
      "BR                                                                           0.5\n",
      "CHI                                                                          2.2\n",
      "version                                                                        3\n",
      "image                          [0.7341058850288391, 0.7345213294029236, 0.734...\n",
      "emd_perimeter_area_ratio                                               0.0175592\n",
      "emd_rect_area_ratio                                                     0.122303\n",
      "emd_average_pixel_intensity                                            0.0929909\n",
      "l2_average_pixel_intensity                                           0.000548533\n",
      "l2_fft                                                                   18617.2\n",
      "Name: 3, dtype: object\n"
     ]
    },
    {
     "data": {
      "application/vnd.jupyter.widget-view+json": {
       "model_id": "a3908a7f46f04e75addc279bdeb5abb2",
       "version_major": 2,
       "version_minor": 0
      },
      "text/plain": [
       "FigureWidget({\n",
       "    'data': [{'hoverinfo': 'none',\n",
       "              'showscale': False,\n",
       "              'type': 'hea…"
      ]
     },
     "metadata": {},
     "output_type": "display_data"
    },
    {
     "name": "stdout",
     "output_type": "stream",
     "text": [
      "\n",
      "\n",
      "====================================================\n",
      "\n",
      "\n",
      "emd_rect_area_ratio\n",
      "BR                                                                          0.53\n",
      "CHI                                                                          2.2\n",
      "version                                                                        3\n",
      "image                          [0.7307937741279602, 0.7297813296318054, 0.722...\n",
      "emd_perimeter_area_ratio                                               0.0675155\n",
      "emd_rect_area_ratio                                                    0.0131395\n",
      "emd_average_pixel_intensity                                            0.0197498\n",
      "l2_average_pixel_intensity                                              0.030446\n",
      "l2_fft                                                                   18377.4\n",
      "Name: 19, dtype: object\n"
     ]
    },
    {
     "data": {
      "application/vnd.jupyter.widget-view+json": {
       "model_id": "020b8ebe820e41e99af89260056f77d5",
       "version_major": 2,
       "version_minor": 0
      },
      "text/plain": [
       "FigureWidget({\n",
       "    'data': [{'hoverinfo': 'none',\n",
       "              'showscale': False,\n",
       "              'type': 'hea…"
      ]
     },
     "metadata": {},
     "output_type": "display_data"
    },
    {
     "name": "stdout",
     "output_type": "stream",
     "text": [
      "\n",
      "\n",
      "====================================================\n",
      "\n",
      "\n",
      "emd_average_pixel_intensity\n",
      "BR                                                                          0.53\n",
      "CHI                                                                          2.8\n",
      "version                                                                        3\n",
      "image                          [0.09346476197242737, 0.09355253726243973, 0.0...\n",
      "emd_perimeter_area_ratio                                                0.113602\n",
      "emd_rect_area_ratio                                                    0.0245626\n",
      "emd_average_pixel_intensity                                            0.0183687\n",
      "l2_average_pixel_intensity                                             0.0297534\n",
      "l2_fft                                                                   22804.1\n",
      "Name: 23, dtype: object\n"
     ]
    },
    {
     "data": {
      "application/vnd.jupyter.widget-view+json": {
       "model_id": "1f8ab8d39c904f28969b97cb298b1b74",
       "version_major": 2,
       "version_minor": 0
      },
      "text/plain": [
       "FigureWidget({\n",
       "    'data': [{'hoverinfo': 'none',\n",
       "              'showscale': False,\n",
       "              'type': 'hea…"
      ]
     },
     "metadata": {},
     "output_type": "display_data"
    },
    {
     "name": "stdout",
     "output_type": "stream",
     "text": [
      "\n",
      "\n",
      "====================================================\n",
      "\n",
      "\n",
      "l2_average_pixel_intensity\n",
      "BR                                                                           0.5\n",
      "CHI                                                                          3.4\n",
      "version                                                                        1\n",
      "image                          [0.3995059132575989, 0.17226170003414154, 0.09...\n",
      "emd_perimeter_area_ratio                                               0.0830628\n",
      "emd_rect_area_ratio                                                    0.0285179\n",
      "emd_average_pixel_intensity                                            0.0415177\n",
      "l2_average_pixel_intensity                                           2.17131e-05\n",
      "l2_fft                                                                   24299.5\n",
      "Name: 9, dtype: object\n"
     ]
    },
    {
     "data": {
      "application/vnd.jupyter.widget-view+json": {
       "model_id": "10e418db66924b42b535f70f46b1c0b6",
       "version_major": 2,
       "version_minor": 0
      },
      "text/plain": [
       "FigureWidget({\n",
       "    'data': [{'hoverinfo': 'none',\n",
       "              'showscale': False,\n",
       "              'type': 'hea…"
      ]
     },
     "metadata": {},
     "output_type": "display_data"
    },
    {
     "name": "stdout",
     "output_type": "stream",
     "text": [
      "\n",
      "\n",
      "====================================================\n",
      "\n",
      "\n",
      "l2_fft\n",
      "BR                                                                          0.59\n",
      "CHI                                                                          2.2\n",
      "version                                                                        1\n",
      "image                          [0.3056536018848419, 0.3736875057220459, 0.473...\n",
      "emd_perimeter_area_ratio                                               0.0791789\n",
      "emd_rect_area_ratio                                                     0.182706\n",
      "emd_average_pixel_intensity                                             0.151424\n",
      "l2_average_pixel_intensity                                             0.0901681\n",
      "l2_fft                                                                   18374.9\n",
      "Name: 49, dtype: object\n"
     ]
    },
    {
     "data": {
      "application/vnd.jupyter.widget-view+json": {
       "model_id": "4d3c301e6f0f42b1820057b0b49b83a2",
       "version_major": 2,
       "version_minor": 0
      },
      "text/plain": [
       "FigureWidget({\n",
       "    'data': [{'hoverinfo': 'none',\n",
       "              'showscale': False,\n",
       "              'type': 'hea…"
      ]
     },
     "metadata": {},
     "output_type": "display_data"
    },
    {
     "name": "stdout",
     "output_type": "stream",
     "text": [
      "\n",
      "\n",
      "====================================================\n",
      "\n",
      "\n",
      "------------------------------\n",
      "Nearest: 2\n",
      "------------------------------\n",
      "\n",
      "emd_perimeter_area_ratio\n",
      "BR                                                                          0.59\n",
      "CHI                                                                          2.8\n",
      "version                                                                        0\n",
      "image                          [0.08619406819343567, 0.08618982136249542, 0.0...\n",
      "emd_perimeter_area_ratio                                               0.0206642\n",
      "emd_rect_area_ratio                                                     0.173196\n",
      "emd_average_pixel_intensity                                             0.149188\n",
      "l2_average_pixel_intensity                                             0.0904247\n",
      "l2_fft                                                                     22726\n",
      "Name: 52, dtype: object\n"
     ]
    },
    {
     "data": {
      "application/vnd.jupyter.widget-view+json": {
       "model_id": "a8bc24e819f74fa085387370000878b6",
       "version_major": 2,
       "version_minor": 0
      },
      "text/plain": [
       "FigureWidget({\n",
       "    'data': [{'hoverinfo': 'none',\n",
       "              'showscale': False,\n",
       "              'type': 'hea…"
      ]
     },
     "metadata": {},
     "output_type": "display_data"
    },
    {
     "name": "stdout",
     "output_type": "stream",
     "text": [
      "\n",
      "\n",
      "====================================================\n",
      "\n",
      "\n",
      "emd_rect_area_ratio\n",
      "BR                                                                          0.53\n",
      "CHI                                                                          2.2\n",
      "version                                                                        1\n",
      "image                          [0.25181931257247925, 0.25400620698928833, 0.2...\n",
      "emd_perimeter_area_ratio                                               0.0733528\n",
      "emd_rect_area_ratio                                                    0.0184771\n",
      "emd_average_pixel_intensity                                            0.0231331\n",
      "l2_average_pixel_intensity                                             0.0305123\n",
      "l2_fft                                                                   18498.9\n",
      "Name: 17, dtype: object\n"
     ]
    },
    {
     "data": {
      "application/vnd.jupyter.widget-view+json": {
       "model_id": "071cb9cc06594f9a8f4e27f4dc2a2137",
       "version_major": 2,
       "version_minor": 0
      },
      "text/plain": [
       "FigureWidget({\n",
       "    'data': [{'hoverinfo': 'none',\n",
       "              'showscale': False,\n",
       "              'type': 'hea…"
      ]
     },
     "metadata": {},
     "output_type": "display_data"
    },
    {
     "name": "stdout",
     "output_type": "stream",
     "text": [
      "\n",
      "\n",
      "====================================================\n",
      "\n",
      "\n",
      "emd_average_pixel_intensity\n",
      "BR                                                                          0.56\n",
      "CHI                                                                            4\n",
      "version                                                                        1\n",
      "image                          [0.9755457043647766, 0.9740636944770813, 0.974...\n",
      "emd_perimeter_area_ratio                                                0.115713\n",
      "emd_rect_area_ratio                                                    0.0246588\n",
      "emd_average_pixel_intensity                                            0.0189821\n",
      "l2_average_pixel_intensity                                              0.060351\n",
      "l2_fft                                                                   24726.3\n",
      "Name: 45, dtype: object\n"
     ]
    },
    {
     "data": {
      "application/vnd.jupyter.widget-view+json": {
       "model_id": "7f5037ef69da4d1fac0b9bbf7e0eb8f2",
       "version_major": 2,
       "version_minor": 0
      },
      "text/plain": [
       "FigureWidget({\n",
       "    'data': [{'hoverinfo': 'none',\n",
       "              'showscale': False,\n",
       "              'type': 'hea…"
      ]
     },
     "metadata": {},
     "output_type": "display_data"
    },
    {
     "name": "stdout",
     "output_type": "stream",
     "text": [
      "\n",
      "\n",
      "====================================================\n",
      "\n",
      "\n",
      "l2_average_pixel_intensity\n",
      "BR                                                                           0.5\n",
      "CHI                                                                          3.4\n",
      "version                                                                        3\n",
      "image                          [0.9569482207298279, 0.9567086100578308, 0.956...\n",
      "emd_perimeter_area_ratio                                               0.0486155\n",
      "emd_rect_area_ratio                                                    0.0765318\n",
      "emd_average_pixel_intensity                                            0.0735032\n",
      "l2_average_pixel_intensity                                            2.2877e-05\n",
      "l2_fft                                                                   24336.9\n",
      "Name: 11, dtype: object\n"
     ]
    },
    {
     "data": {
      "application/vnd.jupyter.widget-view+json": {
       "model_id": "821edf2df80544c9a84c51ce7f860b70",
       "version_major": 2,
       "version_minor": 0
      },
      "text/plain": [
       "FigureWidget({\n",
       "    'data': [{'hoverinfo': 'none',\n",
       "              'showscale': False,\n",
       "              'type': 'hea…"
      ]
     },
     "metadata": {},
     "output_type": "display_data"
    },
    {
     "name": "stdout",
     "output_type": "stream",
     "text": [
      "\n",
      "\n",
      "====================================================\n",
      "\n",
      "\n",
      "l2_fft\n",
      "BR                                                                          0.53\n",
      "CHI                                                                          2.2\n",
      "version                                                                        3\n",
      "image                          [0.7307937741279602, 0.7297813296318054, 0.722...\n",
      "emd_perimeter_area_ratio                                               0.0675155\n",
      "emd_rect_area_ratio                                                    0.0131395\n",
      "emd_average_pixel_intensity                                            0.0197498\n",
      "l2_average_pixel_intensity                                              0.030446\n",
      "l2_fft                                                                   18377.4\n",
      "Name: 19, dtype: object\n"
     ]
    },
    {
     "data": {
      "application/vnd.jupyter.widget-view+json": {
       "model_id": "b4c7cf8a40ef4d04bb62fb5a77b24fbe",
       "version_major": 2,
       "version_minor": 0
      },
      "text/plain": [
       "FigureWidget({\n",
       "    'data': [{'hoverinfo': 'none',\n",
       "              'showscale': False,\n",
       "              'type': 'hea…"
      ]
     },
     "metadata": {},
     "output_type": "display_data"
    },
    {
     "name": "stdout",
     "output_type": "stream",
     "text": [
      "\n",
      "\n",
      "====================================================\n",
      "\n",
      "\n",
      "------------------------------\n",
      "Nearest: 3\n",
      "------------------------------\n",
      "\n",
      "emd_perimeter_area_ratio\n",
      "BR                                                                          0.53\n",
      "CHI                                                                          2.8\n",
      "version                                                                        0\n",
      "image                          [0.7614908814430237, 0.728289008140564, 0.7189...\n",
      "emd_perimeter_area_ratio                                               0.0274794\n",
      "emd_rect_area_ratio                                                    0.0520591\n",
      "emd_average_pixel_intensity                                            0.0604915\n",
      "l2_average_pixel_intensity                                             0.0295879\n",
      "l2_fft                                                                   22354.1\n",
      "Name: 20, dtype: object\n"
     ]
    },
    {
     "data": {
      "application/vnd.jupyter.widget-view+json": {
       "model_id": "46c8b63784e64bef969eb7aee4ad034b",
       "version_major": 2,
       "version_minor": 0
      },
      "text/plain": [
       "FigureWidget({\n",
       "    'data': [{'hoverinfo': 'none',\n",
       "              'showscale': False,\n",
       "              'type': 'hea…"
      ]
     },
     "metadata": {},
     "output_type": "display_data"
    },
    {
     "name": "stdout",
     "output_type": "stream",
     "text": [
      "\n",
      "\n",
      "====================================================\n",
      "\n",
      "\n",
      "emd_rect_area_ratio\n",
      "BR                                                                          0.53\n",
      "CHI                                                                          3.4\n",
      "version                                                                        0\n",
      "image                          [0.9529190063476562, 0.9536098837852478, 0.954...\n",
      "emd_perimeter_area_ratio                                                0.054225\n",
      "emd_rect_area_ratio                                                    0.0225656\n",
      "emd_average_pixel_intensity                                            0.0286231\n",
      "l2_average_pixel_intensity                                              0.030358\n",
      "l2_fft                                                                   24126.5\n",
      "Name: 24, dtype: object\n"
     ]
    },
    {
     "data": {
      "application/vnd.jupyter.widget-view+json": {
       "model_id": "ab90f5fbd1744d759f7aea87de5a0577",
       "version_major": 2,
       "version_minor": 0
      },
      "text/plain": [
       "FigureWidget({\n",
       "    'data': [{'hoverinfo': 'none',\n",
       "              'showscale': False,\n",
       "              'type': 'hea…"
      ]
     },
     "metadata": {},
     "output_type": "display_data"
    },
    {
     "name": "stdout",
     "output_type": "stream",
     "text": [
      "\n",
      "\n",
      "====================================================\n",
      "\n",
      "\n",
      "emd_average_pixel_intensity\n",
      "BR                                                                          0.53\n",
      "CHI                                                                          2.2\n",
      "version                                                                        3\n",
      "image                          [0.7307937741279602, 0.7297813296318054, 0.722...\n",
      "emd_perimeter_area_ratio                                               0.0675155\n",
      "emd_rect_area_ratio                                                    0.0131395\n",
      "emd_average_pixel_intensity                                            0.0197498\n",
      "l2_average_pixel_intensity                                              0.030446\n",
      "l2_fft                                                                   18377.4\n",
      "Name: 19, dtype: object\n"
     ]
    },
    {
     "data": {
      "application/vnd.jupyter.widget-view+json": {
       "model_id": "a7d654f79ef84027b080e91c9eb687b7",
       "version_major": 2,
       "version_minor": 0
      },
      "text/plain": [
       "FigureWidget({\n",
       "    'data': [{'hoverinfo': 'none',\n",
       "              'showscale': False,\n",
       "              'type': 'hea…"
      ]
     },
     "metadata": {},
     "output_type": "display_data"
    },
    {
     "name": "stdout",
     "output_type": "stream",
     "text": [
      "\n",
      "\n",
      "====================================================\n",
      "\n",
      "\n",
      "l2_average_pixel_intensity\n",
      "BR                                                                           0.5\n",
      "CHI                                                                          2.8\n",
      "version                                                                        0\n",
      "image                          [0.09411002695560455, 0.09400024265050888, 0.0...\n",
      "emd_perimeter_area_ratio                                               0.0427765\n",
      "emd_rect_area_ratio                                                    0.0988393\n",
      "emd_average_pixel_intensity                                            0.0642731\n",
      "l2_average_pixel_intensity                                           2.90456e-05\n",
      "l2_fft                                                                   23165.2\n",
      "Name: 4, dtype: object\n"
     ]
    },
    {
     "data": {
      "application/vnd.jupyter.widget-view+json": {
       "model_id": "71dff6c2dcb943388ccbb92d67d7180c",
       "version_major": 2,
       "version_minor": 0
      },
      "text/plain": [
       "FigureWidget({\n",
       "    'data': [{'hoverinfo': 'none',\n",
       "              'showscale': False,\n",
       "              'type': 'hea…"
      ]
     },
     "metadata": {},
     "output_type": "display_data"
    },
    {
     "name": "stdout",
     "output_type": "stream",
     "text": [
      "\n",
      "\n",
      "====================================================\n",
      "\n",
      "\n",
      "l2_fft\n",
      "BR                                                                           0.5\n",
      "CHI                                                                          2.2\n",
      "version                                                                        0\n",
      "image                          [0.7294167280197144, 0.7301174998283386, 0.725...\n",
      "emd_perimeter_area_ratio                                               0.0452845\n",
      "emd_rect_area_ratio                                                    0.0608418\n",
      "emd_average_pixel_intensity                                            0.0526264\n",
      "l2_average_pixel_intensity                                           0.000249371\n",
      "l2_fft                                                                   18464.4\n",
      "Name: 0, dtype: object\n"
     ]
    },
    {
     "data": {
      "application/vnd.jupyter.widget-view+json": {
       "model_id": "247abfbca36448808ce4d99b1e735b3a",
       "version_major": 2,
       "version_minor": 0
      },
      "text/plain": [
       "FigureWidget({\n",
       "    'data': [{'hoverinfo': 'none',\n",
       "              'showscale': False,\n",
       "              'type': 'hea…"
      ]
     },
     "metadata": {},
     "output_type": "display_data"
    },
    {
     "name": "stdout",
     "output_type": "stream",
     "text": [
      "\n",
      "\n",
      "====================================================\n",
      "\n",
      "\n"
     ]
    }
   ],
   "source": [
    "for idx in range(4):\n",
    "    print('-' * 30)\n",
    "    print(f'Nearest: {idx}')\n",
    "    print('-' * 30)\n",
    "    print()\n",
    "    for dist_name in dist_list:\n",
    "        print(dist_name)        \n",
    "        nearest = df_dist.sort_values(dist_name).iloc[idx]\n",
    "        print(nearest)\n",
    "        display(visualization.get_image_figure(nearest.image.reshape((100, 400))))\n",
    "        print('\\n\\n====================================================\\n\\n')"
   ]
  },
  {
   "cell_type": "code",
   "execution_count": 82,
   "metadata": {
    "scrolled": true
   },
   "outputs": [
    {
     "name": "stdout",
     "output_type": "stream",
     "text": [
      "------------------------------\n",
      "Furthest: 0\n",
      "------------------------------\n",
      "\n",
      "emd_perimeter_area_ratio\n",
      "BR                                                                          0.56\n",
      "CHI                                                                            4\n",
      "version                                                                        0\n",
      "image                          [0.002926476998254657, 0.023009920492768288, 0...\n",
      "emd_perimeter_area_ratio                                                0.195283\n",
      "emd_rect_area_ratio                                                    0.0357969\n",
      "emd_average_pixel_intensity                                            0.0359693\n",
      "l2_average_pixel_intensity                                             0.0603127\n",
      "l2_fft                                                                   24515.7\n",
      "Name: 44, dtype: object\n"
     ]
    },
    {
     "data": {
      "application/vnd.jupyter.widget-view+json": {
       "model_id": "0000c4bf43704a8aaf5d0a8d13c4fd9d",
       "version_major": 2,
       "version_minor": 0
      },
      "text/plain": [
       "FigureWidget({\n",
       "    'data': [{'hoverinfo': 'none',\n",
       "              'showscale': False,\n",
       "              'type': 'hea…"
      ]
     },
     "metadata": {},
     "output_type": "display_data"
    },
    {
     "name": "stdout",
     "output_type": "stream",
     "text": [
      "\n",
      "\n",
      "====================================================\n",
      "\n",
      "\n",
      "emd_rect_area_ratio\n",
      "BR                                                                          0.59\n",
      "CHI                                                                          2.2\n",
      "version                                                                        1\n",
      "image                          [0.3056536018848419, 0.3736875057220459, 0.473...\n",
      "emd_perimeter_area_ratio                                               0.0791789\n",
      "emd_rect_area_ratio                                                     0.182706\n",
      "emd_average_pixel_intensity                                             0.151424\n",
      "l2_average_pixel_intensity                                             0.0901681\n",
      "l2_fft                                                                   18374.9\n",
      "Name: 49, dtype: object\n"
     ]
    },
    {
     "data": {
      "application/vnd.jupyter.widget-view+json": {
       "model_id": "831855cc8a67407faae2fa1e4f40a64a",
       "version_major": 2,
       "version_minor": 0
      },
      "text/plain": [
       "FigureWidget({\n",
       "    'data': [{'hoverinfo': 'none',\n",
       "              'showscale': False,\n",
       "              'type': 'hea…"
      ]
     },
     "metadata": {},
     "output_type": "display_data"
    },
    {
     "name": "stdout",
     "output_type": "stream",
     "text": [
      "\n",
      "\n",
      "====================================================\n",
      "\n",
      "\n",
      "emd_average_pixel_intensity\n",
      "BR                                                                          0.59\n",
      "CHI                                                                          2.2\n",
      "version                                                                        2\n",
      "image                          [0.6712865829467773, 0.6950507760047913, 0.710...\n",
      "emd_perimeter_area_ratio                                               0.0826696\n",
      "emd_rect_area_ratio                                                     0.175181\n",
      "emd_average_pixel_intensity                                             0.155965\n",
      "l2_average_pixel_intensity                                              0.090298\n",
      "l2_fft                                                                   18655.1\n",
      "Name: 50, dtype: object\n"
     ]
    },
    {
     "data": {
      "application/vnd.jupyter.widget-view+json": {
       "model_id": "1ed03e2f5b8b4693a25f9a894713e963",
       "version_major": 2,
       "version_minor": 0
      },
      "text/plain": [
       "FigureWidget({\n",
       "    'data': [{'hoverinfo': 'none',\n",
       "              'showscale': False,\n",
       "              'type': 'hea…"
      ]
     },
     "metadata": {},
     "output_type": "display_data"
    },
    {
     "name": "stdout",
     "output_type": "stream",
     "text": [
      "\n",
      "\n",
      "====================================================\n",
      "\n",
      "\n",
      "l2_average_pixel_intensity\n",
      "BR                                                                          0.59\n",
      "CHI                                                                          2.8\n",
      "version                                                                        2\n",
      "image                          [0.08601965010166168, 0.08642247319221497, 0.1...\n",
      "emd_perimeter_area_ratio                                               0.0276864\n",
      "emd_rect_area_ratio                                                     0.177514\n",
      "emd_average_pixel_intensity                                               0.1456\n",
      "l2_average_pixel_intensity                                             0.0906463\n",
      "l2_fft                                                                   22186.1\n",
      "Name: 54, dtype: object\n"
     ]
    },
    {
     "data": {
      "application/vnd.jupyter.widget-view+json": {
       "model_id": "aac605c1653d4f5c8d6af268f5c415b8",
       "version_major": 2,
       "version_minor": 0
      },
      "text/plain": [
       "FigureWidget({\n",
       "    'data': [{'hoverinfo': 'none',\n",
       "              'showscale': False,\n",
       "              'type': 'hea…"
      ]
     },
     "metadata": {},
     "output_type": "display_data"
    },
    {
     "name": "stdout",
     "output_type": "stream",
     "text": [
      "\n",
      "\n",
      "====================================================\n",
      "\n",
      "\n",
      "l2_fft\n",
      "BR                                                                           0.5\n",
      "CHI                                                                            4\n",
      "version                                                                        2\n",
      "image                          [0.987883985042572, 0.9897258281707764, 0.9942...\n",
      "emd_perimeter_area_ratio                                                0.130084\n",
      "emd_rect_area_ratio                                                    0.0622008\n",
      "emd_average_pixel_intensity                                            0.0909609\n",
      "l2_average_pixel_intensity                                           0.000269425\n",
      "l2_fft                                                                   25044.2\n",
      "Name: 14, dtype: object\n"
     ]
    },
    {
     "data": {
      "application/vnd.jupyter.widget-view+json": {
       "model_id": "40bcbab31f7d4439b5eb14a2dde50916",
       "version_major": 2,
       "version_minor": 0
      },
      "text/plain": [
       "FigureWidget({\n",
       "    'data': [{'hoverinfo': 'none',\n",
       "              'showscale': False,\n",
       "              'type': 'hea…"
      ]
     },
     "metadata": {},
     "output_type": "display_data"
    },
    {
     "name": "stdout",
     "output_type": "stream",
     "text": [
      "\n",
      "\n",
      "====================================================\n",
      "\n",
      "\n",
      "------------------------------\n",
      "Furthest: 1\n",
      "------------------------------\n",
      "\n",
      "emd_perimeter_area_ratio\n",
      "BR                                                                          0.59\n",
      "CHI                                                                            4\n",
      "version                                                                        0\n",
      "image                          [0.01830443926155567, 0.018545100465416908, 0....\n",
      "emd_perimeter_area_ratio                                                  0.1806\n",
      "emd_rect_area_ratio                                                     0.111733\n",
      "emd_average_pixel_intensity                                            0.0932973\n",
      "l2_average_pixel_intensity                                             0.0905925\n",
      "l2_fft                                                                   24661.7\n",
      "Name: 60, dtype: object\n"
     ]
    },
    {
     "data": {
      "application/vnd.jupyter.widget-view+json": {
       "model_id": "b874d08bdcde46088566f40c2fbc46d8",
       "version_major": 2,
       "version_minor": 0
      },
      "text/plain": [
       "FigureWidget({\n",
       "    'data': [{'hoverinfo': 'none',\n",
       "              'showscale': False,\n",
       "              'type': 'hea…"
      ]
     },
     "metadata": {},
     "output_type": "display_data"
    },
    {
     "name": "stdout",
     "output_type": "stream",
     "text": [
      "\n",
      "\n",
      "====================================================\n",
      "\n",
      "\n",
      "emd_rect_area_ratio\n",
      "BR                                                                          0.59\n",
      "CHI                                                                          2.2\n",
      "version                                                                        0\n",
      "image                          [0.2874850928783417, 0.27464959025382996, 0.27...\n",
      "emd_perimeter_area_ratio                                               0.0813474\n",
      "emd_rect_area_ratio                                                     0.180145\n",
      "emd_average_pixel_intensity                                             0.151829\n",
      "l2_average_pixel_intensity                                             0.0903213\n",
      "l2_fft                                                                   18796.3\n",
      "Name: 48, dtype: object\n"
     ]
    },
    {
     "data": {
      "application/vnd.jupyter.widget-view+json": {
       "model_id": "e108f47d73734128a05db7edef0e8b9e",
       "version_major": 2,
       "version_minor": 0
      },
      "text/plain": [
       "FigureWidget({\n",
       "    'data': [{'hoverinfo': 'none',\n",
       "              'showscale': False,\n",
       "              'type': 'hea…"
      ]
     },
     "metadata": {},
     "output_type": "display_data"
    },
    {
     "name": "stdout",
     "output_type": "stream",
     "text": [
      "\n",
      "\n",
      "====================================================\n",
      "\n",
      "\n",
      "emd_average_pixel_intensity\n",
      "BR                                                                          0.59\n",
      "CHI                                                                          2.2\n",
      "version                                                                        3\n",
      "image                          [0.7120683193206787, 0.7018830180168152, 0.684...\n",
      "emd_perimeter_area_ratio                                               0.0933076\n",
      "emd_rect_area_ratio                                                      0.17616\n",
      "emd_average_pixel_intensity                                             0.152242\n",
      "l2_average_pixel_intensity                                             0.0898372\n",
      "l2_fft                                                                   18534.9\n",
      "Name: 51, dtype: object\n"
     ]
    },
    {
     "data": {
      "application/vnd.jupyter.widget-view+json": {
       "model_id": "8c602a71aa4b4ff09c88d186ea5a08af",
       "version_major": 2,
       "version_minor": 0
      },
      "text/plain": [
       "FigureWidget({\n",
       "    'data': [{'hoverinfo': 'none',\n",
       "              'showscale': False,\n",
       "              'type': 'hea…"
      ]
     },
     "metadata": {},
     "output_type": "display_data"
    },
    {
     "name": "stdout",
     "output_type": "stream",
     "text": [
      "\n",
      "\n",
      "====================================================\n",
      "\n",
      "\n",
      "l2_average_pixel_intensity\n",
      "BR                                                                          0.59\n",
      "CHI                                                                          2.8\n",
      "version                                                                        1\n",
      "image                          [0.8971381187438965, 0.896110475063324, 0.8951...\n",
      "emd_perimeter_area_ratio                                               0.0649842\n",
      "emd_rect_area_ratio                                                     0.139204\n",
      "emd_average_pixel_intensity                                             0.118518\n",
      "l2_average_pixel_intensity                                             0.0906224\n",
      "l2_fft                                                                   21993.6\n",
      "Name: 53, dtype: object\n"
     ]
    },
    {
     "data": {
      "application/vnd.jupyter.widget-view+json": {
       "model_id": "9d45517dd4274bdb9a2d524c45747f04",
       "version_major": 2,
       "version_minor": 0
      },
      "text/plain": [
       "FigureWidget({\n",
       "    'data': [{'hoverinfo': 'none',\n",
       "              'showscale': False,\n",
       "              'type': 'hea…"
      ]
     },
     "metadata": {},
     "output_type": "display_data"
    },
    {
     "name": "stdout",
     "output_type": "stream",
     "text": [
      "\n",
      "\n",
      "====================================================\n",
      "\n",
      "\n",
      "l2_fft\n",
      "BR                                                                           0.5\n",
      "CHI                                                                            4\n",
      "version                                                                        1\n",
      "image                          [0.9684615135192871, 0.8894497752189636, 0.815...\n",
      "emd_perimeter_area_ratio                                                0.108755\n",
      "emd_rect_area_ratio                                                    0.0294571\n",
      "emd_average_pixel_intensity                                            0.0277674\n",
      "l2_average_pixel_intensity                                           0.000149057\n",
      "l2_fft                                                                   25026.8\n",
      "Name: 13, dtype: object\n"
     ]
    },
    {
     "data": {
      "application/vnd.jupyter.widget-view+json": {
       "model_id": "a86570b5169340b791816f8116a234a5",
       "version_major": 2,
       "version_minor": 0
      },
      "text/plain": [
       "FigureWidget({\n",
       "    'data': [{'hoverinfo': 'none',\n",
       "              'showscale': False,\n",
       "              'type': 'hea…"
      ]
     },
     "metadata": {},
     "output_type": "display_data"
    },
    {
     "name": "stdout",
     "output_type": "stream",
     "text": [
      "\n",
      "\n",
      "====================================================\n",
      "\n",
      "\n",
      "------------------------------\n",
      "Furthest: 2\n",
      "------------------------------\n",
      "\n",
      "emd_perimeter_area_ratio\n",
      "BR                                                                          0.56\n",
      "CHI                                                                            4\n",
      "version                                                                        2\n",
      "image                          [0.6431540846824646, 0.9664037823677063, 0.974...\n",
      "emd_perimeter_area_ratio                                                0.167214\n",
      "emd_rect_area_ratio                                                      0.03932\n",
      "emd_average_pixel_intensity                                            0.0366682\n",
      "l2_average_pixel_intensity                                             0.0602426\n",
      "l2_fft                                                                   24310.2\n",
      "Name: 46, dtype: object\n"
     ]
    },
    {
     "data": {
      "application/vnd.jupyter.widget-view+json": {
       "model_id": "5a5da6d3975647ea8464e36a5634def3",
       "version_major": 2,
       "version_minor": 0
      },
      "text/plain": [
       "FigureWidget({\n",
       "    'data': [{'hoverinfo': 'none',\n",
       "              'showscale': False,\n",
       "              'type': 'hea…"
      ]
     },
     "metadata": {},
     "output_type": "display_data"
    },
    {
     "name": "stdout",
     "output_type": "stream",
     "text": [
      "\n",
      "\n",
      "====================================================\n",
      "\n",
      "\n",
      "emd_rect_area_ratio\n",
      "BR                                                                          0.59\n",
      "CHI                                                                          2.8\n",
      "version                                                                        2\n",
      "image                          [0.08601965010166168, 0.08642247319221497, 0.1...\n",
      "emd_perimeter_area_ratio                                               0.0276864\n",
      "emd_rect_area_ratio                                                     0.177514\n",
      "emd_average_pixel_intensity                                               0.1456\n",
      "l2_average_pixel_intensity                                             0.0906463\n",
      "l2_fft                                                                   22186.1\n",
      "Name: 54, dtype: object\n"
     ]
    },
    {
     "data": {
      "application/vnd.jupyter.widget-view+json": {
       "model_id": "f7079e4de74244beb16626dda6519b55",
       "version_major": 2,
       "version_minor": 0
      },
      "text/plain": [
       "FigureWidget({\n",
       "    'data': [{'hoverinfo': 'none',\n",
       "              'showscale': False,\n",
       "              'type': 'hea…"
      ]
     },
     "metadata": {},
     "output_type": "display_data"
    },
    {
     "name": "stdout",
     "output_type": "stream",
     "text": [
      "\n",
      "\n",
      "====================================================\n",
      "\n",
      "\n",
      "emd_average_pixel_intensity\n",
      "BR                                                                          0.59\n",
      "CHI                                                                          2.2\n",
      "version                                                                        0\n",
      "image                          [0.2874850928783417, 0.27464959025382996, 0.27...\n",
      "emd_perimeter_area_ratio                                               0.0813474\n",
      "emd_rect_area_ratio                                                     0.180145\n",
      "emd_average_pixel_intensity                                             0.151829\n",
      "l2_average_pixel_intensity                                             0.0903213\n",
      "l2_fft                                                                   18796.3\n",
      "Name: 48, dtype: object\n"
     ]
    },
    {
     "data": {
      "application/vnd.jupyter.widget-view+json": {
       "model_id": "166bb69689584018ac8effb4daedd80b",
       "version_major": 2,
       "version_minor": 0
      },
      "text/plain": [
       "FigureWidget({\n",
       "    'data': [{'hoverinfo': 'none',\n",
       "              'showscale': False,\n",
       "              'type': 'hea…"
      ]
     },
     "metadata": {},
     "output_type": "display_data"
    },
    {
     "name": "stdout",
     "output_type": "stream",
     "text": [
      "\n",
      "\n",
      "====================================================\n",
      "\n",
      "\n",
      "l2_average_pixel_intensity\n",
      "BR                                                                          0.59\n",
      "CHI                                                                            4\n",
      "version                                                                        3\n",
      "image                          [0.9757997989654541, 0.9780877828598022, 0.957...\n",
      "emd_perimeter_area_ratio                                                 0.14174\n",
      "emd_rect_area_ratio                                                     0.139112\n",
      "emd_average_pixel_intensity                                              0.11503\n",
      "l2_average_pixel_intensity                                             0.0905926\n",
      "l2_fft                                                                   24495.3\n",
      "Name: 63, dtype: object\n"
     ]
    },
    {
     "data": {
      "application/vnd.jupyter.widget-view+json": {
       "model_id": "7a117642367241a7a46af5e3fe8171aa",
       "version_major": 2,
       "version_minor": 0
      },
      "text/plain": [
       "FigureWidget({\n",
       "    'data': [{'hoverinfo': 'none',\n",
       "              'showscale': False,\n",
       "              'type': 'hea…"
      ]
     },
     "metadata": {},
     "output_type": "display_data"
    },
    {
     "name": "stdout",
     "output_type": "stream",
     "text": [
      "\n",
      "\n",
      "====================================================\n",
      "\n",
      "\n",
      "l2_fft\n",
      "BR                                                                          0.53\n",
      "CHI                                                                            4\n",
      "version                                                                        2\n",
      "image                          [0.978229820728302, 0.9779106974601746, 0.9778...\n",
      "emd_perimeter_area_ratio                                               0.0679454\n",
      "emd_rect_area_ratio                                                    0.0459085\n",
      "emd_average_pixel_intensity                                            0.0520612\n",
      "l2_average_pixel_intensity                                             0.0303744\n",
      "l2_fft                                                                   25001.7\n",
      "Name: 30, dtype: object\n"
     ]
    },
    {
     "data": {
      "application/vnd.jupyter.widget-view+json": {
       "model_id": "dd15300428064f7f9e85d8697fcbec09",
       "version_major": 2,
       "version_minor": 0
      },
      "text/plain": [
       "FigureWidget({\n",
       "    'data': [{'hoverinfo': 'none',\n",
       "              'showscale': False,\n",
       "              'type': 'hea…"
      ]
     },
     "metadata": {},
     "output_type": "display_data"
    },
    {
     "name": "stdout",
     "output_type": "stream",
     "text": [
      "\n",
      "\n",
      "====================================================\n",
      "\n",
      "\n"
     ]
    }
   ],
   "source": [
    "for idx in range(3):\n",
    "    print('-' * 30)\n",
    "    print(f'Furthest: {idx}')\n",
    "    print('-' * 30)\n",
    "    print()\n",
    "    for dist_name in dist_list:\n",
    "        print(dist_name)        \n",
    "        furthest = df_dist.sort_values(dist_name).iloc[-1-idx]\n",
    "        print(furthest)\n",
    "        display(visualization.get_image_figure(furthest.image.reshape((100, 400))))\n",
    "        print('\\n\\n====================================================\\n\\n')"
   ]
  },
  {
   "cell_type": "markdown",
   "metadata": {},
   "source": [
    "## Distance Matrix"
   ]
  },
  {
   "cell_type": "code",
   "execution_count": 83,
   "metadata": {},
   "outputs": [],
   "source": [
    "chi_values = df_sigs.CHI.unique()\n",
    "br_values = df_sigs.BR.unique()\n",
    "version_values = df_sigs.version.unique()\n",
    "\n",
    "def get_dist_matrix(sigs_x, sigs_y=None):\n",
    "    if sigs_y is None:\n",
    "        sigs_y = sigs_x\n",
    "    dist_matrix = []\n",
    "    for y in sigs_y:\n",
    "        row = []\n",
    "        for x in sigs_x:\n",
    "            row.append(emd_samples(x, y))\n",
    "        dist_matrix.append(row)\n",
    "    return dist_matrix"
   ]
  },
  {
   "cell_type": "code",
   "execution_count": 84,
   "metadata": {},
   "outputs": [
    {
     "name": "stdout",
     "output_type": "stream",
     "text": [
      "BR                                                                           0.5\n",
      "CHI                                                                          3.4\n",
      "count                                                                        287\n",
      "image                          [0.9672163724899292, 0.9605730772018433, 0.961...\n",
      "timestep                                                                     275\n",
      "version                                                                        0\n",
      "perimeter_area_ratio_sig       [0.2814185431418234, 0.22127872410073543, 0.22...\n",
      "rect_area_ratio_sig            [0.47039473684210525, 0.014538461538461538, 0....\n",
      "average_pixel_intensity_sig    [0.7171052631578947, 0.3249230769230769, 0.576...\n",
      "average_pixel_intensity                                                 0.499775\n",
      "fft                            [[(19990.983684109524+0j), (9.378978828087622+...\n",
      "Name: 394, dtype: object\n"
     ]
    },
    {
     "data": {
      "application/vnd.jupyter.widget-view+json": {
       "model_id": "a791709415204bc18681c256faefc53c",
       "version_major": 2,
       "version_minor": 0
      },
      "text/plain": [
       "FigureWidget({\n",
       "    'data': [{'hoverinfo': 'none',\n",
       "              'showscale': False,\n",
       "              'type': 'hea…"
      ]
     },
     "metadata": {},
     "output_type": "display_data"
    },
    {
     "name": "stdout",
     "output_type": "stream",
     "text": [
      "\n",
      "emd_perimeter_area_ratio\n"
     ]
    },
    {
     "data": {
      "application/vnd.jupyter.widget-view+json": {
       "model_id": "49824feb96dd4f0080c8b074d443f1ff",
       "version_major": 2,
       "version_minor": 0
      },
      "text/plain": [
       "FigureWidget({\n",
       "    'data': [{'type': 'heatmap',\n",
       "              'uid': '106ee7b6-cc23-4771-9fbb-559fb3afe083',\n",
       " …"
      ]
     },
     "metadata": {},
     "output_type": "display_data"
    },
    {
     "name": "stdout",
     "output_type": "stream",
     "text": [
      "emd_rect_area_ratio\n"
     ]
    },
    {
     "data": {
      "application/vnd.jupyter.widget-view+json": {
       "model_id": "725b5cc5d17946e0b9403b8d3722001a",
       "version_major": 2,
       "version_minor": 0
      },
      "text/plain": [
       "FigureWidget({\n",
       "    'data': [{'type': 'heatmap',\n",
       "              'uid': 'f1714c2b-13b9-4a5d-91fb-2829afd6c552',\n",
       " …"
      ]
     },
     "metadata": {},
     "output_type": "display_data"
    },
    {
     "name": "stdout",
     "output_type": "stream",
     "text": [
      "emd_average_pixel_intensity\n"
     ]
    },
    {
     "data": {
      "application/vnd.jupyter.widget-view+json": {
       "model_id": "e211d86f56c3492899125dcc04ff0104",
       "version_major": 2,
       "version_minor": 0
      },
      "text/plain": [
       "FigureWidget({\n",
       "    'data': [{'type': 'heatmap',\n",
       "              'uid': '1fe743db-e8c2-47ff-a468-7e01e00b1ced',\n",
       " …"
      ]
     },
     "metadata": {},
     "output_type": "display_data"
    },
    {
     "name": "stdout",
     "output_type": "stream",
     "text": [
      "l2_average_pixel_intensity\n"
     ]
    },
    {
     "data": {
      "application/vnd.jupyter.widget-view+json": {
       "model_id": "d881199922114e76a8a06714ebc69d97",
       "version_major": 2,
       "version_minor": 0
      },
      "text/plain": [
       "FigureWidget({\n",
       "    'data': [{'type': 'heatmap',\n",
       "              'uid': 'e52e1137-5300-4378-9f96-a70e9d8ea1c4',\n",
       " …"
      ]
     },
     "metadata": {},
     "output_type": "display_data"
    },
    {
     "name": "stdout",
     "output_type": "stream",
     "text": [
      "l2_fft\n"
     ]
    },
    {
     "data": {
      "application/vnd.jupyter.widget-view+json": {
       "model_id": "fcd51b2a9e454d13b41944dd71865f0d",
       "version_major": 2,
       "version_minor": 0
      },
      "text/plain": [
       "FigureWidget({\n",
       "    'data': [{'type': 'heatmap',\n",
       "              'uid': '61279d42-60a9-4f2e-aa1b-86f1a5f0781d',\n",
       " …"
      ]
     },
     "metadata": {},
     "output_type": "display_data"
    }
   ],
   "source": [
    "dist_name_pretty = {\n",
    "    'emd_perimeter_area_ratio': 'Average EMD (Perimeter to Area Ratio)',\n",
    "    'emd_rect_area_ratio': 'Average EMD (Rectangle Area Ratio)',\n",
    "    'emd_average_pixel_intensity': 'Average EMD (Average Pixel Intensity)',\n",
    "    'l2_average_pixel_intensity': 'Average L2 (Average Pixel Intensity)',\n",
    "    'l2_fft': 'Average L2 (FFT)'\n",
    "}\n",
    "\n",
    "print(sample)\n",
    "display(visualization.get_image_figure(sample_image))\n",
    "print()\n",
    "\n",
    "for dist_name in dist_list:\n",
    "    print(dist_name)\n",
    "    dist_matrix = []\n",
    "    for chi in chi_values:\n",
    "        row = []\n",
    "        for br in br_values:\n",
    "            version_dists = []\n",
    "            for version in version_values:\n",
    "                comp_sample = df_dist[\n",
    "                    (df_dist.CHI == chi) &\n",
    "                    (df_dist.BR == br) &\n",
    "                    (df_dist.version == version)\n",
    "                ].iloc[0]\n",
    "                if (comp_sample[['CHI', 'BR', 'version']] == sample[['CHI', 'BR', 'version']]).all():\n",
    "                    continue\n",
    "                version_dists.append(comp_sample[dist_name])\n",
    "            row.append(np.mean(version_dists))\n",
    "        dist_matrix.append(row)\n",
    "    \n",
    "    title = f'''$\\\\text{{{dist_name_pretty[dist_name]}}}\\\\\\\\\n",
    "    \\\\text{{Sample: }}(\\phi={sample.BR}, \\chi={sample.CHI}, \\\\text{{version}}={sample.version})$'''\n",
    "\n",
    "    viz = visualization.get_distance_matrix_figure(\n",
    "        dist_matrix,\n",
    "        labels_x = br_values,\n",
    "        labels_y = chi_values,\n",
    "        scaleanchor=None,\n",
    "        showticklabels=True,\n",
    "        title=title,\n",
    "        xtitle='$\\phi$',\n",
    "        ytitle='$\\chi$'\n",
    "    )\n",
    "    display(viz)"
   ]
  },
  {
   "cell_type": "code",
   "execution_count": null,
   "metadata": {},
   "outputs": [],
   "source": []
  }
 ],
 "metadata": {
  "kernelspec": {
   "display_name": "morphology-similarity",
   "language": "python",
   "name": "morphology-similarity"
  },
  "language_info": {
   "codemirror_mode": {
    "name": "ipython",
    "version": 3
   },
   "file_extension": ".py",
   "mimetype": "text/x-python",
   "name": "python",
   "nbconvert_exporter": "python",
   "pygments_lexer": "ipython3",
   "version": "3.6.9"
  }
 },
 "nbformat": 4,
 "nbformat_minor": 4
}
