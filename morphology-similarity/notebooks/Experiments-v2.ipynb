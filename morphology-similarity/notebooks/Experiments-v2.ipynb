{
 "cells": [
  {
   "cell_type": "code",
   "execution_count": 1,
   "metadata": {},
   "outputs": [],
   "source": [
    "import pandas as pd\n",
    "import numpy as np\n",
    "from pyemd import emd_samples\n",
    "import plotly.graph_objects as go\n",
    "from IPython.display import display\n",
    "\n",
    "# To import packages from the parent directory\n",
    "import sys\n",
    "sys.path.insert(0,'..')\n",
    "\n",
    "# Autoreload allows us to update our code mid-notebook\n",
    "%load_ext autoreload\n",
    "%autoreload 2\n",
    "\n",
    "# Our code\n",
    "from main import *"
   ]
  },
  {
   "cell_type": "code",
   "execution_count": 7,
   "metadata": {},
   "outputs": [
    {
     "name": "stdout",
     "output_type": "stream",
     "text": [
      "Length of df: 11681\n"
     ]
    }
   ],
   "source": [
    "file_path = '../data/20200423-1804_states.pickle'\n",
    "#file_path = '../data/sample_morphologies.pickle'\n",
    "df = pd.read_pickle(file_path)\n",
    "print(f'Length of df: {len(df)}')"
   ]
  },
  {
   "cell_type": "code",
   "execution_count": 8,
   "metadata": {},
   "outputs": [
    {
     "name": "stdout",
     "output_type": "stream",
     "text": [
      "BR                                                       0.53\n",
      "CHI                                                         4\n",
      "count                                                     300\n",
      "image       [0.972673773765564, 0.6607276797294617, 0.0733...\n",
      "timestep                                                   40\n",
      "version                                                     2\n",
      "Name: 40, dtype: object\n"
     ]
    },
    {
     "data": {
      "application/vnd.jupyter.widget-view+json": {
       "model_id": "0d4b1cb53d104244993a63e6c1b30f37",
       "version_major": 2,
       "version_minor": 0
      },
      "text/plain": [
       "FigureWidget({\n",
       "    'data': [{'hoverinfo': 'none',\n",
       "              'showscale': False,\n",
       "              'type': 'hea…"
      ]
     },
     "metadata": {},
     "output_type": "display_data"
    }
   ],
   "source": [
    "sample = df.iloc[40]\n",
    "\n",
    "sample_image = np.array(sample.image).reshape((100, 400))\n",
    "\n",
    "fig = visualization.get_image_figure(sample_image)\n",
    "\n",
    "print(sample)\n",
    "display(fig)"
   ]
  },
  {
   "cell_type": "code",
   "execution_count": 25,
   "metadata": {},
   "outputs": [],
   "source": [
    "traj_data = df[\n",
    "    (df.BR  == 0.5) &\n",
    "    (df.CHI == 2.2) &\n",
    "    (df.version == 0)\n",
    "]"
   ]
  },
  {
   "cell_type": "code",
   "execution_count": 26,
   "metadata": {},
   "outputs": [],
   "source": [
    "traj = Trajectory(br=0.5, chi=2.2, version=0)"
   ]
  },
  {
   "cell_type": "code",
   "execution_count": 29,
   "metadata": {},
   "outputs": [
    {
     "data": {
      "text/plain": [
       "[]"
      ]
     },
     "execution_count": 29,
     "metadata": {},
     "output_type": "execute_result"
    }
   ],
   "source": [
    "traj.morphologies"
   ]
  },
  {
   "cell_type": "code",
   "execution_count": 32,
   "metadata": {},
   "outputs": [],
   "source": [
    "traj.cache_morphologies(images=traj_data.image, timesteps=traj_data.timestep)"
   ]
  },
  {
   "cell_type": "code",
   "execution_count": 33,
   "metadata": {},
   "outputs": [
    {
     "data": {
      "application/vnd.jupyter.widget-view+json": {
       "model_id": "c673695b0bc84d038ef8f2e85ebb26ea",
       "version_major": 2,
       "version_minor": 0
      },
      "text/plain": [
       "FigureWidget({\n",
       "    'data': [{'hoverinfo': 'none',\n",
       "              'showscale': False,\n",
       "              'type': 'hea…"
      ]
     },
     "metadata": {},
     "output_type": "display_data"
    }
   ],
   "source": [
    "traj.morphologies[-1].viz()"
   ]
  },
  {
   "cell_type": "markdown",
   "metadata": {},
   "source": [
    "## Distance Matrix"
   ]
  },
  {
   "cell_type": "code",
   "execution_count": 34,
   "metadata": {},
   "outputs": [
    {
     "name": "stdout",
     "output_type": "stream",
     "text": [
      "chi_values     : [2.2 2.8 3.4 4. ]\n",
      "br_values      : [0.5  0.53 0.56 0.59]\n",
      "version_values : [0 1 2 3]\n"
     ]
    }
   ],
   "source": [
    "chi_values = np.sort(df.CHI.unique())\n",
    "br_values = np.sort(df.BR.unique())\n",
    "version_values = np.sort(df.version.unique())\n",
    "\n",
    "print(f'chi_values     : {chi_values}')\n",
    "print(f'br_values      : {br_values}')\n",
    "print(f'version_values : {version_values}')"
   ]
  },
  {
   "cell_type": "code",
   "execution_count": 55,
   "metadata": {},
   "outputs": [
    {
     "name": "stdout",
     "output_type": "stream",
     "text": [
      "Loading Traj 1\n"
     ]
    },
    {
     "ename": "NameError",
     "evalue": "name 'df' is not defined",
     "output_type": "error",
     "traceback": [
      "\u001b[0;31m---------------------------------------------------------------------------\u001b[0m",
      "\u001b[0;31mNameError\u001b[0m                                 Traceback (most recent call last)",
      "\u001b[0;32m<ipython-input-55-936a868cb25e>\u001b[0m in \u001b[0;36m<module>\u001b[0;34m\u001b[0m\n\u001b[1;32m      1\u001b[0m \u001b[0mprint\u001b[0m\u001b[0;34m(\u001b[0m\u001b[0;34m\"Loading Traj 1\"\u001b[0m\u001b[0;34m)\u001b[0m\u001b[0;34m\u001b[0m\u001b[0;34m\u001b[0m\u001b[0m\n\u001b[1;32m      2\u001b[0m traj_1 = load_trajectory_from_dataframe(\n\u001b[0;32m----> 3\u001b[0;31m     df[\n\u001b[0m\u001b[1;32m      4\u001b[0m         \u001b[0;34m(\u001b[0m\u001b[0mdf\u001b[0m\u001b[0;34m.\u001b[0m\u001b[0mBR\u001b[0m  \u001b[0;34m==\u001b[0m \u001b[0;36m0.5\u001b[0m\u001b[0;34m)\u001b[0m \u001b[0;34m&\u001b[0m\u001b[0;34m\u001b[0m\u001b[0;34m\u001b[0m\u001b[0m\n\u001b[1;32m      5\u001b[0m         \u001b[0;34m(\u001b[0m\u001b[0mdf\u001b[0m\u001b[0;34m.\u001b[0m\u001b[0mCHI\u001b[0m \u001b[0;34m==\u001b[0m \u001b[0;36m2.2\u001b[0m\u001b[0;34m)\u001b[0m \u001b[0;34m&\u001b[0m\u001b[0;34m\u001b[0m\u001b[0;34m\u001b[0m\u001b[0m\n",
      "\u001b[0;31mNameError\u001b[0m: name 'df' is not defined"
     ]
    }
   ],
   "source": [
    "print(\"Loading Traj 1\")\n",
    "traj_1 = load_trajectory_from_dataframe(\n",
    "    df[\n",
    "        (df.BR  == 0.5) &\n",
    "        (df.CHI == 2.2) &\n",
    "        (df.version == 0)\n",
    "    ]\n",
    ")\n",
    "\n",
    "print(\"Loading Traj 2\")\n",
    "traj_2 = load_trajectory_from_dataframe(\n",
    "    df[\n",
    "        (df.BR  == 0.5) &\n",
    "        (df.CHI == 2.2) &\n",
    "        (df.version == 1)\n",
    "    ]\n",
    ")\n",
    "\n",
    "print(\"Loading Traj 3\")\n",
    "traj_3 = load_trajectory_from_dataframe(\n",
    "    df[\n",
    "        (df.BR  == 0.53) &\n",
    "        (df.CHI == 2.8) &\n",
    "        (df.version == 0)\n",
    "    ]\n",
    ")"
   ]
  },
  {
   "cell_type": "code",
   "execution_count": 16,
   "metadata": {},
   "outputs": [],
   "source": [
    "traj_1 = Trajectory(br=0.5, chi=2.2, version=0)"
   ]
  },
  {
   "cell_type": "code",
   "execution_count": 10,
   "metadata": {},
   "outputs": [],
   "source": [
    "traj_1.cache_signatures(perimeter_area_ratio_sig)"
   ]
  },
  {
   "cell_type": "code",
   "execution_count": 17,
   "metadata": {},
   "outputs": [
    {
     "data": {
      "text/plain": [
       "{'perimeter_area_ratio_sig': array([0.84488765, 0.74167634, 1.13807119, 0.6       , 0.88672954,\n",
       "        0.        , 0.9279188 , 1.02071068, 0.94222159, 0.        ,\n",
       "        0.        , 0.82071068, 0.33333333, 0.        , 0.77693089,\n",
       "        0.86982524, 0.        , 0.88284271, 0.40236893, 0.5       ,\n",
       "        0.8017767 , 1.09204746, 0.90236893, 1.0345178 , 0.73138298,\n",
       "        1.04142136, 0.8       , 0.76654368, 0.83295593, 0.74913058,\n",
       "        0.        , 0.        , 0.81903559, 0.        , 0.82998316,\n",
       "        0.        , 0.91190075, 1.        , 0.        , 0.        ,\n",
       "        1.13807119, 0.84142136, 0.93688672, 0.6       , 0.84142136,\n",
       "        0.84142136, 0.75192075, 0.33333333, 0.33333333, 0.        ,\n",
       "        0.73372815, 0.        , 0.        , 0.82761424, 0.        ,\n",
       "        0.        , 0.75575565, 0.87313708, 0.        , 0.91190075,\n",
       "        0.33333333, 0.88284271, 0.40236893, 0.72189514, 0.        ,\n",
       "        1.0517767 , 0.77032018, 0.        , 0.69767645, 0.        ,\n",
       "        1.10355339, 0.90808802, 0.        , 1.04142136, 1.02958668,\n",
       "        0.        , 0.93392557, 0.33333333, 0.77345908, 0.40236893,\n",
       "        0.33333333, 0.        , 0.        , 0.        , 1.04142136,\n",
       "        0.        , 0.96213203, 0.33333333, 0.79924628, 0.7438724 ,\n",
       "        0.93121843, 1.0517767 , 0.        , 0.8928371 , 0.9       ,\n",
       "        0.78375639, 1.10355339, 0.        , 1.06903559, 0.        ,\n",
       "        0.        , 0.        , 0.70823898, 1.04142136, 0.7180651 ,\n",
       "        0.75542672, 0.755155  , 0.75235957, 0.        , 0.        ,\n",
       "        0.        , 0.84615385, 0.        , 0.84142136, 0.94590291,\n",
       "        0.        , 1.        , 1.04142136, 0.        , 0.84142136,\n",
       "        0.        , 1.13807119, 1.10355339, 0.        , 0.        ,\n",
       "        0.90355339, 0.        , 0.        , 0.5       , 0.8017767 ,\n",
       "        0.        , 0.33333333, 0.33333333, 0.79019105, 0.        ,\n",
       "        0.        , 0.91190075, 0.        , 0.95118446, 1.04142136,\n",
       "        0.5517767 , 0.        , 1.01593129, 0.88284271, 0.        ,\n",
       "        0.7278131 , 0.88165976, 0.86785113, 0.9267767 , 0.        ,\n",
       "        0.        , 0.875     , 0.88284271, 0.        , 0.        ,\n",
       "        1.0517767 , 0.        , 1.06903559, 0.        , 0.        ,\n",
       "        0.86785113, 0.        , 0.        , 0.        , 0.        ,\n",
       "        0.94590291, 1.13807119, 0.88672954, 0.        , 0.        ,\n",
       "        0.33333333, 0.        , 0.        , 1.13807119, 0.        ,\n",
       "        0.63848004, 0.        , 0.66666667, 0.74771579, 0.86982524,\n",
       "        0.        , 0.87801643, 0.75670359, 0.        , 0.        ,\n",
       "        0.86221913, 0.82380151, 0.88284271, 0.        , 0.73570226,\n",
       "        0.        , 0.        , 0.5       , 0.        , 0.67265305,\n",
       "        1.10355339, 0.6       , 0.83284271, 0.68523969, 0.70601124,\n",
       "        0.76806649, 0.58586949, 0.        , 0.        , 1.02958668,\n",
       "        1.15533009, 0.33333333, 0.33333333, 1.13807119, 0.        ,\n",
       "        0.        , 0.        , 0.60355339, 0.        , 0.        ,\n",
       "        0.91962783, 0.        , 0.85548618, 0.        , 0.33333333,\n",
       "        0.95266504, 1.        , 0.7494339 , 0.        , 0.        ,\n",
       "        0.        , 0.33333333, 0.84142136, 0.33333333, 0.        ,\n",
       "        1.04142136, 0.85023635, 0.71428571, 1.04142136, 0.        ,\n",
       "        0.        , 1.12426407, 0.        , 0.8017767 , 0.        ,\n",
       "        0.91321682, 1.04142136, 0.90088835, 0.        , 0.        ,\n",
       "        0.        , 0.8017767 , 0.33333333, 0.33333333, 0.        ,\n",
       "        1.        , 0.        , 0.6       , 0.        , 0.79455844,\n",
       "        0.        , 0.88521164, 0.8017767 , 1.06903559, 1.        ,\n",
       "        0.        , 0.80304576, 0.88284271, 0.        , 0.        ,\n",
       "        1.12426407, 0.        , 0.        , 1.02958668, 1.10355339,\n",
       "        0.        , 0.93114915, 0.        , 0.90808802, 0.5       ,\n",
       "        0.77777778, 0.        , 0.5       , 0.        , 0.        ,\n",
       "        0.        , 0.        , 0.79455844, 0.        , 0.75122498,\n",
       "        0.        , 0.92426407, 0.        , 1.13807119, 0.98990748,\n",
       "        1.13807119, 0.        , 0.76035534, 0.76230301, 0.67200676,\n",
       "        0.        , 0.82217475, 0.33333333, 1.13807119, 0.69714284,\n",
       "        1.02958668, 0.33333333, 0.8017767 , 0.        , 1.07298381,\n",
       "        1.        , 0.85714286, 0.68284271, 0.79450472, 0.        ,\n",
       "        0.88926768, 1.0345178 , 0.86785113, 0.89349337, 0.        ,\n",
       "        0.85714286, 0.66666667, 0.86785113, 0.        , 0.        ,\n",
       "        1.13807119, 0.        , 0.33333333, 0.        , 0.        ,\n",
       "        0.77777778, 0.        , 0.        , 0.7804238 , 0.        ,\n",
       "        0.        , 0.        , 0.76492851, 0.        , 0.        ,\n",
       "        0.        , 0.        , 0.33333333, 0.77412922, 0.        ,\n",
       "        1.04602373, 0.79312771, 1.0517767 , 1.02958668, 0.40236893,\n",
       "        0.33333333, 1.04142136, 0.33333333, 0.        , 0.        ,\n",
       "        0.        , 0.33333333, 0.        , 0.        , 0.84142136,\n",
       "        0.91631622, 0.        , 0.        , 0.84803883, 0.        ,\n",
       "        0.71520641, 0.        , 0.        , 0.        , 1.04142136,\n",
       "        0.        , 1.        , 0.81846368, 1.03466296, 0.77755881,\n",
       "        1.06903559, 0.79723813, 0.33333333, 0.8017767 , 0.        ,\n",
       "        0.8017767 , 0.69751611, 0.        , 0.        , 0.80139046,\n",
       "        0.33333333, 0.78106795, 0.33333333, 0.83307511, 0.33333333,\n",
       "        1.06903559, 0.        , 0.        , 0.70164003, 0.        ,\n",
       "        0.78627417, 0.77588835, 0.78172599, 0.81536613, 0.5       ,\n",
       "        0.        , 0.80236893, 0.89186073, 0.        , 0.85968099,\n",
       "        0.        , 0.88672954, 1.01593129, 0.83295593, 0.91584897,\n",
       "        0.86982524, 0.68360708, 0.        , 0.        , 1.02958668,\n",
       "        0.        , 0.875     , 0.        , 0.        , 0.        ,\n",
       "        0.40236893, 0.85355339, 0.        , 0.        , 0.        ,\n",
       "        0.        , 0.        , 0.33333333, 0.5       , 0.6       ,\n",
       "        0.75      , 0.        , 0.33333333, 0.        , 0.33333333,\n",
       "        0.        , 0.        , 0.        , 0.        , 0.        ,\n",
       "        0.33333333])}"
      ]
     },
     "execution_count": 17,
     "metadata": {},
     "output_type": "execute_result"
    }
   ],
   "source": [
    "traj_1.morphologies[0].signatures"
   ]
  },
  {
   "cell_type": "code",
   "execution_count": 42,
   "metadata": {
    "scrolled": true
   },
   "outputs": [],
   "source": [
    "def get_dist_matrix(traj_x, traj_y, sig_func):\n",
    "    dist_matrix = []\n",
    "\n",
    "    for morph_x in traj_x.morphologies:\n",
    "        row = []\n",
    "        sig_x = apply_to_components(morph_x.components, sig_func)\n",
    "        for morph_y in traj_y.morphologies:\n",
    "            sig_y = apply_to_components(morph_y.components, sig_func)\n",
    "            \n",
    "            if len(sig_x) == 0:\n",
    "                sig_x = [0.]\n",
    "            if len(sig_y) == 0:\n",
    "                sig_y = [0.]\n",
    "            row.append(emd_samples(sig_x, sig_y))\n",
    "        dist_matrix.append(row)\n",
    "\n",
    "    return np.array(dist_matrix)"
   ]
  },
  {
   "cell_type": "code",
   "execution_count": 52,
   "metadata": {},
   "outputs": [
    {
     "data": {
      "text/plain": [
       "'perimeter_area_ratio_sig'"
      ]
     },
     "execution_count": 52,
     "metadata": {},
     "output_type": "execute_result"
    }
   ],
   "source": [
    "perimeter_area_ratio_sig.__name__"
   ]
  },
  {
   "cell_type": "code",
   "execution_count": 45,
   "metadata": {},
   "outputs": [],
   "source": [
    "dist_matrix = get_dist_matrix(traj_1, traj_2, perimeter_area_ratio_sig)"
   ]
  },
  {
   "cell_type": "code",
   "execution_count": 46,
   "metadata": {},
   "outputs": [
    {
     "data": {
      "application/vnd.jupyter.widget-view+json": {
       "model_id": "264dbf7f2bce4639ba56c3a4cf6a4c7c",
       "version_major": 2,
       "version_minor": 0
      },
      "text/plain": [
       "VBox(children=(FigureWidget({\n",
       "    'data': [{'type': 'heatmap',\n",
       "              'uid': '00bbcf92-02c2-4c92-b729-d…"
      ]
     },
     "metadata": {},
     "output_type": "display_data"
    }
   ],
   "source": [
    "widget = visualization.get_distance_matrix_widget(\n",
    "    dist_matrix,\n",
    "    traj_1,\n",
    "    traj_2\n",
    ")\n",
    "display(widget)"
   ]
  },
  {
   "cell_type": "code",
   "execution_count": 49,
   "metadata": {},
   "outputs": [],
   "source": [
    "dist_matrix = get_dist_matrix(traj_1, traj_3, perimeter_area_ratio_sig)"
   ]
  },
  {
   "cell_type": "code",
   "execution_count": 51,
   "metadata": {},
   "outputs": [
    {
     "data": {
      "application/vnd.jupyter.widget-view+json": {
       "model_id": "215a2747a22045989142fd84148dac2e",
       "version_major": 2,
       "version_minor": 0
      },
      "text/plain": [
       "VBox(children=(FigureWidget({\n",
       "    'data': [{'type': 'heatmap',\n",
       "              'uid': 'fe370d5a-0212-4e90-801e-1…"
      ]
     },
     "metadata": {},
     "output_type": "display_data"
    }
   ],
   "source": [
    "widget = visualization.get_distance_matrix_widget(\n",
    "    dist_matrix,\n",
    "    traj_1,\n",
    "    traj_3\n",
    ")\n",
    "display(widget)"
   ]
  },
  {
   "cell_type": "markdown",
   "metadata": {},
   "source": [
    "# MDS"
   ]
  },
  {
   "cell_type": "code",
   "execution_count": null,
   "metadata": {},
   "outputs": [],
   "source": [
    "from sklearn.manifold import MDS\n",
    "from sklearn.preprocessing import normalize\n",
    "import matplotlib.pyplot as plt"
   ]
  },
  {
   "cell_type": "code",
   "execution_count": null,
   "metadata": {},
   "outputs": [],
   "source": [
    "dist_matrix = []\n",
    "\n",
    "sort_by = ['CHI', 'BR']\n",
    "for _, x_row in df_sigs.sort_values(sort_by).iterrows():\n",
    "    matrix_row = []\n",
    "    for _, y_row in df_sigs.sort_values(sort_by).iterrows():\n",
    "        matrix_row.append(emd_samples(x_row.perimeter_area_ratio_sig, y_row.perimeter_area_ratio_sig))\n",
    "    dist_matrix.append(matrix_row)\n",
    "\n",
    "dist_matrix = np.array(dist_matrix)"
   ]
  },
  {
   "cell_type": "code",
   "execution_count": null,
   "metadata": {},
   "outputs": [],
   "source": [
    "plt.imshow(dist_matrix)"
   ]
  },
  {
   "cell_type": "code",
   "execution_count": null,
   "metadata": {},
   "outputs": [],
   "source": [
    "dist_mds = MDS(dissimilarity='precomputed')\n",
    "dist_embedding = dist_mds.fit_transform(dist_matrix)\n",
    "\n",
    "dist_embedding[:, 0] -= min(dist_embedding[:, 0])\n",
    "dist_embedding[:, 1] -= min(dist_embedding[:, 1])\n",
    "\n",
    "dist_embedding[:, 0] /= max(dist_embedding[:, 0])\n",
    "dist_embedding[:, 1] /= max(dist_embedding[:, 1])\n",
    "\n",
    "plt.scatter(dist_embedding[:, 0], dist_embedding[:, 1], c=np.linspace(0, 1, num=dist_embedding.shape[0]))\n",
    "plt.show()"
   ]
  },
  {
   "cell_type": "code",
   "execution_count": null,
   "metadata": {},
   "outputs": [],
   "source": [
    "print(br_values)\n",
    "print(chi_values)"
   ]
  },
  {
   "cell_type": "code",
   "execution_count": null,
   "metadata": {},
   "outputs": [],
   "source": [
    "keys = [\n",
    "    { 'br': 0.5, 'chi': 2.8, 'version': 0 },\n",
    "    { 'br': 0.5, 'chi': 2.8, 'version': 1 },\n",
    "    { 'br': 0.56, 'chi': 3.4, 'version': 0 },\n",
    "    { 'br': 0.56, 'chi': 3.4, 'version': 1 }\n",
    "]\n",
    "\n",
    "sigs = []\n",
    "colors = []\n",
    "color_options = ['r', 'b', 'k', 'c']\n",
    "for kdx, key in enumerate(keys):\n",
    "    color_option = color_options[kdx]\n",
    "    traj = df[(df.BR == key['br']) & (df.CHI == key['chi']) & (df.version == key['version']) & (df.timestep != 0)]\n",
    "    for idx, row in traj.iterrows():\n",
    "        image = row.image.reshape((100, 400))\n",
    "        comps = processing.extract_components(image, background=1)\n",
    "        sig = processing.apply_to_components(comps, processing.perimeter_area_ratio_sig)\n",
    "        if len(sig) == 0:\n",
    "            continue\n",
    "        sigs.append(sig)\n",
    "        colors.append(color_option)"
   ]
  },
  {
   "cell_type": "code",
   "execution_count": null,
   "metadata": {},
   "outputs": [],
   "source": [
    "dist_matrix = []\n",
    "\n",
    "for sig_x in sigs:\n",
    "    matrix_row = []\n",
    "    for sig_y in sigs:\n",
    "        matrix_row.append(emd_samples(sig_x, sig_y))\n",
    "    dist_matrix.append(matrix_row)\n",
    "\n",
    "dist_matrix = np.array(dist_matrix)"
   ]
  },
  {
   "cell_type": "code",
   "execution_count": null,
   "metadata": {},
   "outputs": [],
   "source": [
    "dist_mds = MDS(dissimilarity='precomputed')\n",
    "dist_embedding = dist_mds.fit_transform(dist_matrix)\n",
    "\n",
    "# dist_embedding[:, 0] -= min(dist_embedding[:, 0])\n",
    "# dist_embedding[:, 1] -= min(dist_embedding[:, 1])\n",
    "\n",
    "# dist_embedding[:, 0] /= max(dist_embedding[:, 0])\n",
    "# dist_embedding[:, 1] /= max(dist_embedding[:, 1])\n",
    "\n",
    "plt.scatter(dist_embedding[:, 0], dist_embedding[:, 1], c=colors)\n",
    "plt.show()"
   ]
  },
  {
   "cell_type": "code",
   "execution_count": null,
   "metadata": {},
   "outputs": [],
   "source": [
    "plt.imshow(dist_matrix)"
   ]
  },
  {
   "cell_type": "code",
   "execution_count": null,
   "metadata": {},
   "outputs": [],
   "source": []
  }
 ],
 "metadata": {
  "kernelspec": {
   "display_name": "morphology-similarity",
   "language": "python",
   "name": "morphology-similarity"
  },
  "language_info": {
   "codemirror_mode": {
    "name": "ipython",
    "version": 3
   },
   "file_extension": ".py",
   "mimetype": "text/x-python",
   "name": "python",
   "nbconvert_exporter": "python",
   "pygments_lexer": "ipython3",
   "version": "3.6.9"
  }
 },
 "nbformat": 4,
 "nbformat_minor": 4
}
