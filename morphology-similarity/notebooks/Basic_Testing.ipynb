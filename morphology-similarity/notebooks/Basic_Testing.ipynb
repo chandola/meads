{
 "cells": [
  {
   "cell_type": "code",
   "execution_count": 1,
   "metadata": {},
   "outputs": [],
   "source": [
    "import pandas as pd\n",
    "import numpy as np\n",
    "from pyemd import emd_samples\n",
    "from IPython.display import display\n",
    "\n",
    "# To import packages from the parent directory\n",
    "import sys\n",
    "sys.path.insert(0,'..')\n",
    "\n",
    "# Autoreload allows us to update our code mid-notebook\n",
    "%load_ext autoreload\n",
    "%autoreload 2\n",
    "\n",
    "# Our code\n",
    "import processing\n",
    "import visualization"
   ]
  },
  {
   "cell_type": "markdown",
   "metadata": {},
   "source": [
    "# Data Processing"
   ]
  },
  {
   "cell_type": "code",
   "execution_count": 2,
   "metadata": {},
   "outputs": [
    {
     "name": "stdout",
     "output_type": "stream",
     "text": [
      "Length of df: 496\n"
     ]
    }
   ],
   "source": [
    "# Load the data in as a Pandas DataFrame\n",
    "df = pd.read_pickle('../data/sample_morphologies.pickle')\n",
    "print(f'Length of df: {len(df)}')"
   ]
  },
  {
   "cell_type": "markdown",
   "metadata": {},
   "source": [
    "We will use a data set containing 4 versions (i.e., different random initial values) of trajectories generated with parameters $BR \\in \\{ 0.50, 0.53, 0.56, 0.59\\}$ and $CHI \\in \\{ 2.2, 2.8, 3.4, 4.0 \\}$ for a total of 64 trajectories, each containing a number of morphologies.\n",
    "\n",
    "Since many of the morphology samples look very similar, we'll only keep the first and every 25th morphology (i.e., when `timestep % 25 == 0`) of each trajectory.  This will reduce processing time and make the visualizations easier to interpret."
   ]
  },
  {
   "cell_type": "code",
   "execution_count": 3,
   "metadata": {},
   "outputs": [
    {
     "name": "stdout",
     "output_type": "stream",
     "text": [
      "Unique BR values: [0.5  0.53 0.56 0.59]\n",
      "Unique CHI values: [2.2 2.8 3.4 4. ]\n",
      "Unique version values: [0 1 2 3]\n",
      "Total Trajectories: 64\n",
      "Total Morphologies: 496\n"
     ]
    }
   ],
   "source": [
    "print('Unique BR values:', np.unique(df.BR))\n",
    "print('Unique CHI values:', np.unique(df.CHI))\n",
    "print('Unique version values:', np.unique(df.version))\n",
    "print('Total Trajectories:', len(df.groupby(['BR', 'CHI', 'version'])))\n",
    "print('Total Morphologies:', len(df))"
   ]
  },
  {
   "cell_type": "code",
   "execution_count": 4,
   "metadata": {
    "colab": {
     "base_uri": "https://localhost:8080/",
     "height": 119
    },
    "colab_type": "code",
    "id": "scxjck0c2_Rk",
    "outputId": "ec6c8ac9-2e05-4628-e9ba-f28e8b69bb0a"
   },
   "outputs": [
    {
     "name": "stdout",
     "output_type": "stream",
     "text": [
      "BR                                                       0.56\n",
      "CHI                                                       3.4\n",
      "count                                                     266\n",
      "image       [0.03752598166465759, 0.03517324849963188, 0.0...\n",
      "timestep                                                  250\n",
      "version                                                     2\n",
      "Name: 206, dtype: object\n"
     ]
    }
   ],
   "source": [
    "# Print a sample record\n",
    "sample = df.iloc[206] # grab random sample\n",
    "print(sample) # print the sample record"
   ]
  },
  {
   "cell_type": "markdown",
   "metadata": {
    "colab_type": "text",
    "id": "l_hLbRJSA1k3"
   },
   "source": [
    "We can vizualize the data as a Heatmap with Plotly.  This function generates a template figure and it's layout to be used with our data."
   ]
  },
  {
   "cell_type": "code",
   "execution_count": 5,
   "metadata": {
    "colab": {
     "base_uri": "https://localhost:8080/",
     "height": 92
    },
    "colab_type": "code",
    "id": "Og5P_mN5Aqsw",
    "outputId": "1d471d4f-abec-4b02-be14-7d88310784a8"
   },
   "outputs": [
    {
     "data": {
      "application/vnd.jupyter.widget-view+json": {
       "model_id": "ba069598f65a4bc387077367610ac3f8",
       "version_major": 2,
       "version_minor": 0
      },
      "text/plain": [
       "FigureWidget({\n",
       "    'data': [{'hoverinfo': 'none',\n",
       "              'showscale': False,\n",
       "              'type': 'hea…"
      ]
     },
     "metadata": {},
     "output_type": "display_data"
    }
   ],
   "source": [
    "sample_image = sample.image.reshape((100, 400))\n",
    "visualization.get_image_figure(sample_image)#, height=250, width=1000)"
   ]
  },
  {
   "cell_type": "markdown",
   "metadata": {
    "colab_type": "text",
    "id": "sWfDbKKbC-2S"
   },
   "source": [
    "## Components\n",
    "\n",
    "We want to isolate each component for individual analysis."
   ]
  },
  {
   "cell_type": "code",
   "execution_count": 6,
   "metadata": {
    "colab": {
     "base_uri": "https://localhost:8080/",
     "height": 477
    },
    "colab_type": "code",
    "id": "0yQtRLDuD1I8",
    "outputId": "96ee2a2f-46b5-42b3-a978-56ab08ab0f35"
   },
   "outputs": [
    {
     "name": "stdout",
     "output_type": "stream",
     "text": [
      "Original\n"
     ]
    },
    {
     "data": {
      "application/vnd.jupyter.widget-view+json": {
       "model_id": "08cadf4d8ea445a88e55b1624bb43234",
       "version_major": 2,
       "version_minor": 0
      },
      "text/plain": [
       "FigureWidget({\n",
       "    'data': [{'hoverinfo': 'none',\n",
       "              'showscale': False,\n",
       "              'type': 'hea…"
      ]
     },
     "metadata": {},
     "output_type": "display_data"
    },
    {
     "name": "stdout",
     "output_type": "stream",
     "text": [
      "Component 0\n"
     ]
    },
    {
     "data": {
      "application/vnd.jupyter.widget-view+json": {
       "model_id": "4dbf25157ef04a619d9518eaf621aa0f",
       "version_major": 2,
       "version_minor": 0
      },
      "text/plain": [
       "FigureWidget({\n",
       "    'data': [{'hoverinfo': 'none',\n",
       "              'showscale': False,\n",
       "              'type': 'hea…"
      ]
     },
     "metadata": {},
     "output_type": "display_data"
    },
    {
     "name": "stdout",
     "output_type": "stream",
     "text": [
      "Component 25\n"
     ]
    },
    {
     "data": {
      "application/vnd.jupyter.widget-view+json": {
       "model_id": "ea7a22dbf1c0423aa593974b5100bb41",
       "version_major": 2,
       "version_minor": 0
      },
      "text/plain": [
       "FigureWidget({\n",
       "    'data': [{'hoverinfo': 'none',\n",
       "              'showscale': False,\n",
       "              'type': 'hea…"
      ]
     },
     "metadata": {},
     "output_type": "display_data"
    },
    {
     "name": "stdout",
     "output_type": "stream",
     "text": [
      "Component 50\n"
     ]
    },
    {
     "data": {
      "application/vnd.jupyter.widget-view+json": {
       "model_id": "510a64a8489148e4b136cf4db386072d",
       "version_major": 2,
       "version_minor": 0
      },
      "text/plain": [
       "FigureWidget({\n",
       "    'data': [{'hoverinfo': 'none',\n",
       "              'showscale': False,\n",
       "              'type': 'hea…"
      ]
     },
     "metadata": {},
     "output_type": "display_data"
    },
    {
     "name": "stdout",
     "output_type": "stream",
     "text": [
      "Component 75\n"
     ]
    },
    {
     "data": {
      "application/vnd.jupyter.widget-view+json": {
       "model_id": "ef6e69174e614d6c9b3a2f6bfd950197",
       "version_major": 2,
       "version_minor": 0
      },
      "text/plain": [
       "FigureWidget({\n",
       "    'data': [{'hoverinfo': 'none',\n",
       "              'showscale': False,\n",
       "              'type': 'hea…"
      ]
     },
     "metadata": {},
     "output_type": "display_data"
    },
    {
     "name": "stdout",
     "output_type": "stream",
     "text": [
      "Component 100\n"
     ]
    },
    {
     "data": {
      "application/vnd.jupyter.widget-view+json": {
       "model_id": "747caf8b43a545a9b13c0b7f0858aeed",
       "version_major": 2,
       "version_minor": 0
      },
      "text/plain": [
       "FigureWidget({\n",
       "    'data': [{'hoverinfo': 'none',\n",
       "              'showscale': False,\n",
       "              'type': 'hea…"
      ]
     },
     "metadata": {},
     "output_type": "display_data"
    }
   ],
   "source": [
    "components = processing.extract_components(sample_image)\n",
    "\n",
    "print('Original')\n",
    "display(visualization.get_image_figure(sample_image))\n",
    "\n",
    "for idx, component in enumerate(components):\n",
    "    if idx % 25 == 0:\n",
    "        print(f'Component {idx}')\n",
    "        display(visualization.get_image_figure(component))\n",
    "    if idx > 100:\n",
    "        break"
   ]
  },
  {
   "cell_type": "markdown",
   "metadata": {
    "colab_type": "text",
    "id": "5Y5ts86MFpiQ"
   },
   "source": [
    "# Earth Mover's Distance\n",
    "\n",
    "Introduced in the paper [\"A Metric for Distributions with Applications to Image Databases\"](https://users.cs.duke.edu/~tomasi/papers/rubner/rubnerIccv98.pdf), 1998 (Rubner, Tomasi, and Guibas), the Earth Mover's Distance (EMD) is a metric which can be used to determine the similarity between two distributions.\n",
    "\n",
    "EMD has many applications, including image database retrieval and GAN training.  A nice, brief explanation can be [found here](https://lilianweng.github.io/lil-log/2017/08/20/from-GAN-to-WGAN.html#what-is-wasserstein-distance), and a more thorough write-up can be [found here](http://infolab.stanford.edu/pub/cstr/reports/cs/tr/99/1620/CS-TR-99-1620.ch4.pdf)."
   ]
  },
  {
   "cell_type": "markdown",
   "metadata": {},
   "source": [
    "[PyEMD](https://pypi.org/project/pyemd/) provides an effecient implementation of the Earth Mover's Distance.  We can use it to determine pairwise EMDs for our sample morphologies.  To do this, we need to extract signatures from our images."
   ]
  },
  {
   "cell_type": "code",
   "execution_count": 7,
   "metadata": {},
   "outputs": [
    {
     "data": {
      "application/vnd.jupyter.widget-view+json": {
       "model_id": "2df359f346ea47fbb2c1a728371aad43",
       "version_major": 2,
       "version_minor": 0
      },
      "text/plain": [
       "FigureWidget({\n",
       "    'data': [{'hoverinfo': 'none',\n",
       "              'showscale': False,\n",
       "              'type': 'hea…"
      ]
     },
     "metadata": {},
     "output_type": "display_data"
    },
    {
     "data": {
      "application/vnd.jupyter.widget-view+json": {
       "model_id": "da33b43c930d435a969337cc052b1fc0",
       "version_major": 2,
       "version_minor": 0
      },
      "text/plain": [
       "FigureWidget({\n",
       "    'data': [{'hoverinfo': 'none',\n",
       "              'showscale': False,\n",
       "              'type': 'hea…"
      ]
     },
     "metadata": {},
     "output_type": "display_data"
    }
   ],
   "source": [
    "sample_x = df.iloc[206].image.reshape((100, 400))\n",
    "sample_y = df.iloc[103].image.reshape((100, 400))\n",
    "\n",
    "display(visualization.get_image_figure(sample_x))\n",
    "display(visualization.get_image_figure(sample_y))"
   ]
  },
  {
   "cell_type": "code",
   "execution_count": 8,
   "metadata": {},
   "outputs": [
    {
     "data": {
      "text/plain": [
       "0.47036472246696165"
      ]
     },
     "execution_count": 8,
     "metadata": {},
     "output_type": "execute_result"
    }
   ],
   "source": [
    "sigs_x = processing.apply_to_components(sample_x, processing.pixel_ratio_sig)\n",
    "sigs_y = processing.apply_to_components(sample_y, processing.pixel_ratio_sig)\n",
    "\n",
    "emd_samples(sigs_x, sigs_y)"
   ]
  },
  {
   "cell_type": "markdown",
   "metadata": {},
   "source": [
    "To better visualize the distances between morphologies, we may create a distance matrix."
   ]
  },
  {
   "cell_type": "code",
   "execution_count": 29,
   "metadata": {},
   "outputs": [],
   "source": [
    "def get_dist_matrix(sigs_x, sigs_y=None):\n",
    "    if sigs_y is None:\n",
    "        sigs_y = sigs_x\n",
    "    dist_matrix = []\n",
    "    for y in sigs_y:\n",
    "        row = []\n",
    "        for x in sigs_x:\n",
    "            row.append(emd_samples(x, y))\n",
    "        dist_matrix.append(row)\n",
    "    return dist_matrix"
   ]
  },
  {
   "cell_type": "markdown",
   "metadata": {},
   "source": [
    "We can extract signatures out of each of our images by applying them with `apply_signatures`"
   ]
  },
  {
   "cell_type": "code",
   "execution_count": 30,
   "metadata": {},
   "outputs": [],
   "source": [
    "def get_signatures(images, sig_funcs):\n",
    "    sigs = []\n",
    "    for image in images:\n",
    "        sigs.append(processing.apply_to_components(image, sig_funcs))\n",
    "    return sigs"
   ]
  },
  {
   "cell_type": "code",
   "execution_count": 31,
   "metadata": {},
   "outputs": [],
   "source": [
    "images = df.iloc[:10].image.apply(lambda d: d.reshape((100, 400)))\n",
    "sigs = get_signatures(images, processing.pixel_ratio_sig)"
   ]
  },
  {
   "cell_type": "code",
   "execution_count": 43,
   "metadata": {},
   "outputs": [
    {
     "data": {
      "application/vnd.jupyter.widget-view+json": {
       "model_id": "1b62504e1e4d4b39ae2294abd30f3126",
       "version_major": 2,
       "version_minor": 0
      },
      "text/plain": [
       "FigureWidget({\n",
       "    'data': [{'type': 'heatmap',\n",
       "              'uid': '3d9dcbcd-f636-4c14-980e-96b9bb8aedc7',\n",
       " …"
      ]
     },
     "metadata": {},
     "output_type": "display_data"
    }
   ],
   "source": [
    "viz = visualization.get_distance_matrix_figure(get_dist_matrix(sigs))\n",
    "viz.data[0].update(zmin=0., zmax=0.4) # this adjusts the color scale\n",
    "display(viz)"
   ]
  },
  {
   "cell_type": "code",
   "execution_count": null,
   "metadata": {},
   "outputs": [],
   "source": []
  }
 ],
 "metadata": {
  "kernelspec": {
   "display_name": "morphology-similarity",
   "language": "python",
   "name": "morphology-similarity"
  },
  "language_info": {
   "codemirror_mode": {
    "name": "ipython",
    "version": 3
   },
   "file_extension": ".py",
   "mimetype": "text/x-python",
   "name": "python",
   "nbconvert_exporter": "python",
   "pygments_lexer": "ipython3",
   "version": "3.6.9"
  }
 },
 "nbformat": 4,
 "nbformat_minor": 4
}
