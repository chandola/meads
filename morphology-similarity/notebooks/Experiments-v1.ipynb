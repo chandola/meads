{
 "cells": [
  {
   "cell_type": "code",
   "execution_count": 1,
   "metadata": {},
   "outputs": [],
   "source": [
    "import pandas as pd\n",
    "import numpy as np\n",
    "from pyemd import emd_samples\n",
    "from scipy import signal\n",
    "import plotly.graph_objects as go\n",
    "from IPython.display import display\n",
    "\n",
    "# To import packages from the parent directory\n",
    "import sys\n",
    "sys.path.insert(0,'..')\n",
    "\n",
    "# Autoreload allows us to update our code mid-notebook\n",
    "%load_ext autoreload\n",
    "%autoreload 2\n",
    "\n",
    "# Our code\n",
    "from main import processing, visualization"
   ]
  },
  {
   "cell_type": "code",
   "execution_count": 2,
   "metadata": {},
   "outputs": [
    {
     "name": "stdout",
     "output_type": "stream",
     "text": [
      "Length of df: 3017\n"
     ]
    }
   ],
   "source": [
    "# file_path = '../data/sample_morphologies.pickle'\n",
    "# file_path = '../data/20200423-1804_states.pickle'\n",
    "file_path = '../data/20200628-1935_states.pickle'\n",
    "df = pd.read_pickle(file_path)\n",
    "print(f'Length of df: {len(df)}')"
   ]
  },
  {
   "cell_type": "code",
   "execution_count": 3,
   "metadata": {},
   "outputs": [],
   "source": [
    "final_states = []\n",
    "for grouping, group in df.groupby(['BR', 'CHI', 'version']):\n",
    "    final_state = group[group.timestep == max(group.timestep)].iloc[0]\n",
    "    final_states.append(final_state)\n",
    "    \n",
    "df_finals = pd.DataFrame(final_states)"
   ]
  },
  {
   "cell_type": "code",
   "execution_count": 5,
   "metadata": {},
   "outputs": [],
   "source": [
    "sample = df_finals.iloc[0]"
   ]
  },
  {
   "cell_type": "code",
   "execution_count": 9,
   "metadata": {},
   "outputs": [
    {
     "data": {
      "application/vnd.jupyter.widget-view+json": {
       "model_id": "8feb6b73eb0343cea706eb646d2a033e",
       "version_major": 2,
       "version_minor": 0
      },
      "text/plain": [
       "FigureWidget({\n",
       "    'data': [{'hoverinfo': 'none',\n",
       "              'showscale': False,\n",
       "              'type': 'hea…"
      ]
     },
     "metadata": {},
     "output_type": "display_data"
    }
   ],
   "source": [
    "display(\n",
    "    visualization.get_image_figure(\n",
    "        np.array(sample.image).reshape((100, 400))\n",
    "    )\n",
    ")"
   ]
  },
  {
   "cell_type": "code",
   "execution_count": 23,
   "metadata": {},
   "outputs": [],
   "source": [
    "components = processing.extract_components(\n",
    "    processing.binarize(\n",
    "        np.array(sample.image).reshape((100, 400))\n",
    "    )\n",
    ")"
   ]
  },
  {
   "cell_type": "code",
   "execution_count": 33,
   "metadata": {},
   "outputs": [
    {
     "data": {
      "application/vnd.jupyter.widget-view+json": {
       "model_id": "a7513dd7abae40298df637b62e36b7ba",
       "version_major": 2,
       "version_minor": 0
      },
      "text/plain": [
       "FigureWidget({\n",
       "    'data': [{'hoverinfo': 'none',\n",
       "              'showscale': False,\n",
       "              'type': 'hea…"
      ]
     },
     "metadata": {},
     "output_type": "display_data"
    }
   ],
   "source": [
    "display(visualization.get_image_figure(components[17]))"
   ]
  },
  {
   "cell_type": "code",
   "execution_count": 34,
   "metadata": {},
   "outputs": [
    {
     "data": {
      "text/plain": [
       "0"
      ]
     },
     "execution_count": 34,
     "metadata": {},
     "output_type": "execute_result"
    }
   ],
   "source": [
    "processing.euler_number_sig(components[17])"
   ]
  },
  {
   "cell_type": "markdown",
   "metadata": {},
   "source": [
    "# Collect Signatures"
   ]
  },
  {
   "cell_type": "code",
   "execution_count": 219,
   "metadata": {},
   "outputs": [],
   "source": [
    "thresh = 0.5\n",
    "\n",
    "df_sigs = df_finals.copy()\n",
    "df_sigs['area_sig'] = np.empty(len(df_sigs), dtype=np.object)\n",
    "df_sigs['perimeter_sig'] = np.empty(len(df_sigs), dtype=np.object)\n",
    "df_sigs['euler_sig'] = np.empty(len(df_sigs), dtype=np.object)\n",
    "df_sigs['length_sig'] = np.empty(len(df_sigs), dtype=np.object)\n",
    "df_sigs['height_sig'] = np.empty(len(df_sigs), dtype=np.object)\n",
    "\n",
    "df_sigs['average_pixel_intensity'] = np.empty(len(df_sigs), dtype=np.object)\n",
    "df_sigs['welch'] = np.empty(len(df_sigs), dtype=np.object)\n",
    "df_sigs['mean_fft'] = np.empty(len(df_sigs), dtype=np.object)\n",
    "\n",
    "for idx, row in df_sigs.iterrows():\n",
    "    comp_sample = np.array(row.image).reshape((100, 400))\n",
    "    #comp_sample = processing.binarize(comp_sample, thresh)\n",
    "    comp_components = processing.extract_components(comp_sample, background=1)\n",
    "    df_sigs.at[\n",
    "        idx,\n",
    "        'perimeter_sig'\n",
    "    ] = processing.apply_to_components(comp_components, processing.perimeter_sig)\n",
    "\n",
    "    df_sigs.at[\n",
    "        idx,\n",
    "        'area_sig'\n",
    "    ] = processing.apply_to_components(comp_components, processing.area_sig)\n",
    "    \n",
    "    df_sigs.at[\n",
    "        idx,\n",
    "        'euler_sig'\n",
    "    ] = processing.apply_to_components(comp_components, processing.euler_number_sig)\n",
    "    \n",
    "    df_sigs.at[\n",
    "        idx,\n",
    "        'length_sig'\n",
    "    ] = processing.apply_to_components(comp_components, processing.length_sig)\n",
    "    \n",
    "    df_sigs.at[\n",
    "        idx,\n",
    "        'height_sig'\n",
    "    ] = processing.apply_to_components(comp_components, processing.height_sig)\n",
    "    \n",
    "    df_sigs.at[\n",
    "        idx,\n",
    "        'average_pixel_intensity'\n",
    "    ] = np.mean(comp_sample)\n",
    "    \n",
    "    f, pxx = signal.welch(comp_sample, nperseg=4)\n",
    "    df_sigs.at[\n",
    "        idx,\n",
    "        'welch'\n",
    "    ] = pxx\n",
    "    \n",
    "    df_sigs.at[\n",
    "        idx,\n",
    "        'mean_fft'\n",
    "    ] = np.mean(np.fft.fft2(comp_sample))"
   ]
  },
  {
   "cell_type": "markdown",
   "metadata": {},
   "source": [
    "# Component Analysis\n",
    "\n",
    "Examine the properties of components and signatures."
   ]
  },
  {
   "cell_type": "code",
   "execution_count": 220,
   "metadata": {},
   "outputs": [],
   "source": [
    "sample_x = df_sigs.iloc[40]\n",
    "sample_y = df_sigs.iloc[8]\n",
    "sample_z = df_sigs.iloc[52]\n",
    "sample_zz = df_sigs.iloc[53]"
   ]
  },
  {
   "cell_type": "code",
   "execution_count": 221,
   "metadata": {},
   "outputs": [
    {
     "data": {
      "application/vnd.jupyter.widget-view+json": {
       "model_id": "a805aa13c9704474b5170beb5fc58e3c",
       "version_major": 2,
       "version_minor": 0
      },
      "text/plain": [
       "FigureWidget({\n",
       "    'data': [{'hoverinfo': 'none',\n",
       "              'showscale': False,\n",
       "              'type': 'hea…"
      ]
     },
     "metadata": {},
     "output_type": "display_data"
    }
   ],
   "source": [
    "display(\n",
    "    visualization.get_image_figure(\n",
    "        processing.binarize(\n",
    "            np.array(sample_zz.image).reshape((100, 400)),\n",
    "            thresh\n",
    "        )\n",
    "    )\n",
    ")"
   ]
  },
  {
   "cell_type": "code",
   "execution_count": 222,
   "metadata": {},
   "outputs": [],
   "source": [
    "components = processing.extract_components(\n",
    "    processing.binarize(\n",
    "        np.array(sample_zz.image).reshape((100, 400)),\n",
    "        thresh\n",
    "    ),\n",
    "    background=1\n",
    ")"
   ]
  },
  {
   "cell_type": "code",
   "execution_count": 223,
   "metadata": {},
   "outputs": [
    {
     "data": {
      "application/vnd.jupyter.widget-view+json": {
       "model_id": "55abebbf139c4722856b33a6027127d8",
       "version_major": 2,
       "version_minor": 0
      },
      "text/plain": [
       "FigureWidget({\n",
       "    'data': [{'hoverinfo': 'none',\n",
       "              'showscale': False,\n",
       "              'type': 'hea…"
      ]
     },
     "metadata": {},
     "output_type": "display_data"
    }
   ],
   "source": [
    "display(visualization.get_image_figure(components[10]))"
   ]
  },
  {
   "cell_type": "code",
   "execution_count": 224,
   "metadata": {},
   "outputs": [],
   "source": [
    "import plotly.graph_objs as go"
   ]
  },
  {
   "cell_type": "code",
   "execution_count": 225,
   "metadata": {},
   "outputs": [
    {
     "data": {
      "application/vnd.jupyter.widget-view+json": {
       "model_id": "4622eb84642a409498b2edf076511e2a",
       "version_major": 2,
       "version_minor": 0
      },
      "text/plain": [
       "FigureWidget({\n",
       "    'data': [{'histnorm': 'probability',\n",
       "              'name': \"{'BR': 0.53, 'CHI': 2.2, 'versi…"
      ]
     },
     "metadata": {},
     "output_type": "display_data"
    }
   ],
   "source": [
    "sig_name = 'perimeter_sig'\n",
    "\n",
    "layout = go.Layout(\n",
    "    title=sig_name\n",
    ")\n",
    "\n",
    "xbins = dict(\n",
    "    start=0.,\n",
    "    end=1.,\n",
    "    size=0.05\n",
    ")\n",
    "\n",
    "fig = go.FigureWidget(\n",
    "    data=[\n",
    "        go.Histogram(\n",
    "            x=sample_x[sig_name],\n",
    "            name=str(dict(sample_x[['BR', 'CHI', 'version']])),\n",
    "            xbins=xbins,\n",
    "            histnorm='probability'\n",
    "        ),\n",
    "        go.Histogram(\n",
    "            x=sample_y[sig_name],\n",
    "            name=str(dict(sample_y[['BR', 'CHI', 'version']])),\n",
    "            xbins=xbins,\n",
    "            histnorm='probability'\n",
    "        ),\n",
    "        go.Histogram(\n",
    "            x=sample_z[sig_name],\n",
    "            name=str(dict(sample_z[['BR', 'CHI', 'version']])),\n",
    "            xbins=xbins,\n",
    "            histnorm='probability'\n",
    "        ),\n",
    "        go.Histogram(\n",
    "            x=sample_zz[sig_name],\n",
    "            name=str(dict(sample_zz[['BR', 'CHI', 'version']])),\n",
    "            xbins=xbins,\n",
    "            histnorm='probability'\n",
    "        )\n",
    "    ],\n",
    "    layout=layout\n",
    ")\n",
    "\n",
    "fig.update_layout(barmode='overlay')\n",
    "fig.update_traces(opacity=0.5)\n",
    "\n",
    "display(fig)"
   ]
  },
  {
   "cell_type": "code",
   "execution_count": 226,
   "metadata": {},
   "outputs": [
    {
     "data": {
      "application/vnd.jupyter.widget-view+json": {
       "model_id": "e17aa317413b42de9b3ad74f11872820",
       "version_major": 2,
       "version_minor": 0
      },
      "text/plain": [
       "FigureWidget({\n",
       "    'data': [{'histnorm': 'probability',\n",
       "              'name': \"{'BR': 0.53, 'CHI': 2.2, 'versi…"
      ]
     },
     "metadata": {},
     "output_type": "display_data"
    }
   ],
   "source": [
    "sig_name = 'area_sig'\n",
    "\n",
    "layout = go.Layout(\n",
    "    title=sig_name\n",
    ")\n",
    "\n",
    "xbins = dict(\n",
    "    start=0.,\n",
    "    end=1.,\n",
    "    size=0.05\n",
    ")\n",
    "\n",
    "fig = go.FigureWidget(\n",
    "    data=[\n",
    "        go.Histogram(\n",
    "            x=sample_x[sig_name],\n",
    "            name=str(dict(sample_x[['BR', 'CHI', 'version']])),\n",
    "            xbins=xbins,\n",
    "            histnorm='probability'\n",
    "        ),\n",
    "        go.Histogram(\n",
    "            x=sample_y[sig_name],\n",
    "            name=str(dict(sample_y[['BR', 'CHI', 'version']])),\n",
    "            xbins=xbins,\n",
    "            histnorm='probability'\n",
    "        ),\n",
    "        go.Histogram(\n",
    "            x=sample_z[sig_name],\n",
    "            name=str(dict(sample_z[['BR', 'CHI', 'version']])),\n",
    "            xbins=xbins,\n",
    "            histnorm='probability'\n",
    "        ),\n",
    "        go.Histogram(\n",
    "            x=sample_zz[sig_name],\n",
    "            name=str(dict(sample_zz[['BR', 'CHI', 'version']])),\n",
    "            xbins=xbins,\n",
    "            histnorm='probability'\n",
    "        )\n",
    "    ],\n",
    "    layout=layout\n",
    ")\n",
    "\n",
    "fig.update_layout(barmode='overlay')\n",
    "fig.update_traces(opacity=0.5)\n",
    "\n",
    "display(fig)"
   ]
  },
  {
   "cell_type": "code",
   "execution_count": 227,
   "metadata": {},
   "outputs": [
    {
     "data": {
      "application/vnd.jupyter.widget-view+json": {
       "model_id": "458938a6050142b39796f4b58e9fcda4",
       "version_major": 2,
       "version_minor": 0
      },
      "text/plain": [
       "FigureWidget({\n",
       "    'data': [{'histnorm': 'probability',\n",
       "              'name': \"{'BR': 0.53, 'CHI': 2.2, 'versi…"
      ]
     },
     "metadata": {},
     "output_type": "display_data"
    }
   ],
   "source": [
    "sig_name = 'euler_sig'\n",
    "\n",
    "layout = go.Layout(\n",
    "    title=sig_name\n",
    ")\n",
    "\n",
    "xbins = dict(\n",
    "    start=-3.,\n",
    "    end=3.,\n",
    "    size=1\n",
    ")\n",
    "\n",
    "fig = go.FigureWidget(\n",
    "    data=[\n",
    "        go.Histogram(\n",
    "            x=sample_x[sig_name],\n",
    "            name=str(dict(sample_x[['BR', 'CHI', 'version']])),\n",
    "            xbins=xbins,\n",
    "            histnorm='probability'\n",
    "        ),\n",
    "        go.Histogram(\n",
    "            x=sample_y[sig_name],\n",
    "            name=str(dict(sample_y[['BR', 'CHI', 'version']])),\n",
    "            xbins=xbins,\n",
    "            histnorm='probability'\n",
    "        ),\n",
    "        go.Histogram(\n",
    "            x=sample_z[sig_name],\n",
    "            name=str(dict(sample_z[['BR', 'CHI', 'version']])),\n",
    "            xbins=xbins,\n",
    "            histnorm='probability'\n",
    "        ),\n",
    "        go.Histogram(\n",
    "            x=sample_zz[sig_name],\n",
    "            name=str(dict(sample_zz[['BR', 'CHI', 'version']])),\n",
    "            xbins=xbins,\n",
    "            histnorm='probability'\n",
    "        )\n",
    "    ],\n",
    "    layout=layout\n",
    ")\n",
    "\n",
    "fig.update_layout(barmode='overlay')\n",
    "fig.update_traces(opacity=0.5)\n",
    "\n",
    "display(fig)"
   ]
  },
  {
   "cell_type": "code",
   "execution_count": 228,
   "metadata": {},
   "outputs": [
    {
     "data": {
      "application/vnd.jupyter.widget-view+json": {
       "model_id": "aec4fdf479fb44ed9a647743a3ea0384",
       "version_major": 2,
       "version_minor": 0
      },
      "text/plain": [
       "FigureWidget({\n",
       "    'data': [{'histnorm': 'probability',\n",
       "              'name': \"{'BR': 0.53, 'CHI': 2.2, 'versi…"
      ]
     },
     "metadata": {},
     "output_type": "display_data"
    }
   ],
   "source": [
    "sig_name = 'length_sig'\n",
    "\n",
    "layout = go.Layout(\n",
    "    title=sig_name\n",
    ")\n",
    "\n",
    "xbins = dict(\n",
    "    start=0.,\n",
    "    end=1.,\n",
    "    size=0.05\n",
    ")\n",
    "\n",
    "fig = go.FigureWidget(\n",
    "    data=[\n",
    "        go.Histogram(\n",
    "            x=sample_x[sig_name],\n",
    "            name=str(dict(sample_x[['BR', 'CHI', 'version']])),\n",
    "            xbins=xbins,\n",
    "            histnorm='probability'\n",
    "        ),\n",
    "        go.Histogram(\n",
    "            x=sample_y[sig_name],\n",
    "            name=str(dict(sample_y[['BR', 'CHI', 'version']])),\n",
    "            xbins=xbins,\n",
    "            histnorm='probability'\n",
    "        ),\n",
    "        go.Histogram(\n",
    "            x=sample_z[sig_name],\n",
    "            name=str(dict(sample_z[['BR', 'CHI', 'version']])),\n",
    "            xbins=xbins,\n",
    "            histnorm='probability'\n",
    "        ),\n",
    "        go.Histogram(\n",
    "            x=sample_zz[sig_name],\n",
    "            name=str(dict(sample_zz[['BR', 'CHI', 'version']])),\n",
    "            xbins=xbins,\n",
    "            histnorm='probability'\n",
    "        )\n",
    "    ],\n",
    "    layout=layout\n",
    ")\n",
    "\n",
    "fig.update_layout(barmode='overlay')\n",
    "fig.update_traces(opacity=0.5)\n",
    "\n",
    "display(fig)"
   ]
  },
  {
   "cell_type": "markdown",
   "metadata": {},
   "source": [
    "# Similarity Query\n",
    "\n",
    "Sort the dataset be most/least similar."
   ]
  },
  {
   "cell_type": "markdown",
   "metadata": {},
   "source": [
    "Set the query morphology."
   ]
  },
  {
   "cell_type": "code",
   "execution_count": 229,
   "metadata": {},
   "outputs": [
    {
     "name": "stdout",
     "output_type": "stream",
     "text": [
      "BR                                                                      0.53\n",
      "CHI                                                                      2.2\n",
      "count                                                                      3\n",
      "image                      [0.7153773903846741, 0.7025812864303589, 0.687...\n",
      "timestep                                                                  40\n",
      "version                                                                    0\n",
      "area_sig                   [1.0, 0.003, 1.0, 0.444, 0.005, 0.221, 1.0, 0....\n",
      "perimeter_sig              [1.0, 0.01, 1.0, 0.7983452377915605, 0.03, 0.4...\n",
      "euler_sig                  [1, 1, 1, 1, 1, 1, 1, 1, 1, 1, 1, 1, 1, 1, 1, ...\n",
      "length_sig                 [0.36, 0.01, 0.84, 0.12, 0.01, 0.13, 0.78, 0.0...\n",
      "height_sig                 [0.11, 0.0075, 0.145, 0.0925, 0.0125, 0.0425, ...\n",
      "average_pixel_intensity                                             0.530275\n",
      "welch                      [[0.0006501596073061037, 0.0016702889240287387...\n",
      "mean_fft                        (0.7153773903846742+1.1368683772161604e-17j)\n",
      "Name: 2241, dtype: object\n"
     ]
    },
    {
     "data": {
      "application/vnd.jupyter.widget-view+json": {
       "model_id": "d5c9d4e2852f494eb57fd7881afb768c",
       "version_major": 2,
       "version_minor": 0
      },
      "text/plain": [
       "FigureWidget({\n",
       "    'data': [{'hoverinfo': 'none',\n",
       "              'showscale': False,\n",
       "              'type': 'hea…"
      ]
     },
     "metadata": {},
     "output_type": "display_data"
    }
   ],
   "source": [
    "sample_idx = 40\n",
    "sample = df_sigs.iloc[sample_idx]\n",
    "sample_image = np.array(sample.image).reshape((100, 400))\n",
    "\n",
    "print(sample)\n",
    "display(visualization.get_image_figure(sample_image))"
   ]
  },
  {
   "cell_type": "markdown",
   "metadata": {},
   "source": [
    "Calculate distances between query sample signatures and database signatures."
   ]
  },
  {
   "cell_type": "code",
   "execution_count": 240,
   "metadata": {},
   "outputs": [],
   "source": [
    "def get_dist_df(sample):\n",
    "    dist_data = []\n",
    "\n",
    "    for idx, row in df_sigs.iterrows():\n",
    "        dist_data.append({\n",
    "            'BR': row.BR,\n",
    "            'CHI': row.CHI,\n",
    "            'version': row.version,\n",
    "            'image': row.image,\n",
    "            'emd_area': emd_samples(row.area_sig, sample.area_sig),\n",
    "            'emd_perimeter': emd_samples(row.perimeter_sig, sample.perimeter_sig),\n",
    "            'emd_euler': emd_samples(row.euler_sig, sample.euler_sig),\n",
    "            'emd_length': emd_samples(row.length_sig, sample.length_sig),\n",
    "            'emd_height': emd_samples(row.height_sig, sample.height_sig),\n",
    "            'emd_mixed': emd_samples(\n",
    "                np.stack([\n",
    "                    row.length_sig,\n",
    "                    row.height_sig,\n",
    "                    row.euler_sig,\n",
    "                    row.area_sig,\n",
    "                    row.perimeter_sig\n",
    "                ], axis=1),\n",
    "                np.stack([\n",
    "                    sample.length_sig,\n",
    "                    sample.height_sig,\n",
    "                    sample.euler_sig,\n",
    "                    sample.area_sig,\n",
    "                    sample.perimeter_sig\n",
    "                ], axis=1)\n",
    "            ),\n",
    "            'l2_average_pixel_intensity': np.linalg.norm(row.average_pixel_intensity - sample.average_pixel_intensity),\n",
    "            'l2_welch': np.linalg.norm(row.welch - sample.welch),\n",
    "            'l2_mean_fft': np.linalg.norm(row.mean_fft - sample.mean_fft)\n",
    "        })\n",
    "\n",
    "    return pd.DataFrame(dist_data)\n",
    "\n",
    "def get_accuracy(df_dist, sample, sig='emd_mixed'):\n",
    "    version_count = len(df_dist[(df_dist.BR == sample.BR) & (df_dist.CHI == sample.CHI)].version) + 5\n",
    "    top = df_dist.sort_values(sig).iloc[:version_count+1]\n",
    "    return (np.sum([(top.BR == sample.BR) & (top.CHI == sample.CHI)])-1)/version_count\n",
    "\n",
    "def get_accuracy_omit(df_dist, sample, sig='emd_mixed'):\n",
    "    version_count = len(df_dist[(df_dist.CHI == sample.CHI)].version) + 5\n",
    "    top = df_dist.sort_values(sig).iloc[:version_count+1]\n",
    "    return (np.sum([(top.CHI == sample.CHI)])-1)/version_count"
   ]
  },
  {
   "cell_type": "code",
   "execution_count": 241,
   "metadata": {},
   "outputs": [
    {
     "name": "stdout",
     "output_type": "stream",
     "text": [
      "682, 679, 673, 691, 676, 670, 694, 697, 688, 685, 2676, 2666, 2645, 2707, 2655, 2635, 2718, 2728, 2697, 2686, 2500, 2482, 2446, 2557, 2464, 2429, 2575, 2595, 2538, 2519, 2873, 2842, 2786, 2956, 2814, 2757, 2985, 3016, 2929, 2901, 2241, 2238, 2232, 2250, 2235, 2229, 2253, 2256, 2247, 2244, 975, 962, 936, 1013, 949, 923, 1025, 1037, 1000, 987, 805, 782, 741, 868, 762, 720, 890, 911, 848, 826, 151, 119, 57, 247, 88, 29, 275, 307, 215, 185, 2610, 2607, 2601, 2619, 2604, 2598, 2622, 2625, 2616, 2613, 2333, 2317, 2286, 2379, 2302, 2270, 2395, 2410, 2363, 2348, 1600, 1576, 1522, 1681, 1548, 1495, 1708, 1732, 1654, 1626, 491, 453, 379, 593, 416, 342, 630, 667, 560, 524, 1052, 1049, 1043, 1061, 1046, 1040, 1064, 1067, 1058, 1055, 1824, 1806, 1769, 1879, 1787, 1751, 1897, 1915, 1862, 1843, 2067, 2037, 1974, 2161, 2005, 1944, 2193, 2226, 2131, 2099, 1283, 1239, 1155, 1390, 1197, 1111, 1430, 1469, 1346, 1310, CPU times: user 2min 12s, sys: 164 ms, total: 2min 12s\n",
      "Wall time: 2min 12s\n"
     ]
    }
   ],
   "source": [
    "%%time\n",
    "\n",
    "dist_list = [\n",
    "    'emd_area',\n",
    "    'emd_perimeter',\n",
    "    'emd_euler',\n",
    "    'emd_length',\n",
    "    'emd_height',\n",
    "    'emd_mixed',\n",
    "    'l2_average_pixel_intensity',\n",
    "    'l2_welch',\n",
    "    'l2_mean_fft'\n",
    "]\n",
    "\n",
    "df_results = df_sigs.copy()\n",
    "for dist_name in dist_list:\n",
    "    df_results[f'{dist_name}_accuracy'] = np.zeros(len(df_results))\n",
    "\n",
    "for idx, sample in df_sigs.iterrows():\n",
    "    print(idx, end=', ')\n",
    "    df_dist = get_dist_df(sample)\n",
    "    for dist_name in dist_list:\n",
    "        df_results.at[idx, f'{dist_name}_accuracy'] = get_accuracy(df_dist, sample, sig=dist_name)\n",
    "        df_results.at[idx, f'{dist_name}_accuracy_omit'] = get_accuracy_omit(df_dist, sample, sig=dist_name)"
   ]
  },
  {
   "cell_type": "code",
   "execution_count": 242,
   "metadata": {},
   "outputs": [
    {
     "data": {
      "text/plain": [
       "emd_area_accuracy                      0.316250\n",
       "emd_perimeter_accuracy                 0.311667\n",
       "emd_euler_accuracy                     0.080000\n",
       "emd_length_accuracy                    0.334583\n",
       "emd_height_accuracy                    0.338333\n",
       "emd_mixed_accuracy                     0.314583\n",
       "l2_average_pixel_intensity_accuracy    0.249167\n",
       "l2_welch_accuracy                      0.289583\n",
       "l2_mean_fft_accuracy                   0.187083\n",
       "dtype: float64"
      ]
     },
     "execution_count": 242,
     "metadata": {},
     "output_type": "execute_result"
    }
   ],
   "source": [
    "df_results[[f'{dist_name}_accuracy' for dist_name in dist_list]].mean(axis=0)"
   ]
  },
  {
   "cell_type": "code",
   "execution_count": 245,
   "metadata": {},
   "outputs": [
    {
     "name": "stdout",
     "output_type": "stream",
     "text": [
      "H\n"
     ]
    }
   ],
   "source": [
    "print('H')"
   ]
  },
  {
   "cell_type": "code",
   "execution_count": 243,
   "metadata": {},
   "outputs": [
    {
     "data": {
      "application/vnd.jupyter.widget-view+json": {
       "model_id": "571727f1d1a448c2acc7501710025b83",
       "version_major": 2,
       "version_minor": 0
      },
      "text/plain": [
       "FigureWidget({\n",
       "    'data': [{'type': 'bar',\n",
       "              'uid': '20fc869b-0b4b-4a09-b06d-02faca125948',\n",
       "     …"
      ]
     },
     "metadata": {},
     "output_type": "display_data"
    }
   ],
   "source": [
    "go.FigureWidget(\n",
    "    go.Bar(\n",
    "        x=[dist_name for dist_name in dist_list],\n",
    "        y=df_results[[f'{dist_name}_accuracy' for dist_name in dist_list]].mean(axis=0),\n",
    "    ),\n",
    "    go.Layout(\n",
    "        title='Closest Query Accuracy',\n",
    "        height=750,\n",
    "        width=750,\n",
    "        xaxis=dict(\n",
    "            title='Query Mechanism'\n",
    "        ),\n",
    "        yaxis=dict(\n",
    "            title='Average Accuracy'\n",
    "        )\n",
    "    )\n",
    ")"
   ]
  },
  {
   "cell_type": "code",
   "execution_count": 244,
   "metadata": {},
   "outputs": [
    {
     "data": {
      "application/vnd.jupyter.widget-view+json": {
       "model_id": "13b5a8f5dc714efa92ea579b4e68e482",
       "version_major": 2,
       "version_minor": 0
      },
      "text/plain": [
       "FigureWidget({\n",
       "    'data': [{'type': 'bar',\n",
       "              'uid': 'd0d2be86-f305-4601-b004-3b7c0f6a2832',\n",
       "     …"
      ]
     },
     "metadata": {},
     "output_type": "display_data"
    }
   ],
   "source": [
    "go.FigureWidget(\n",
    "    go.Bar(\n",
    "        x=[dist_name for dist_name in dist_list],\n",
    "        y=df_results[[f'{dist_name}_accuracy_omit' for dist_name in dist_list]].mean(axis=0),\n",
    "    ),\n",
    "    go.Layout(\n",
    "        title='Closest Query Accuracy (Marginalized BR)',\n",
    "        height=750,\n",
    "        width=750,\n",
    "        xaxis=dict(\n",
    "            title='Query Mechanism'\n",
    "        ),\n",
    "        yaxis=dict(\n",
    "            title='Average Accuracy'\n",
    "        )\n",
    "    )\n",
    ")"
   ]
  },
  {
   "cell_type": "markdown",
   "metadata": {},
   "source": [
    "# TODO:\n",
    "\n",
    "- More/consistent data\n",
    "- Better signature extraction functions\n",
    "- Baseline working (Power Spectral Density)"
   ]
  },
  {
   "cell_type": "markdown",
   "metadata": {},
   "source": [
    "## Distance Matrix"
   ]
  },
  {
   "cell_type": "code",
   "execution_count": 28,
   "metadata": {},
   "outputs": [],
   "source": [
    "chi_values = df_sigs.CHI.unique()\n",
    "br_values = df_sigs.BR.unique()\n",
    "version_values = df_sigs.version.unique()\n",
    "\n",
    "def get_dist_matrix(sigs_x, sigs_y=None):\n",
    "    if sigs_y is None:\n",
    "        sigs_y = sigs_x\n",
    "    dist_matrix = []\n",
    "    for y in sigs_y:\n",
    "        row = []\n",
    "        for x in sigs_x:\n",
    "            row.append(emd_samples(x, y))\n",
    "        dist_matrix.append(row)\n",
    "    return dist_matrix"
   ]
  },
  {
   "cell_type": "code",
   "execution_count": 180,
   "metadata": {},
   "outputs": [
    {
     "data": {
      "text/plain": [
       "array([2.2, 2.8, 3.4, 4. ])"
      ]
     },
     "execution_count": 180,
     "metadata": {},
     "output_type": "execute_result"
    }
   ],
   "source": [
    "chi_values"
   ]
  },
  {
   "cell_type": "code",
   "execution_count": 181,
   "metadata": {},
   "outputs": [
    {
     "data": {
      "text/plain": [
       "array([0.5 , 0.53, 0.56, 0.59])"
      ]
     },
     "execution_count": 181,
     "metadata": {},
     "output_type": "execute_result"
    }
   ],
   "source": [
    "br_values"
   ]
  },
  {
   "cell_type": "code",
   "execution_count": 29,
   "metadata": {},
   "outputs": [
    {
     "name": "stdout",
     "output_type": "stream",
     "text": [
      "BR                                                                          0.56\n",
      "CHI                                                                          3.4\n",
      "count                                                                        166\n",
      "image                          [0.05490177869796753, 0.471236914396286, 0.918...\n",
      "timestep                                                                     150\n",
      "version                                                                        0\n",
      "perimeter_area_ratio_sig       [0.8017766952966369, 0.4088232977134285, 0.472...\n",
      "rect_area_ratio_sig            [0.5, 0.3333333333333333, 0.20952380952380953,...\n",
      "average_pixel_intensity_sig    [0.6666666666666666, 0.6111111111111112, 0.547...\n",
      "pixel_ratio_sig                [0.5, 0.6363636363636364, 0.8260869565217391, ...\n",
      "area_sig                       [0.00015, 0.0045, 0.00525, 0.0012, 0.00025, 0....\n",
      "length_sig                     [0.0075, 0.0225, 0.025, 0.015, 0.005, 0.0175, ...\n",
      "height_sig                     [0.02, 0.2, 0.21, 0.08, 0.05, 0.1, 0.08, 0.07,...\n",
      "average_pixel_intensity                                                 0.559764\n",
      "fft                                (0.05490177869796778-1.1368683772161603e-16j)\n",
      "Name: 224, dtype: object\n"
     ]
    },
    {
     "data": {
      "application/vnd.jupyter.widget-view+json": {
       "model_id": "1d74c41dbf0144eb9f880941fc3a6b1b",
       "version_major": 2,
       "version_minor": 0
      },
      "text/plain": [
       "FigureWidget({\n",
       "    'data': [{'hoverinfo': 'none',\n",
       "              'showscale': False,\n",
       "              'type': 'hea…"
      ]
     },
     "metadata": {},
     "output_type": "display_data"
    },
    {
     "name": "stdout",
     "output_type": "stream",
     "text": [
      "\n",
      "emd_perimeter_area_ratio\n"
     ]
    },
    {
     "data": {
      "application/vnd.jupyter.widget-view+json": {
       "model_id": "bfcbda112ee74c9da5197be2b1147496",
       "version_major": 2,
       "version_minor": 0
      },
      "text/plain": [
       "FigureWidget({\n",
       "    'data': [{'type': 'heatmap',\n",
       "              'uid': '619ac234-2e6d-419f-b9f7-cc4291eb91fa',\n",
       " …"
      ]
     },
     "metadata": {},
     "output_type": "display_data"
    },
    {
     "name": "stdout",
     "output_type": "stream",
     "text": [
      "emd_rect_area_ratio\n"
     ]
    },
    {
     "data": {
      "application/vnd.jupyter.widget-view+json": {
       "model_id": "cd133433215e4a66befd94c02d937a28",
       "version_major": 2,
       "version_minor": 0
      },
      "text/plain": [
       "FigureWidget({\n",
       "    'data': [{'type': 'heatmap',\n",
       "              'uid': '647c7e69-d871-4133-adb8-f53bf21c97ff',\n",
       " …"
      ]
     },
     "metadata": {},
     "output_type": "display_data"
    },
    {
     "name": "stdout",
     "output_type": "stream",
     "text": [
      "emd_average_pixel_intensity\n"
     ]
    },
    {
     "data": {
      "application/vnd.jupyter.widget-view+json": {
       "model_id": "b8d1127989eb45e3acb02f57be3fdcd3",
       "version_major": 2,
       "version_minor": 0
      },
      "text/plain": [
       "FigureWidget({\n",
       "    'data': [{'type': 'heatmap',\n",
       "              'uid': '57f71bfa-8335-41ab-b64d-e3d0eabdb118',\n",
       " …"
      ]
     },
     "metadata": {},
     "output_type": "display_data"
    },
    {
     "name": "stdout",
     "output_type": "stream",
     "text": [
      "emd_pixel_ratio\n"
     ]
    },
    {
     "data": {
      "application/vnd.jupyter.widget-view+json": {
       "model_id": "4a280c95ba6245d1925a898e5f745d8d",
       "version_major": 2,
       "version_minor": 0
      },
      "text/plain": [
       "FigureWidget({\n",
       "    'data': [{'type': 'heatmap',\n",
       "              'uid': 'c490adcb-7a80-4348-a516-bbc98612cc68',\n",
       " …"
      ]
     },
     "metadata": {},
     "output_type": "display_data"
    },
    {
     "name": "stdout",
     "output_type": "stream",
     "text": [
      "emd_area\n"
     ]
    },
    {
     "data": {
      "application/vnd.jupyter.widget-view+json": {
       "model_id": "657668ecccbe4f38ab78da8026eff5b1",
       "version_major": 2,
       "version_minor": 0
      },
      "text/plain": [
       "FigureWidget({\n",
       "    'data': [{'type': 'heatmap',\n",
       "              'uid': '03850178-9a7f-4a67-a5ca-876424e37de9',\n",
       " …"
      ]
     },
     "metadata": {},
     "output_type": "display_data"
    },
    {
     "name": "stdout",
     "output_type": "stream",
     "text": [
      "emd_length\n"
     ]
    },
    {
     "data": {
      "application/vnd.jupyter.widget-view+json": {
       "model_id": "b5799ecef26c48a2943f6b36239e3af1",
       "version_major": 2,
       "version_minor": 0
      },
      "text/plain": [
       "FigureWidget({\n",
       "    'data': [{'type': 'heatmap',\n",
       "              'uid': '02f53dbe-3898-4c34-9d50-a63d30af55fb',\n",
       " …"
      ]
     },
     "metadata": {},
     "output_type": "display_data"
    },
    {
     "name": "stdout",
     "output_type": "stream",
     "text": [
      "emd_height\n"
     ]
    },
    {
     "data": {
      "application/vnd.jupyter.widget-view+json": {
       "model_id": "dae58c2831a34dc99f7dadc44e0ec24b",
       "version_major": 2,
       "version_minor": 0
      },
      "text/plain": [
       "FigureWidget({\n",
       "    'data': [{'type': 'heatmap',\n",
       "              'uid': 'cdbaba6f-47d5-4aa4-94bb-d4d3bbe92277',\n",
       " …"
      ]
     },
     "metadata": {},
     "output_type": "display_data"
    },
    {
     "name": "stdout",
     "output_type": "stream",
     "text": [
      "emd_mixed\n"
     ]
    },
    {
     "data": {
      "application/vnd.jupyter.widget-view+json": {
       "model_id": "e540f32d51914f708f49e7fb456e4f70",
       "version_major": 2,
       "version_minor": 0
      },
      "text/plain": [
       "FigureWidget({\n",
       "    'data': [{'type': 'heatmap',\n",
       "              'uid': '512da6a7-3fbc-407c-8e4e-e7c7934dd342',\n",
       " …"
      ]
     },
     "metadata": {},
     "output_type": "display_data"
    },
    {
     "name": "stdout",
     "output_type": "stream",
     "text": [
      "l2_average_pixel_intensity\n"
     ]
    },
    {
     "data": {
      "application/vnd.jupyter.widget-view+json": {
       "model_id": "9a9a0b9ff8fe4953958f902016fe1781",
       "version_major": 2,
       "version_minor": 0
      },
      "text/plain": [
       "FigureWidget({\n",
       "    'data': [{'type': 'heatmap',\n",
       "              'uid': 'c405e515-4c8f-420f-89d4-1e3094f23f23',\n",
       " …"
      ]
     },
     "metadata": {},
     "output_type": "display_data"
    },
    {
     "name": "stdout",
     "output_type": "stream",
     "text": [
      "l2_fft\n"
     ]
    },
    {
     "data": {
      "application/vnd.jupyter.widget-view+json": {
       "model_id": "6a121f2c97844af583540a87bbe65af8",
       "version_major": 2,
       "version_minor": 0
      },
      "text/plain": [
       "FigureWidget({\n",
       "    'data': [{'type': 'heatmap',\n",
       "              'uid': '34661886-272f-4fef-a442-167e0177cd1b',\n",
       " …"
      ]
     },
     "metadata": {},
     "output_type": "display_data"
    }
   ],
   "source": [
    "dist_name_pretty = {\n",
    "    'emd_perimeter_area_ratio': 'Average EMD (Perimeter to Area Ratio)',\n",
    "    'emd_rect_area_ratio': 'Average EMD (Rectangle Area Ratio)',\n",
    "    'emd_average_pixel_intensity': 'Average EMD (Average Pixel Intensity)',\n",
    "    'emd_pixel_ratio': 'Pixel Ratio EMD',\n",
    "    'emd_area': 'Area EMD',\n",
    "    'emd_length': 'Length EMD',\n",
    "    'emd_height': 'Height EMD',\n",
    "    'emd_mixed': 'Mixed EMD',\n",
    "    'l2_average_pixel_intensity': 'Average L2 (Average Pixel Intensity)',\n",
    "    'l2_fft': 'Average L2 (FFT)'\n",
    "}\n",
    "\n",
    "print(sample)\n",
    "display(visualization.get_image_figure(sample_image))\n",
    "print()\n",
    "\n",
    "for dist_name in dist_list:\n",
    "    print(dist_name)\n",
    "    dist_matrix = []\n",
    "    for chi in chi_values:\n",
    "        row = []\n",
    "        for br in br_values:\n",
    "            version_dists = []\n",
    "            for version in version_values:\n",
    "                comp_sample = df_dist[\n",
    "                    (df_dist.CHI == chi) &\n",
    "                    (df_dist.BR == br) &\n",
    "                    (df_dist.version == version)\n",
    "                ].iloc[0]\n",
    "                if (comp_sample[['CHI', 'BR', 'version']] == sample[['CHI', 'BR', 'version']]).all():\n",
    "                    continue\n",
    "                version_dists.append(comp_sample[dist_name])\n",
    "            row.append(np.mean(version_dists))\n",
    "        dist_matrix.append(row)\n",
    "    \n",
    "    title = f'''$\\\\text{{{dist_name_pretty[dist_name]}}}\\\\\\\\\n",
    "    \\\\text{{Sample: }}(\\phi={sample.BR}, \\chi={sample.CHI}, \\\\text{{version}}={sample.version})$'''\n",
    "\n",
    "    viz = visualization.get_distance_matrix_figure(\n",
    "        dist_matrix,\n",
    "        labels_x = br_values,\n",
    "        labels_y = chi_values,\n",
    "        scaleanchor=None,\n",
    "        showticklabels=True,\n",
    "        title=title,\n",
    "        xtitle='$\\phi$',\n",
    "        ytitle='$\\chi$'\n",
    "    )\n",
    "    display(viz)"
   ]
  },
  {
   "cell_type": "markdown",
   "metadata": {},
   "source": [
    "# MDS"
   ]
  },
  {
   "cell_type": "code",
   "execution_count": 173,
   "metadata": {},
   "outputs": [],
   "source": [
    "from sklearn.manifold import MDS\n",
    "from sklearn.preprocessing import normalize\n",
    "import matplotlib.pyplot as plt"
   ]
  },
  {
   "cell_type": "code",
   "execution_count": 177,
   "metadata": {},
   "outputs": [],
   "source": [
    "dist_matrix = []\n",
    "\n",
    "sort_by = ['BR', 'CHI']\n",
    "for _, x_row in df_sigs.sort_values(sort_by).iterrows():\n",
    "    matrix_row = []\n",
    "    for _, y_row in df_sigs.sort_values(sort_by).iterrows():\n",
    "        matrix_row.append(emd_samples(x_row.height_sig, y_row.height_sig))\n",
    "    dist_matrix.append(matrix_row)\n",
    "\n",
    "dist_matrix = np.array(dist_matrix)"
   ]
  },
  {
   "cell_type": "code",
   "execution_count": 178,
   "metadata": {},
   "outputs": [
    {
     "data": {
      "text/plain": [
       "<matplotlib.image.AxesImage at 0x7f6a0557c278>"
      ]
     },
     "execution_count": 178,
     "metadata": {},
     "output_type": "execute_result"
    },
    {
     "data": {
      "image/png": "[encoded data removed]",
      "text/plain": [
       "<Figure size 432x288 with 1 Axes>"
      ]
     },
     "metadata": {
      "needs_background": "light"
     },
     "output_type": "display_data"
    }
   ],
   "source": [
    "plt.imshow(dist_matrix)"
   ]
  },
  {
   "cell_type": "code",
   "execution_count": 179,
   "metadata": {},
   "outputs": [
    {
     "data": {
      "image/png": "[encoded data removed]",
      "text/plain": [
       "<Figure size 432x288 with 1 Axes>"
      ]
     },
     "metadata": {
      "needs_background": "light"
     },
     "output_type": "display_data"
    }
   ],
   "source": [
    "dist_mds = MDS(dissimilarity='precomputed')\n",
    "dist_embedding = dist_mds.fit_transform(dist_matrix)\n",
    "\n",
    "dist_embedding[:, 0] -= min(dist_embedding[:, 0])\n",
    "dist_embedding[:, 1] -= min(dist_embedding[:, 1])\n",
    "\n",
    "dist_embedding[:, 0] /= max(dist_embedding[:, 0])\n",
    "dist_embedding[:, 1] /= max(dist_embedding[:, 1])\n",
    "\n",
    "plt.scatter(dist_embedding[:, 0], dist_embedding[:, 1], c=np.linspace(0, 1, num=dist_embedding.shape[0]))\n",
    "plt.show()"
   ]
  },
  {
   "cell_type": "code",
   "execution_count": null,
   "metadata": {},
   "outputs": [],
   "source": [
    "print(br_values)\n",
    "print(chi_values)"
   ]
  },
  {
   "cell_type": "code",
   "execution_count": null,
   "metadata": {},
   "outputs": [],
   "source": [
    "keys = [\n",
    "    { 'br': 0.5, 'chi': 2.8, 'version': 0 },\n",
    "    { 'br': 0.5, 'chi': 2.8, 'version': 1 },\n",
    "    { 'br': 0.56, 'chi': 3.4, 'version': 0 },\n",
    "    { 'br': 0.56, 'chi': 3.4, 'version': 1 }\n",
    "]\n",
    "\n",
    "sigs = []\n",
    "colors = []\n",
    "color_options = ['r', 'b', 'k', 'c']\n",
    "for kdx, key in enumerate(keys):\n",
    "    color_option = color_options[kdx]\n",
    "    traj = df[(df.BR == key['br']) & (df.CHI == key['chi']) & (df.version == key['version']) & (df.timestep != 0)]\n",
    "    for idx, row in traj.iterrows():\n",
    "        image = row.image.reshape((100, 400))\n",
    "        comps = processing.extract_components(image, background=1)\n",
    "        sig = processing.apply_to_components(comps, processing.perimeter_area_ratio_sig)\n",
    "        if len(sig) == 0:\n",
    "            continue\n",
    "        sigs.append(sig)\n",
    "        colors.append(color_option)"
   ]
  },
  {
   "cell_type": "code",
   "execution_count": null,
   "metadata": {},
   "outputs": [],
   "source": [
    "dist_matrix = []\n",
    "\n",
    "for sig_x in sigs:\n",
    "    matrix_row = []\n",
    "    for sig_y in sigs:\n",
    "        matrix_row.append(emd_samples(sig_x, sig_y))\n",
    "    dist_matrix.append(matrix_row)\n",
    "\n",
    "dist_matrix = np.array(dist_matrix)"
   ]
  },
  {
   "cell_type": "code",
   "execution_count": null,
   "metadata": {},
   "outputs": [],
   "source": [
    "dist_mds = MDS(dissimilarity='precomputed')\n",
    "dist_embedding = dist_mds.fit_transform(dist_matrix)\n",
    "\n",
    "# dist_embedding[:, 0] -= min(dist_embedding[:, 0])\n",
    "# dist_embedding[:, 1] -= min(dist_embedding[:, 1])\n",
    "\n",
    "# dist_embedding[:, 0] /= max(dist_embedding[:, 0])\n",
    "# dist_embedding[:, 1] /= max(dist_embedding[:, 1])\n",
    "\n",
    "plt.scatter(dist_embedding[:, 0], dist_embedding[:, 1], c=colors)\n",
    "plt.show()"
   ]
  },
  {
   "cell_type": "code",
   "execution_count": null,
   "metadata": {},
   "outputs": [],
   "source": [
    "plt.imshow(dist_matrix)"
   ]
  },
  {
   "cell_type": "code",
   "execution_count": null,
   "metadata": {},
   "outputs": [],
   "source": []
  }
 ],
 "metadata": {
  "kernelspec": {
   "display_name": "morphology-similarity",
   "language": "python",
   "name": "morphology-similarity"
  },
  "language_info": {
   "codemirror_mode": {
    "name": "ipython",
    "version": 3
   },
   "file_extension": ".py",
   "mimetype": "text/x-python",
   "name": "python",
   "nbconvert_exporter": "python",
   "pygments_lexer": "ipython3",
   "version": "3.6.9"
  }
 },
 "nbformat": 4,
 "nbformat_minor": 4
}
